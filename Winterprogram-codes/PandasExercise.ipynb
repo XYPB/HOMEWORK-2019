{
 "cells": [
  {
   "cell_type": "markdown",
   "metadata": {},
   "source": [
    "# More exercises!\n",
    "\n",
    "Tecnun - UNAV\n",
    "Winter Course 2019 <p>\n",
    "drosquete@ceit.es <p>\n",
    "    \n",
    "Now we have a list of 10.000 users on a file '10000.txt', and inside it there are the userID's of the coolest people ever!<p> To identify these people we have 2 other files 'CoolPeople.csv' with the names and more data, and 'CoolPeopleID.csv' that is ordered and matching the CoolPeople.csv data.<p>\n",
    "Also, we have a 'song_data.csv' containing a list of 1.000.000 songs.\n",
    "\n",
    "Now that you know your data... Let's exercise"
   ]
  },
  {
   "cell_type": "code",
   "execution_count": null,
   "metadata": {
    "collapsed": true
   },
   "outputs": [],
   "source": []
  },
  {
   "cell_type": "markdown",
   "metadata": {},
   "source": [
    "# Exercise 1\n",
    "Load the files: 'CoolPeople.csv', 'CoolPeopleID.csv' and merge them in 1 dataframe. Asume it is in order."
   ]
  },
  {
   "cell_type": "code",
   "execution_count": null,
   "metadata": {
    "collapsed": true
   },
   "outputs": [],
   "source": []
  },
  {
   "cell_type": "markdown",
   "metadata": {},
   "source": [
    "# Exercise 2:\n",
    "Which are Yi top 5 songs? <b>CLUE:</b> there is a function named <code>isin</code> that allows to check which of the values on a ndarray are on a DataFrame column "
   ]
  },
  {
   "cell_type": "code",
   "execution_count": null,
   "metadata": {
    "collapsed": true
   },
   "outputs": [],
   "source": []
  },
  {
   "cell_type": "markdown",
   "metadata": {},
   "source": [
    "# Exercise 3:\n",
    "Check between these cool people, the ones before 1999 (Inclusive), what songs do they like the most? There are two possible ways:\n",
    "* Sum their listen count and take the top 5\n",
    "* Check each top5 and take the ones in common\n",
    "<p>\n",
    "<p>Will you dare to do both ways?"
   ]
  },
  {
   "cell_type": "code",
   "execution_count": null,
   "metadata": {
    "collapsed": true
   },
   "outputs": [],
   "source": []
  }
 ],
 "metadata": {
  "kernelspec": {
   "display_name": "Python 3",
   "language": "python",
   "name": "python3"
  },
  "language_info": {
   "codemirror_mode": {
    "name": "ipython",
    "version": 3
   },
   "file_extension": ".py",
   "mimetype": "text/x-python",
   "name": "python",
   "nbconvert_exporter": "python",
   "pygments_lexer": "ipython3",
   "version": "3.6.8"
  }
 },
 "nbformat": 4,
 "nbformat_minor": 2
}
