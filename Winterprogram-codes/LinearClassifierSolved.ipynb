{
 "cells": [
  {
   "cell_type": "markdown",
   "metadata": {},
   "source": [
    "# Predicting sentiment from product reviews\n",
    "\n",
    "\n",
    "The goal of this notebook is to explore logistic regression.\n",
    "\n",
    "In this notebook you will use product review data from Amazon.com to predict whether the sentiments about a product (from its reviews) are positive or negative.\n",
    "\n",
    "* Use Pandas to do some feature engineering\n",
    "* Train a logistic regression model to predict the sentiment of product reviews.\n",
    "* Inspect the weights (coefficients) of a trained logistic regression model.\n",
    "* Make a prediction (both class and probability) of sentiment for products review.\n",
    "* Given the logistic regression weights, predictors and ground truth labels, compute the **accuracy** of the model.\n",
    "* Inspect the coefficients of the logistic regression model and interpret their meanings.\n",
    "\n",
    "Let's get started!\n",
    "    \n",
    "## Fire up Pandas and Scikit"
   ]
  },
  {
   "cell_type": "code",
   "execution_count": 1,
   "metadata": {},
   "outputs": [],
   "source": [
    "from sklearn import linear_model as lm\n",
    "from sklearn.feature_extraction import text\n",
    "from sklearn.model_selection import train_test_split\n",
    "from sklearn.feature_extraction.text import CountVectorizer # It will be used to create a observation_word_count sparseMatrix\n",
    "import numpy as np\n",
    "import pandas as pd\n",
    "import math\n",
    "import string\n",
    "import re # Regular Expressions library\n",
    "from collections import Counter # High-performance container datatypes\n",
    "np.random.seed(1234)"
   ]
  },
  {
   "cell_type": "markdown",
   "metadata": {},
   "source": [
    "\n",
    "# Data preparation\n",
    "\n",
    "We will use a dataset consisting of baby product reviews on Amazon.com."
   ]
  },
  {
   "cell_type": "code",
   "execution_count": 2,
   "metadata": {},
   "outputs": [
    {
     "data": {
      "text/html": [
       "<div>\n",
       "<style scoped>\n",
       "    .dataframe tbody tr th:only-of-type {\n",
       "        vertical-align: middle;\n",
       "    }\n",
       "\n",
       "    .dataframe tbody tr th {\n",
       "        vertical-align: top;\n",
       "    }\n",
       "\n",
       "    .dataframe thead th {\n",
       "        text-align: right;\n",
       "    }\n",
       "</style>\n",
       "<table border=\"1\" class=\"dataframe\">\n",
       "  <thead>\n",
       "    <tr style=\"text-align: right;\">\n",
       "      <th></th>\n",
       "      <th>name</th>\n",
       "      <th>review</th>\n",
       "      <th>rating</th>\n",
       "    </tr>\n",
       "  </thead>\n",
       "  <tbody>\n",
       "    <tr>\n",
       "      <th>0</th>\n",
       "      <td>Planetwise Flannel Wipes</td>\n",
       "      <td>These flannel wipes are OK, but in my opinion ...</td>\n",
       "      <td>3</td>\n",
       "    </tr>\n",
       "    <tr>\n",
       "      <th>1</th>\n",
       "      <td>Planetwise Wipe Pouch</td>\n",
       "      <td>it came early and was not disappointed. i love...</td>\n",
       "      <td>5</td>\n",
       "    </tr>\n",
       "    <tr>\n",
       "      <th>2</th>\n",
       "      <td>Annas Dream Full Quilt with 2 Shams</td>\n",
       "      <td>Very soft and comfortable and warmer than it l...</td>\n",
       "      <td>5</td>\n",
       "    </tr>\n",
       "    <tr>\n",
       "      <th>3</th>\n",
       "      <td>Stop Pacifier Sucking without tears with Thumb...</td>\n",
       "      <td>This is a product well worth the purchase.  I ...</td>\n",
       "      <td>5</td>\n",
       "    </tr>\n",
       "    <tr>\n",
       "      <th>4</th>\n",
       "      <td>Stop Pacifier Sucking without tears with Thumb...</td>\n",
       "      <td>All of my kids have cried non-stop when I trie...</td>\n",
       "      <td>5</td>\n",
       "    </tr>\n",
       "  </tbody>\n",
       "</table>\n",
       "</div>"
      ],
      "text/plain": [
       "                                                name  \\\n",
       "0                           Planetwise Flannel Wipes   \n",
       "1                              Planetwise Wipe Pouch   \n",
       "2                Annas Dream Full Quilt with 2 Shams   \n",
       "3  Stop Pacifier Sucking without tears with Thumb...   \n",
       "4  Stop Pacifier Sucking without tears with Thumb...   \n",
       "\n",
       "                                              review  rating  \n",
       "0  These flannel wipes are OK, but in my opinion ...       3  \n",
       "1  it came early and was not disappointed. i love...       5  \n",
       "2  Very soft and comfortable and warmer than it l...       5  \n",
       "3  This is a product well worth the purchase.  I ...       5  \n",
       "4  All of my kids have cried non-stop when I trie...       5  "
      ]
     },
     "execution_count": 2,
     "metadata": {},
     "output_type": "execute_result"
    }
   ],
   "source": [
    "dtype_dict = {'name':str, 'review':str, 'rating':int}\n",
    "products = pd.read_csv('amazon_baby.csv',dtype=dtype_dict)\n",
    "products.head()"
   ]
  },
  {
   "cell_type": "markdown",
   "metadata": {},
   "source": [
    "Now, let us see a preview of what the dataset looks like."
   ]
  },
  {
   "cell_type": "code",
   "execution_count": 3,
   "metadata": {},
   "outputs": [
    {
     "data": {
      "text/plain": [
       "name      object\n",
       "review    object\n",
       "rating     int32\n",
       "dtype: object"
      ]
     },
     "execution_count": 3,
     "metadata": {},
     "output_type": "execute_result"
    }
   ],
   "source": [
    "products.dtypes"
   ]
  },
  {
   "cell_type": "markdown",
   "metadata": {},
   "source": [
    "Let us explore a specific example of a baby product.\n"
   ]
  },
  {
   "cell_type": "code",
   "execution_count": 4,
   "metadata": {},
   "outputs": [
    {
     "data": {
      "text/plain": [
       "name               The First Years Massaging Action Teether\n",
       "review    I've bought several teethers and this i one of...\n",
       "rating                                                    5\n",
       "Name: 260, dtype: object"
      ]
     },
     "execution_count": 4,
     "metadata": {},
     "output_type": "execute_result"
    }
   ],
   "source": [
    "products.loc[260]"
   ]
  },
  {
   "cell_type": "markdown",
   "metadata": {},
   "source": [
    "## Build the word count vector for each review"
   ]
  },
  {
   "cell_type": "markdown",
   "metadata": {},
   "source": [
    "Now, we will perform 2 simple data transformations:\n",
    "\n",
    "1. Remove punctuation using [Python's built-in](https://docs.python.org/2/library/string.html) string functionality.\n",
    "2. Transform the reviews into word-counts.\n",
    "\n",
    "**Aside**. In this notebook, we remove all punctuations for the sake of simplicity. A smarter approach to punctuations would preserve phrases such as \"I'd\", \"would've\", \"hadn't\" and so forth. "
   ]
  },
  {
   "cell_type": "code",
   "execution_count": 5,
   "metadata": {},
   "outputs": [],
   "source": [
    "def count_words(s):\n",
    "    # Pass all the words to lowercase and split them\n",
    "    word_list = str(s).lower().split()\n",
    "    #Use regular expressions to take only the alphanumeric words values\n",
    "    words = re.findall(r'\\w+', str(word_list))\n",
    "    #Use Counter to get the word count\n",
    "    return Counter(words)\n",
    "def strip_punctuation(s):\n",
    "    return ''.join([i for i in str(s) if i not in string.punctuation])"
   ]
  },
  {
   "cell_type": "markdown",
   "metadata": {},
   "source": [
    "Apply the functions to create 2 new columns"
   ]
  },
  {
   "cell_type": "code",
   "execution_count": 6,
   "metadata": {},
   "outputs": [],
   "source": [
    "products['review_clean'] = products['review'].apply(strip_punctuation)\n",
    "products['word_count'] = products['review_clean'].apply(count_words)"
   ]
  },
  {
   "cell_type": "code",
   "execution_count": 7,
   "metadata": {},
   "outputs": [
    {
     "data": {
      "text/html": [
       "<div>\n",
       "<style scoped>\n",
       "    .dataframe tbody tr th:only-of-type {\n",
       "        vertical-align: middle;\n",
       "    }\n",
       "\n",
       "    .dataframe tbody tr th {\n",
       "        vertical-align: top;\n",
       "    }\n",
       "\n",
       "    .dataframe thead th {\n",
       "        text-align: right;\n",
       "    }\n",
       "</style>\n",
       "<table border=\"1\" class=\"dataframe\">\n",
       "  <thead>\n",
       "    <tr style=\"text-align: right;\">\n",
       "      <th></th>\n",
       "      <th>name</th>\n",
       "      <th>review</th>\n",
       "      <th>rating</th>\n",
       "      <th>review_clean</th>\n",
       "      <th>word_count</th>\n",
       "    </tr>\n",
       "  </thead>\n",
       "  <tbody>\n",
       "    <tr>\n",
       "      <th>0</th>\n",
       "      <td>Planetwise Flannel Wipes</td>\n",
       "      <td>These flannel wipes are OK, but in my opinion ...</td>\n",
       "      <td>3</td>\n",
       "      <td>These flannel wipes are OK but in my opinion n...</td>\n",
       "      <td>{'these': 1, 'flannel': 1, 'wipes': 3, 'are': ...</td>\n",
       "    </tr>\n",
       "    <tr>\n",
       "      <th>1</th>\n",
       "      <td>Planetwise Wipe Pouch</td>\n",
       "      <td>it came early and was not disappointed. i love...</td>\n",
       "      <td>5</td>\n",
       "      <td>it came early and was not disappointed i love ...</td>\n",
       "      <td>{'it': 3, 'came': 1, 'early': 1, 'and': 3, 'wa...</td>\n",
       "    </tr>\n",
       "    <tr>\n",
       "      <th>2</th>\n",
       "      <td>Annas Dream Full Quilt with 2 Shams</td>\n",
       "      <td>Very soft and comfortable and warmer than it l...</td>\n",
       "      <td>5</td>\n",
       "      <td>Very soft and comfortable and warmer than it l...</td>\n",
       "      <td>{'very': 1, 'soft': 1, 'and': 2, 'comfortable'...</td>\n",
       "    </tr>\n",
       "    <tr>\n",
       "      <th>3</th>\n",
       "      <td>Stop Pacifier Sucking without tears with Thumb...</td>\n",
       "      <td>This is a product well worth the purchase.  I ...</td>\n",
       "      <td>5</td>\n",
       "      <td>This is a product well worth the purchase  I h...</td>\n",
       "      <td>{'this': 4, 'is': 4, 'a': 2, 'product': 2, 'we...</td>\n",
       "    </tr>\n",
       "    <tr>\n",
       "      <th>4</th>\n",
       "      <td>Stop Pacifier Sucking without tears with Thumb...</td>\n",
       "      <td>All of my kids have cried non-stop when I trie...</td>\n",
       "      <td>5</td>\n",
       "      <td>All of my kids have cried nonstop when I tried...</td>\n",
       "      <td>{'all': 2, 'of': 1, 'my': 1, 'kids': 2, 'have'...</td>\n",
       "    </tr>\n",
       "  </tbody>\n",
       "</table>\n",
       "</div>"
      ],
      "text/plain": [
       "                                                name  \\\n",
       "0                           Planetwise Flannel Wipes   \n",
       "1                              Planetwise Wipe Pouch   \n",
       "2                Annas Dream Full Quilt with 2 Shams   \n",
       "3  Stop Pacifier Sucking without tears with Thumb...   \n",
       "4  Stop Pacifier Sucking without tears with Thumb...   \n",
       "\n",
       "                                              review  rating  \\\n",
       "0  These flannel wipes are OK, but in my opinion ...       3   \n",
       "1  it came early and was not disappointed. i love...       5   \n",
       "2  Very soft and comfortable and warmer than it l...       5   \n",
       "3  This is a product well worth the purchase.  I ...       5   \n",
       "4  All of my kids have cried non-stop when I trie...       5   \n",
       "\n",
       "                                        review_clean  \\\n",
       "0  These flannel wipes are OK but in my opinion n...   \n",
       "1  it came early and was not disappointed i love ...   \n",
       "2  Very soft and comfortable and warmer than it l...   \n",
       "3  This is a product well worth the purchase  I h...   \n",
       "4  All of my kids have cried nonstop when I tried...   \n",
       "\n",
       "                                          word_count  \n",
       "0  {'these': 1, 'flannel': 1, 'wipes': 3, 'are': ...  \n",
       "1  {'it': 3, 'came': 1, 'early': 1, 'and': 3, 'wa...  \n",
       "2  {'very': 1, 'soft': 1, 'and': 2, 'comfortable'...  \n",
       "3  {'this': 4, 'is': 4, 'a': 2, 'product': 2, 'we...  \n",
       "4  {'all': 2, 'of': 1, 'my': 1, 'kids': 2, 'have'...  "
      ]
     },
     "execution_count": 7,
     "metadata": {},
     "output_type": "execute_result"
    }
   ],
   "source": [
    "products.head()"
   ]
  },
  {
   "cell_type": "markdown",
   "metadata": {},
   "source": [
    "Use '' to fill the NaN reviews in case is any"
   ]
  },
  {
   "cell_type": "code",
   "execution_count": 8,
   "metadata": {},
   "outputs": [],
   "source": [
    "products = products.fillna({'review':''})"
   ]
  },
  {
   "cell_type": "markdown",
   "metadata": {},
   "source": [
    "Now, let us explore what the sample example above looks like after these 2 transformations. Here, each entry in the **word_count** column is a dictionary where the key is the word and the value is a count of the number of times the word occurs."
   ]
  },
  {
   "cell_type": "code",
   "execution_count": 9,
   "metadata": {},
   "outputs": [
    {
     "name": "stdout",
     "output_type": "stream",
     "text": [
      "This book is perfect  Im a first time new mom and this book made it so easy to keep track of feedings diaper changes sleep  Definitely would recommend this for new moms  Plus its small enough that I throw in the diaper back for doctor visits \n",
      " Counter({'this': 3, 'book': 2, 'new': 2, 'diaper': 2, 'for': 2, 'is': 1, 'perfect': 1, 'im': 1, 'a': 1, 'first': 1, 'time': 1, 'mom': 1, 'and': 1, 'made': 1, 'it': 1, 'so': 1, 'easy': 1, 'to': 1, 'keep': 1, 'track': 1, 'of': 1, 'feedings': 1, 'changes': 1, 'sleep': 1, 'definitely': 1, 'would': 1, 'recommend': 1, 'moms': 1, 'plus': 1, 'its': 1, 'small': 1, 'enough': 1, 'that': 1, 'i': 1, 'throw': 1, 'in': 1, 'the': 1, 'back': 1, 'doctor': 1, 'visits': 1})\n"
     ]
    }
   ],
   "source": [
    "print(products.loc[11]['review_clean'],\"\\n\",products.loc[11]['word_count'])"
   ]
  },
  {
   "cell_type": "markdown",
   "metadata": {},
   "source": [
    "## Extract sentiments\n",
    "\n",
    "We will **ignore** all reviews with *rating = 3*, since they tend to have a neutral sentiment."
   ]
  },
  {
   "cell_type": "code",
   "execution_count": 10,
   "metadata": {},
   "outputs": [
    {
     "data": {
      "text/plain": [
       "166752"
      ]
     },
     "execution_count": 10,
     "metadata": {},
     "output_type": "execute_result"
    }
   ],
   "source": [
    "products = products[products['rating'] != 3]\n",
    "len(products)"
   ]
  },
  {
   "cell_type": "markdown",
   "metadata": {},
   "source": [
    "Now, we will assign reviews with a rating of 4 or higher to be *positive* reviews, while the ones with rating of 2 or lower are *negative*. For the sentiment column, we use +1 for the positive class label and -1 for the negative class label."
   ]
  },
  {
   "cell_type": "code",
   "execution_count": 11,
   "metadata": {},
   "outputs": [
    {
     "data": {
      "text/html": [
       "<div>\n",
       "<style scoped>\n",
       "    .dataframe tbody tr th:only-of-type {\n",
       "        vertical-align: middle;\n",
       "    }\n",
       "\n",
       "    .dataframe tbody tr th {\n",
       "        vertical-align: top;\n",
       "    }\n",
       "\n",
       "    .dataframe thead th {\n",
       "        text-align: right;\n",
       "    }\n",
       "</style>\n",
       "<table border=\"1\" class=\"dataframe\">\n",
       "  <thead>\n",
       "    <tr style=\"text-align: right;\">\n",
       "      <th></th>\n",
       "      <th>name</th>\n",
       "      <th>review</th>\n",
       "      <th>rating</th>\n",
       "      <th>review_clean</th>\n",
       "      <th>word_count</th>\n",
       "      <th>sentiment</th>\n",
       "    </tr>\n",
       "  </thead>\n",
       "  <tbody>\n",
       "    <tr>\n",
       "      <th>136001</th>\n",
       "      <td>*The Art of CureTM *SAFETY KNOTTED* - Mixed Co...</td>\n",
       "      <td>I am not totally certain about it's effects in...</td>\n",
       "      <td>5</td>\n",
       "      <td>I am not totally certain about its effects in ...</td>\n",
       "      <td>{'i': 3, 'am': 1, 'not': 1, 'totally': 1, 'cer...</td>\n",
       "      <td>1</td>\n",
       "    </tr>\n",
       "    <tr>\n",
       "      <th>70358</th>\n",
       "      <td>American Baby Company Organic Cotton Quilted M...</td>\n",
       "      <td>We initially just bought one, used it so much ...</td>\n",
       "      <td>5</td>\n",
       "      <td>We initially just bought one used it so much b...</td>\n",
       "      <td>{'we': 4, 'initially': 1, 'just': 2, 'bought':...</td>\n",
       "      <td>1</td>\n",
       "    </tr>\n",
       "    <tr>\n",
       "      <th>113748</th>\n",
       "      <td>T Rex Night Light</td>\n",
       "      <td>Kind of cheesy looking... and very 1980ies. An...</td>\n",
       "      <td>2</td>\n",
       "      <td>Kind of cheesy looking and very 1980ies An old...</td>\n",
       "      <td>{'kind': 1, 'of': 1, 'cheesy': 1, 'looking': 1...</td>\n",
       "      <td>-1</td>\n",
       "    </tr>\n",
       "    <tr>\n",
       "      <th>35141</th>\n",
       "      <td>Pretty Pique Round Crib Bedding - Color Pink</td>\n",
       "      <td>I love this Pique crib bedding. It's a stunnin...</td>\n",
       "      <td>5</td>\n",
       "      <td>I love this Pique crib bedding Its a stunning ...</td>\n",
       "      <td>{'i': 1, 'love': 1, 'this': 1, 'pique': 1, 'cr...</td>\n",
       "      <td>1</td>\n",
       "    </tr>\n",
       "    <tr>\n",
       "      <th>68005</th>\n",
       "      <td>Boppy Rock in Comfort Travel Swing - Pink</td>\n",
       "      <td>This is the only swing we need for our Little ...</td>\n",
       "      <td>5</td>\n",
       "      <td>This is the only swing we need for our Little ...</td>\n",
       "      <td>{'this': 7, 'is': 8, 'the': 16, 'only': 3, 'sw...</td>\n",
       "      <td>1</td>\n",
       "    </tr>\n",
       "  </tbody>\n",
       "</table>\n",
       "</div>"
      ],
      "text/plain": [
       "                                                     name  \\\n",
       "136001  *The Art of CureTM *SAFETY KNOTTED* - Mixed Co...   \n",
       "70358   American Baby Company Organic Cotton Quilted M...   \n",
       "113748                                  T Rex Night Light   \n",
       "35141        Pretty Pique Round Crib Bedding - Color Pink   \n",
       "68005           Boppy Rock in Comfort Travel Swing - Pink   \n",
       "\n",
       "                                                   review  rating  \\\n",
       "136001  I am not totally certain about it's effects in...       5   \n",
       "70358   We initially just bought one, used it so much ...       5   \n",
       "113748  Kind of cheesy looking... and very 1980ies. An...       2   \n",
       "35141   I love this Pique crib bedding. It's a stunnin...       5   \n",
       "68005   This is the only swing we need for our Little ...       5   \n",
       "\n",
       "                                             review_clean  \\\n",
       "136001  I am not totally certain about its effects in ...   \n",
       "70358   We initially just bought one used it so much b...   \n",
       "113748  Kind of cheesy looking and very 1980ies An old...   \n",
       "35141   I love this Pique crib bedding Its a stunning ...   \n",
       "68005   This is the only swing we need for our Little ...   \n",
       "\n",
       "                                               word_count  sentiment  \n",
       "136001  {'i': 3, 'am': 1, 'not': 1, 'totally': 1, 'cer...          1  \n",
       "70358   {'we': 4, 'initially': 1, 'just': 2, 'bought':...          1  \n",
       "113748  {'kind': 1, 'of': 1, 'cheesy': 1, 'looking': 1...         -1  \n",
       "35141   {'i': 1, 'love': 1, 'this': 1, 'pique': 1, 'cr...          1  \n",
       "68005   {'this': 7, 'is': 8, 'the': 16, 'only': 3, 'sw...          1  "
      ]
     },
     "execution_count": 11,
     "metadata": {},
     "output_type": "execute_result"
    }
   ],
   "source": [
    "products['sentiment'] = products['rating'].apply(lambda rating : +1 if rating > 3 else -1)\n",
    "products.sample(n=5)"
   ]
  },
  {
   "cell_type": "markdown",
   "metadata": {},
   "source": [
    "Now, we can see that the dataset contains an extra column called **sentiment** which is either positive (+1) or negative (-1)."
   ]
  },
  {
   "cell_type": "markdown",
   "metadata": {},
   "source": [
    "## Split data into training and test sets"
   ]
  },
  {
   "cell_type": "markdown",
   "metadata": {},
   "source": [
    "There are 2 extra files. The train_idx and test_idx on json files. Use them to obtain the training and testing observations"
   ]
  },
  {
   "cell_type": "markdown",
   "metadata": {},
   "source": [
    "- The two .json file containing splited data indexes in the products DF"
   ]
  },
  {
   "cell_type": "code",
   "execution_count": 12,
   "metadata": {
    "scrolled": true
   },
   "outputs": [
    {
     "data": {
      "text/html": [
       "<div>\n",
       "<style scoped>\n",
       "    .dataframe tbody tr th:only-of-type {\n",
       "        vertical-align: middle;\n",
       "    }\n",
       "\n",
       "    .dataframe tbody tr th {\n",
       "        vertical-align: top;\n",
       "    }\n",
       "\n",
       "    .dataframe thead th {\n",
       "        text-align: right;\n",
       "    }\n",
       "</style>\n",
       "<table border=\"1\" class=\"dataframe\">\n",
       "  <thead>\n",
       "    <tr style=\"text-align: right;\">\n",
       "      <th></th>\n",
       "      <th>0</th>\n",
       "    </tr>\n",
       "  </thead>\n",
       "  <tbody>\n",
       "    <tr>\n",
       "      <th>76307</th>\n",
       "      <td>95250</td>\n",
       "    </tr>\n",
       "    <tr>\n",
       "      <th>2106</th>\n",
       "      <td>2646</td>\n",
       "    </tr>\n",
       "    <tr>\n",
       "      <th>124875</th>\n",
       "      <td>156044</td>\n",
       "    </tr>\n",
       "    <tr>\n",
       "      <th>70593</th>\n",
       "      <td>88080</td>\n",
       "    </tr>\n",
       "    <tr>\n",
       "      <th>34715</th>\n",
       "      <td>43347</td>\n",
       "    </tr>\n",
       "  </tbody>\n",
       "</table>\n",
       "</div>"
      ],
      "text/plain": [
       "             0\n",
       "76307    95250\n",
       "2106      2646\n",
       "124875  156044\n",
       "70593    88080\n",
       "34715    43347"
      ]
     },
     "execution_count": 12,
     "metadata": {},
     "output_type": "execute_result"
    }
   ],
   "source": [
    "trainIDX = pd.read_json('classification-train-idx.json')\n",
    "trainIDX.sample(n=5)"
   ]
  },
  {
   "cell_type": "code",
   "execution_count": 13,
   "metadata": {
    "scrolled": true
   },
   "outputs": [
    {
     "data": {
      "text/html": [
       "<div>\n",
       "<style scoped>\n",
       "    .dataframe tbody tr th:only-of-type {\n",
       "        vertical-align: middle;\n",
       "    }\n",
       "\n",
       "    .dataframe tbody tr th {\n",
       "        vertical-align: top;\n",
       "    }\n",
       "\n",
       "    .dataframe thead th {\n",
       "        text-align: right;\n",
       "    }\n",
       "</style>\n",
       "<table border=\"1\" class=\"dataframe\">\n",
       "  <thead>\n",
       "    <tr style=\"text-align: right;\">\n",
       "      <th></th>\n",
       "      <th>0</th>\n",
       "    </tr>\n",
       "  </thead>\n",
       "  <tbody>\n",
       "    <tr>\n",
       "      <th>10195</th>\n",
       "      <td>51152</td>\n",
       "    </tr>\n",
       "    <tr>\n",
       "      <th>23909</th>\n",
       "      <td>119672</td>\n",
       "    </tr>\n",
       "    <tr>\n",
       "      <th>8454</th>\n",
       "      <td>42488</td>\n",
       "    </tr>\n",
       "    <tr>\n",
       "      <th>29769</th>\n",
       "      <td>148932</td>\n",
       "    </tr>\n",
       "    <tr>\n",
       "      <th>26986</th>\n",
       "      <td>135113</td>\n",
       "    </tr>\n",
       "  </tbody>\n",
       "</table>\n",
       "</div>"
      ],
      "text/plain": [
       "            0\n",
       "10195   51152\n",
       "23909  119672\n",
       "8454    42488\n",
       "29769  148932\n",
       "26986  135113"
      ]
     },
     "execution_count": 13,
     "metadata": {},
     "output_type": "execute_result"
    }
   ],
   "source": [
    "testIDX = pd.read_json('classification-test-idx.json')\n",
    "testIDX.sample(n=5)"
   ]
  },
  {
   "cell_type": "markdown",
   "metadata": {},
   "source": [
    "Since the values are the indexes to keep, use iloc to obtain only the observations specified for each dataframe (train and test)"
   ]
  },
  {
   "cell_type": "code",
   "execution_count": 14,
   "metadata": {},
   "outputs": [
    {
     "data": {
      "text/html": [
       "<div>\n",
       "<style scoped>\n",
       "    .dataframe tbody tr th:only-of-type {\n",
       "        vertical-align: middle;\n",
       "    }\n",
       "\n",
       "    .dataframe tbody tr th {\n",
       "        vertical-align: top;\n",
       "    }\n",
       "\n",
       "    .dataframe thead th {\n",
       "        text-align: right;\n",
       "    }\n",
       "</style>\n",
       "<table border=\"1\" class=\"dataframe\">\n",
       "  <thead>\n",
       "    <tr style=\"text-align: right;\">\n",
       "      <th></th>\n",
       "      <th>name</th>\n",
       "      <th>review</th>\n",
       "      <th>rating</th>\n",
       "      <th>review_clean</th>\n",
       "      <th>word_count</th>\n",
       "      <th>sentiment</th>\n",
       "    </tr>\n",
       "  </thead>\n",
       "  <tbody>\n",
       "    <tr>\n",
       "      <th>1</th>\n",
       "      <td>Planetwise Wipe Pouch</td>\n",
       "      <td>it came early and was not disappointed. i love...</td>\n",
       "      <td>5</td>\n",
       "      <td>it came early and was not disappointed i love ...</td>\n",
       "      <td>{'it': 3, 'came': 1, 'early': 1, 'and': 3, 'wa...</td>\n",
       "      <td>1</td>\n",
       "    </tr>\n",
       "    <tr>\n",
       "      <th>2</th>\n",
       "      <td>Annas Dream Full Quilt with 2 Shams</td>\n",
       "      <td>Very soft and comfortable and warmer than it l...</td>\n",
       "      <td>5</td>\n",
       "      <td>Very soft and comfortable and warmer than it l...</td>\n",
       "      <td>{'very': 1, 'soft': 1, 'and': 2, 'comfortable'...</td>\n",
       "      <td>1</td>\n",
       "    </tr>\n",
       "    <tr>\n",
       "      <th>3</th>\n",
       "      <td>Stop Pacifier Sucking without tears with Thumb...</td>\n",
       "      <td>This is a product well worth the purchase.  I ...</td>\n",
       "      <td>5</td>\n",
       "      <td>This is a product well worth the purchase  I h...</td>\n",
       "      <td>{'this': 4, 'is': 4, 'a': 2, 'product': 2, 'we...</td>\n",
       "      <td>1</td>\n",
       "    </tr>\n",
       "    <tr>\n",
       "      <th>4</th>\n",
       "      <td>Stop Pacifier Sucking without tears with Thumb...</td>\n",
       "      <td>All of my kids have cried non-stop when I trie...</td>\n",
       "      <td>5</td>\n",
       "      <td>All of my kids have cried nonstop when I tried...</td>\n",
       "      <td>{'all': 2, 'of': 1, 'my': 1, 'kids': 2, 'have'...</td>\n",
       "      <td>1</td>\n",
       "    </tr>\n",
       "    <tr>\n",
       "      <th>5</th>\n",
       "      <td>Stop Pacifier Sucking without tears with Thumb...</td>\n",
       "      <td>When the Binky Fairy came to our house, we did...</td>\n",
       "      <td>5</td>\n",
       "      <td>When the Binky Fairy came to our house we didn...</td>\n",
       "      <td>{'when': 2, 'the': 6, 'binky': 3, 'fairy': 3, ...</td>\n",
       "      <td>1</td>\n",
       "    </tr>\n",
       "  </tbody>\n",
       "</table>\n",
       "</div>"
      ],
      "text/plain": [
       "                                                name  \\\n",
       "1                              Planetwise Wipe Pouch   \n",
       "2                Annas Dream Full Quilt with 2 Shams   \n",
       "3  Stop Pacifier Sucking without tears with Thumb...   \n",
       "4  Stop Pacifier Sucking without tears with Thumb...   \n",
       "5  Stop Pacifier Sucking without tears with Thumb...   \n",
       "\n",
       "                                              review  rating  \\\n",
       "1  it came early and was not disappointed. i love...       5   \n",
       "2  Very soft and comfortable and warmer than it l...       5   \n",
       "3  This is a product well worth the purchase.  I ...       5   \n",
       "4  All of my kids have cried non-stop when I trie...       5   \n",
       "5  When the Binky Fairy came to our house, we did...       5   \n",
       "\n",
       "                                        review_clean  \\\n",
       "1  it came early and was not disappointed i love ...   \n",
       "2  Very soft and comfortable and warmer than it l...   \n",
       "3  This is a product well worth the purchase  I h...   \n",
       "4  All of my kids have cried nonstop when I tried...   \n",
       "5  When the Binky Fairy came to our house we didn...   \n",
       "\n",
       "                                          word_count  sentiment  \n",
       "1  {'it': 3, 'came': 1, 'early': 1, 'and': 3, 'wa...          1  \n",
       "2  {'very': 1, 'soft': 1, 'and': 2, 'comfortable'...          1  \n",
       "3  {'this': 4, 'is': 4, 'a': 2, 'product': 2, 'we...          1  \n",
       "4  {'all': 2, 'of': 1, 'my': 1, 'kids': 2, 'have'...          1  \n",
       "5  {'when': 2, 'the': 6, 'binky': 3, 'fairy': 3, ...          1  "
      ]
     },
     "execution_count": 14,
     "metadata": {},
     "output_type": "execute_result"
    }
   ],
   "source": [
    "X_train = products.iloc[trainIDX[0].values]\n",
    "X_train.head()"
   ]
  },
  {
   "cell_type": "code",
   "execution_count": 15,
   "metadata": {},
   "outputs": [
    {
     "data": {
      "text/html": [
       "<div>\n",
       "<style scoped>\n",
       "    .dataframe tbody tr th:only-of-type {\n",
       "        vertical-align: middle;\n",
       "    }\n",
       "\n",
       "    .dataframe tbody tr th {\n",
       "        vertical-align: top;\n",
       "    }\n",
       "\n",
       "    .dataframe thead th {\n",
       "        text-align: right;\n",
       "    }\n",
       "</style>\n",
       "<table border=\"1\" class=\"dataframe\">\n",
       "  <thead>\n",
       "    <tr style=\"text-align: right;\">\n",
       "      <th></th>\n",
       "      <th>name</th>\n",
       "      <th>review</th>\n",
       "      <th>rating</th>\n",
       "      <th>review_clean</th>\n",
       "      <th>word_count</th>\n",
       "      <th>sentiment</th>\n",
       "    </tr>\n",
       "  </thead>\n",
       "  <tbody>\n",
       "    <tr>\n",
       "      <th>9</th>\n",
       "      <td>Baby Tracker&amp;reg; - Daily Childcare Journal, S...</td>\n",
       "      <td>This has been an easy way for my nanny to reco...</td>\n",
       "      <td>4</td>\n",
       "      <td>This has been an easy way for my nanny to reco...</td>\n",
       "      <td>{'this': 3, 'has': 1, 'been': 2, 'an': 1, 'eas...</td>\n",
       "      <td>1</td>\n",
       "    </tr>\n",
       "    <tr>\n",
       "      <th>10</th>\n",
       "      <td>Baby Tracker&amp;reg; - Daily Childcare Journal, S...</td>\n",
       "      <td>I love this journal and our nanny uses it ever...</td>\n",
       "      <td>4</td>\n",
       "      <td>I love this journal and our nanny uses it ever...</td>\n",
       "      <td>{'i': 7, 'love': 2, 'this': 2, 'journal': 1, '...</td>\n",
       "      <td>1</td>\n",
       "    </tr>\n",
       "    <tr>\n",
       "      <th>16</th>\n",
       "      <td>Nature's Lullabies First Year Sticker Calendar</td>\n",
       "      <td>I love this little calender, you can keep trac...</td>\n",
       "      <td>5</td>\n",
       "      <td>I love this little calender you can keep track...</td>\n",
       "      <td>{'i': 2, 'love': 1, 'this': 1, 'little': 1, 'c...</td>\n",
       "      <td>1</td>\n",
       "    </tr>\n",
       "    <tr>\n",
       "      <th>20</th>\n",
       "      <td>Nature's Lullabies Second Year Sticker Calendar</td>\n",
       "      <td>I had a hard time finding a second year calend...</td>\n",
       "      <td>5</td>\n",
       "      <td>I had a hard time finding a second year calend...</td>\n",
       "      <td>{'i': 5, 'had': 1, 'a': 6, 'hard': 1, 'time': ...</td>\n",
       "      <td>1</td>\n",
       "    </tr>\n",
       "    <tr>\n",
       "      <th>28</th>\n",
       "      <td>Lamaze Peekaboo, I Love You</td>\n",
       "      <td>One of baby's first and favorite books, and it...</td>\n",
       "      <td>4</td>\n",
       "      <td>One of babys first and favorite books and it i...</td>\n",
       "      <td>{'one': 1, 'of': 1, 'babys': 1, 'first': 1, 'a...</td>\n",
       "      <td>1</td>\n",
       "    </tr>\n",
       "  </tbody>\n",
       "</table>\n",
       "</div>"
      ],
      "text/plain": [
       "                                                 name  \\\n",
       "9   Baby Tracker&reg; - Daily Childcare Journal, S...   \n",
       "10  Baby Tracker&reg; - Daily Childcare Journal, S...   \n",
       "16     Nature's Lullabies First Year Sticker Calendar   \n",
       "20    Nature's Lullabies Second Year Sticker Calendar   \n",
       "28                        Lamaze Peekaboo, I Love You   \n",
       "\n",
       "                                               review  rating  \\\n",
       "9   This has been an easy way for my nanny to reco...       4   \n",
       "10  I love this journal and our nanny uses it ever...       4   \n",
       "16  I love this little calender, you can keep trac...       5   \n",
       "20  I had a hard time finding a second year calend...       5   \n",
       "28  One of baby's first and favorite books, and it...       4   \n",
       "\n",
       "                                         review_clean  \\\n",
       "9   This has been an easy way for my nanny to reco...   \n",
       "10  I love this journal and our nanny uses it ever...   \n",
       "16  I love this little calender you can keep track...   \n",
       "20  I had a hard time finding a second year calend...   \n",
       "28  One of babys first and favorite books and it i...   \n",
       "\n",
       "                                           word_count  sentiment  \n",
       "9   {'this': 3, 'has': 1, 'been': 2, 'an': 1, 'eas...          1  \n",
       "10  {'i': 7, 'love': 2, 'this': 2, 'journal': 1, '...          1  \n",
       "16  {'i': 2, 'love': 1, 'this': 1, 'little': 1, 'c...          1  \n",
       "20  {'i': 5, 'had': 1, 'a': 6, 'hard': 1, 'time': ...          1  \n",
       "28  {'one': 1, 'of': 1, 'babys': 1, 'first': 1, 'a...          1  "
      ]
     },
     "execution_count": 15,
     "metadata": {},
     "output_type": "execute_result"
    }
   ],
   "source": [
    "X_test = products.iloc[testIDX[0].values]\n",
    "X_test.head()"
   ]
  },
  {
   "cell_type": "code",
   "execution_count": 16,
   "metadata": {},
   "outputs": [
    {
     "name": "stdout",
     "output_type": "stream",
     "text": [
      "133416 33336\n"
     ]
    }
   ],
   "source": [
    "print(len(X_train),len(X_test))"
   ]
  },
  {
   "cell_type": "markdown",
   "metadata": {},
   "source": [
    "As we can see, is about 20% of the observations"
   ]
  },
  {
   "cell_type": "markdown",
   "metadata": {},
   "source": [
    "## Now, let's split the features from the target\n",
    "The target will be the column 'sentiment', to check if it is a good or bad feeling on the review"
   ]
  },
  {
   "cell_type": "code",
   "execution_count": 17,
   "metadata": {},
   "outputs": [],
   "source": [
    "X_trainy = X_train['sentiment']\n",
    "X_train = X_train[X_train.columns.drop('sentiment')]"
   ]
  },
  {
   "cell_type": "code",
   "execution_count": 18,
   "metadata": {},
   "outputs": [
    {
     "data": {
      "text/html": [
       "<div>\n",
       "<style scoped>\n",
       "    .dataframe tbody tr th:only-of-type {\n",
       "        vertical-align: middle;\n",
       "    }\n",
       "\n",
       "    .dataframe tbody tr th {\n",
       "        vertical-align: top;\n",
       "    }\n",
       "\n",
       "    .dataframe thead th {\n",
       "        text-align: right;\n",
       "    }\n",
       "</style>\n",
       "<table border=\"1\" class=\"dataframe\">\n",
       "  <thead>\n",
       "    <tr style=\"text-align: right;\">\n",
       "      <th></th>\n",
       "      <th>name</th>\n",
       "      <th>review</th>\n",
       "      <th>rating</th>\n",
       "      <th>review_clean</th>\n",
       "      <th>word_count</th>\n",
       "    </tr>\n",
       "  </thead>\n",
       "  <tbody>\n",
       "    <tr>\n",
       "      <th>114026</th>\n",
       "      <td>Motorola Digital Audio Baby Monitor</td>\n",
       "      <td>We have a rather large two story house (3500 s...</td>\n",
       "      <td>5</td>\n",
       "      <td>We have a rather large two story house 3500 sq...</td>\n",
       "      <td>{'we': 5, 'have': 1, 'a': 3, 'rather': 1, 'lar...</td>\n",
       "    </tr>\n",
       "  </tbody>\n",
       "</table>\n",
       "</div>"
      ],
      "text/plain": [
       "                                       name  \\\n",
       "114026  Motorola Digital Audio Baby Monitor   \n",
       "\n",
       "                                                   review  rating  \\\n",
       "114026  We have a rather large two story house (3500 s...       5   \n",
       "\n",
       "                                             review_clean  \\\n",
       "114026  We have a rather large two story house 3500 sq...   \n",
       "\n",
       "                                               word_count  \n",
       "114026  {'we': 5, 'have': 1, 'a': 3, 'rather': 1, 'lar...  "
      ]
     },
     "execution_count": 18,
     "metadata": {},
     "output_type": "execute_result"
    }
   ],
   "source": [
    "X_train.sample()"
   ]
  },
  {
   "cell_type": "code",
   "execution_count": 19,
   "metadata": {},
   "outputs": [],
   "source": [
    "X_testy = X_test['sentiment']\n",
    "X_test = X_test[X_test.columns.drop('sentiment')]"
   ]
  },
  {
   "cell_type": "markdown",
   "metadata": {},
   "source": [
    "# Train a sentiment classifier with logistic regression\n",
    "\n",
    "We will now use logistic regression to create a sentiment classifier on the training data. This model will use the column **word_count** as a feature and the column **sentiment** as the target.\n",
    "**Note:** This block may take 1-2 minutes."
   ]
  },
  {
   "cell_type": "code",
   "execution_count": 20,
   "metadata": {},
   "outputs": [],
   "source": [
    "# Use this token pattern to keep single-letter words\n",
    "vectorizer = CountVectorizer(token_pattern=r'\\b\\w+\\b')\n",
    "    \n",
    "    # fit_transform, learns vocabulary from the training data and assign columns to words\n",
    "    # Then convert the training data into a sparse matrix\n",
    "train_matrix = vectorizer.fit_transform(X_train['review_clean'])\n",
    "\n",
    "    # Second, convert the test data into a sparse matrix, using the same word-column mapping.\n",
    "    # if any word on the test is not present on the trained sparse_matrix, it will not\n",
    "    # count it\n",
    "test_matrix = vectorizer.transform(X_test['review_clean'])"
   ]
  },
  {
   "cell_type": "markdown",
   "metadata": {},
   "source": [
    "# Fit a model!\n",
    "Finally, after this process, we can make a logistic regression using the sparse matrix previously obtained.\n",
    "In this case, is important to take in consideration that instead of calling the features, we will use\n",
    "the sparse matrix as features **Note:** It could take a couple of minutes too"
   ]
  },
  {
   "cell_type": "code",
   "execution_count": 21,
   "metadata": {},
   "outputs": [
    {
     "name": "stderr",
     "output_type": "stream",
     "text": [
      "D:\\Anaconda2\\Anaconda\\envs\\mlcc\\lib\\site-packages\\sklearn\\linear_model\\logistic.py:433: FutureWarning: Default solver will be changed to 'lbfgs' in 0.22. Specify a solver to silence this warning.\n",
      "  FutureWarning)\n",
      "D:\\Anaconda2\\Anaconda\\envs\\mlcc\\lib\\site-packages\\sklearn\\svm\\base.py:931: ConvergenceWarning: Liblinear failed to converge, increase the number of iterations.\n",
      "  \"the number of iterations.\", ConvergenceWarning)\n"
     ]
    },
    {
     "data": {
      "text/plain": [
       "LogisticRegression(C=1.0, class_weight=None, dual=False, fit_intercept=True,\n",
       "          intercept_scaling=1, max_iter=100, multi_class='warn',\n",
       "          n_jobs=None, penalty='l2', random_state=None, solver='warn',\n",
       "          tol=0.0001, verbose=0, warm_start=False)"
      ]
     },
     "execution_count": 21,
     "metadata": {},
     "output_type": "execute_result"
    }
   ],
   "source": [
    "sentiment_model = lm.LogisticRegression()\n",
    "sentiment_model.fit(train_matrix,X_trainy)"
   ]
  },
  {
   "cell_type": "code",
   "execution_count": 22,
   "metadata": {},
   "outputs": [
    {
     "data": {
      "text/plain": [
       "(1, 121713)"
      ]
     },
     "execution_count": 22,
     "metadata": {},
     "output_type": "execute_result"
    }
   ],
   "source": [
    "sentiment_model.coef_.shape"
   ]
  },
  {
   "cell_type": "markdown",
   "metadata": {},
   "source": [
    "There are a total of `121713` coefficients in the model. Recall from the lecture that positive weights $w_j$ correspond to weights that cause positive sentiment, while negative weights correspond to negative sentiment. \n",
    "\n",
    "Fill in the following blocks of code to calculate how many *weights* are positive ( >= 0). (**Hint**: The `'value'` column in DataFrame *weights* must be positive ( >= 0))."
   ]
  },
  {
   "cell_type": "code",
   "execution_count": 23,
   "metadata": {},
   "outputs": [
    {
     "name": "stdout",
     "output_type": "stream",
     "text": [
      "85802\n"
     ]
    }
   ],
   "source": [
    "poscount = 0\n",
    "for i in range(121713):\n",
    "    if sentiment_model.coef_[0][i] > 0:\n",
    "        poscount += 1\n",
    "print(poscount)"
   ]
  },
  {
   "cell_type": "markdown",
   "metadata": {},
   "source": [
    "Now that we have fitted the model, we can extract the weights (coefficients) "
   ]
  },
  {
   "cell_type": "code",
   "execution_count": 24,
   "metadata": {},
   "outputs": [],
   "source": [
    "weights = sentiment_model.coef_.ravel()"
   ]
  },
  {
   "cell_type": "code",
   "execution_count": 25,
   "metadata": {},
   "outputs": [
    {
     "data": {
      "text/html": [
       "<div>\n",
       "<style scoped>\n",
       "    .dataframe tbody tr th:only-of-type {\n",
       "        vertical-align: middle;\n",
       "    }\n",
       "\n",
       "    .dataframe tbody tr th {\n",
       "        vertical-align: top;\n",
       "    }\n",
       "\n",
       "    .dataframe thead th {\n",
       "        text-align: right;\n",
       "    }\n",
       "</style>\n",
       "<table border=\"1\" class=\"dataframe\">\n",
       "  <thead>\n",
       "    <tr style=\"text-align: right;\">\n",
       "      <th></th>\n",
       "      <th>value</th>\n",
       "    </tr>\n",
       "  </thead>\n",
       "  <tbody>\n",
       "    <tr>\n",
       "      <th>0</th>\n",
       "      <td>-1.236477</td>\n",
       "    </tr>\n",
       "    <tr>\n",
       "      <th>1</th>\n",
       "      <td>0.000206</td>\n",
       "    </tr>\n",
       "    <tr>\n",
       "      <th>2</th>\n",
       "      <td>0.025447</td>\n",
       "    </tr>\n",
       "    <tr>\n",
       "      <th>3</th>\n",
       "      <td>0.006200</td>\n",
       "    </tr>\n",
       "    <tr>\n",
       "      <th>4</th>\n",
       "      <td>0.000046</td>\n",
       "    </tr>\n",
       "  </tbody>\n",
       "</table>\n",
       "</div>"
      ],
      "text/plain": [
       "      value\n",
       "0 -1.236477\n",
       "1  0.000206\n",
       "2  0.025447\n",
       "3  0.006200\n",
       "4  0.000046"
      ]
     },
     "execution_count": 25,
     "metadata": {},
     "output_type": "execute_result"
    }
   ],
   "source": [
    "weights = pd.DataFrame({'value':weights})\n",
    "weights.head()"
   ]
  },
  {
   "cell_type": "code",
   "execution_count": 26,
   "metadata": {},
   "outputs": [
    {
     "name": "stdout",
     "output_type": "stream",
     "text": [
      "Number of positive weights: 85802 \n",
      "Number of negative weights: 35911 \n"
     ]
    }
   ],
   "source": [
    "num_positive_weights = sum(weights['value'].apply(lambda value : 1 if value > 0 else 0))\n",
    "num_negative_weights = sum(weights['value'].apply(lambda value : 1 if value < 0 else 0))\n",
    "\n",
    "print(\"Number of positive weights: %s \" % num_positive_weights)\n",
    "print(\"Number of negative weights: %s \" % num_negative_weights)"
   ]
  },
  {
   "cell_type": "markdown",
   "metadata": {},
   "source": [
    "**Quiz question:** How many weights are >= 0?\n",
    "* 87053"
   ]
  },
  {
   "cell_type": "markdown",
   "metadata": {},
   "source": [
    "## Making predictions with logistic regression\n",
    "\n",
    "Now that a model is trained, we can make predictions on the **test data**. In this section, we will explore this in the context of 3 examples in the test dataset.  We refer to this set of 3 examples as the **sample_test_data**."
   ]
  },
  {
   "cell_type": "code",
   "execution_count": 27,
   "metadata": {},
   "outputs": [
    {
     "name": "stdout",
     "output_type": "stream",
     "text": [
      "                                                 name  \\\n",
      "59                          Our Baby Girl Memory Book   \n",
      "71  Wall Decor Removable Decal Sticker - Colorful ...   \n",
      "91  New Style Trailing Cherry Blossom Tree Decal R...   \n",
      "\n",
      "                                               review  rating  \\\n",
      "59  Absolutely love it and all of the Scripture in...       5   \n",
      "71  Would not purchase again or recommend. The dec...       2   \n",
      "91  Was so excited to get this product for my baby...       1   \n",
      "\n",
      "                                         review_clean  \\\n",
      "59  Absolutely love it and all of the Scripture in...   \n",
      "71  Would not purchase again or recommend The deca...   \n",
      "91  Was so excited to get this product for my baby...   \n",
      "\n",
      "                                           word_count  \n",
      "59  {'absolutely': 1, 'love': 1, 'it': 2, 'and': 2...  \n",
      "71  {'would': 2, 'not': 2, 'purchase': 1, 'again':...  \n",
      "91  {'was': 2, 'so': 1, 'excited': 1, 'to': 3, 'ge...  \n"
     ]
    }
   ],
   "source": [
    "sample_test_data = X_test[10:13]\n",
    "print(sample_test_data)"
   ]
  },
  {
   "cell_type": "markdown",
   "metadata": {},
   "source": [
    "Let's dig deeper into the first row of the **sample_test_data**. Here's the full review:"
   ]
  },
  {
   "cell_type": "code",
   "execution_count": 28,
   "metadata": {},
   "outputs": [
    {
     "data": {
      "text/plain": [
       "'Absolutely love it and all of the Scripture in it.  I purchased the Baby Boy version for my grandson when he was born and my daughter-in-law was thrilled to receive the same book again.'"
      ]
     },
     "execution_count": 28,
     "metadata": {},
     "output_type": "execute_result"
    }
   ],
   "source": [
    "sample_test_data.iloc[0]['review']"
   ]
  },
  {
   "cell_type": "markdown",
   "metadata": {},
   "source": [
    "That review seems pretty positive.\n",
    "\n",
    "Now, let's see what the next row of the **sample_test_data** looks like. As we could guess from the rating (2), the review is quite negative."
   ]
  },
  {
   "cell_type": "code",
   "execution_count": 29,
   "metadata": {},
   "outputs": [
    {
     "data": {
      "text/plain": [
       "'Would not purchase again or recommend. The decals were thick almost plastic like and were coming off the wall as I was applying them! The would NOT stick! Literally stayed stuck for about 5 minutes then started peeling off.'"
      ]
     },
     "execution_count": 29,
     "metadata": {},
     "output_type": "execute_result"
    }
   ],
   "source": [
    "sample_test_data.iloc[1]['review']"
   ]
  },
  {
   "cell_type": "code",
   "execution_count": 30,
   "metadata": {},
   "outputs": [
    {
     "data": {
      "text/plain": [
       "\"Was so excited to get this product for my baby girls bedroom!  When I got it the back is NOT STICKY at all!  Every time I walked into the bedroom I was picking up pieces off of the floor!  Very very frustrating!  Ended up having to super glue it to the wall...very disappointing.  I wouldn't waste the time or money on it.\""
      ]
     },
     "execution_count": 30,
     "metadata": {},
     "output_type": "execute_result"
    }
   ],
   "source": [
    "sample_test_data.iloc[2]['review']"
   ]
  },
  {
   "cell_type": "markdown",
   "metadata": {},
   "source": [
    "We will now make a **class** prediction for the **sample_test_data**. The `sentiment_model` should predict **+1** if the sentiment is positive and **-1** if the sentiment is negative. Recall from the lecture that the **score** (sometimes called **margin**) for the logistic regression model  is defined as:\n",
    "\n",
    "$$\n",
    "\\mbox{score}_i = \\mathbf{w}^T h(\\mathbf{x}_i)\n",
    "$$ \n",
    "\n",
    "where $h(\\mathbf{x}_i)$ represents the features for example $i$.  We will use some functions to obtain the **scores** using Scikit-learn. For each row, the **score** (or margin) is a number in the range **[-inf, inf]**. <p>\n",
    "The <b>decision_function</b> tells us on which side of the hyperplane generated by the classifier we are (and how far we are away from it)"
   ]
  },
  {
   "cell_type": "code",
   "execution_count": 31,
   "metadata": {},
   "outputs": [
    {
     "data": {
      "text/html": [
       "<div>\n",
       "<style scoped>\n",
       "    .dataframe tbody tr th:only-of-type {\n",
       "        vertical-align: middle;\n",
       "    }\n",
       "\n",
       "    .dataframe tbody tr th {\n",
       "        vertical-align: top;\n",
       "    }\n",
       "\n",
       "    .dataframe thead th {\n",
       "        text-align: right;\n",
       "    }\n",
       "</style>\n",
       "<table border=\"1\" class=\"dataframe\">\n",
       "  <thead>\n",
       "    <tr style=\"text-align: right;\">\n",
       "      <th></th>\n",
       "      <th>0</th>\n",
       "    </tr>\n",
       "  </thead>\n",
       "  <tbody>\n",
       "    <tr>\n",
       "      <th>0</th>\n",
       "      <td>5.566628</td>\n",
       "    </tr>\n",
       "    <tr>\n",
       "      <th>1</th>\n",
       "      <td>-3.171039</td>\n",
       "    </tr>\n",
       "    <tr>\n",
       "      <th>2</th>\n",
       "      <td>-10.429979</td>\n",
       "    </tr>\n",
       "  </tbody>\n",
       "</table>\n",
       "</div>"
      ],
      "text/plain": [
       "           0\n",
       "0   5.566628\n",
       "1  -3.171039\n",
       "2 -10.429979"
      ]
     },
     "execution_count": 31,
     "metadata": {},
     "output_type": "execute_result"
    }
   ],
   "source": [
    "sample_test_matrix = vectorizer.transform(sample_test_data['review_clean'])\n",
    "scores = sentiment_model.decision_function(sample_test_matrix)\n",
    "scores = pd.DataFrame(scores)\n",
    "scores"
   ]
  },
  {
   "cell_type": "markdown",
   "metadata": {},
   "source": [
    "### Predicting sentiment\n",
    "\n",
    "These scores can be used to make class predictions as follows:\n",
    "\n",
    "$$\n",
    "\\hat{y} = \n",
    "\\left\\{\n",
    "\\begin{array}{ll}\n",
    "      +1 & \\mathbf{w}^T h(\\mathbf{x}_i) > 0 \\\\\n",
    "      -1 & \\mathbf{w}^T h(\\mathbf{x}_i) \\leq 0 \\\\\n",
    "\\end{array} \n",
    "\\right.\n",
    "$$\n",
    "\n",
    "Using scores, write code to calculate $\\hat{y}$, the class predictions:"
   ]
  },
  {
   "cell_type": "code",
   "execution_count": 32,
   "metadata": {},
   "outputs": [
    {
     "data": {
      "text/plain": [
       "0    1\n",
       "1   -1\n",
       "2   -1\n",
       "Name: 0, dtype: int64"
      ]
     },
     "execution_count": 32,
     "metadata": {},
     "output_type": "execute_result"
    }
   ],
   "source": [
    "y_hat = scores[0].apply(lambda value : 1 if value > 0 else -1)\n",
    "y_hat"
   ]
  },
  {
   "cell_type": "markdown",
   "metadata": {},
   "source": [
    "Or use the predict function of the model as it is meant to be"
   ]
  },
  {
   "cell_type": "code",
   "execution_count": 33,
   "metadata": {},
   "outputs": [
    {
     "data": {
      "text/plain": [
       "array([ 1, -1, -1], dtype=int64)"
      ]
     },
     "execution_count": 33,
     "metadata": {},
     "output_type": "execute_result"
    }
   ],
   "source": [
    "sentiment_model.predict(sample_test_matrix)"
   ]
  },
  {
   "cell_type": "markdown",
   "metadata": {},
   "source": [
    "### Probability predictions\n",
    "\n",
    "Recall from the lectures that we can also calculate the probability predictions from the scores using:\n",
    "$$\n",
    "P(y_i = +1 | \\mathbf{x}_i,\\mathbf{w}) = \\frac{1}{1 + \\exp(-\\mathbf{w}^T h(\\mathbf{x}_i))}.\n",
    "$$\n",
    "\n",
    "Using the variable **scores** calculated previously, write code to calculate the probability that a sentiment is positive using the above formula. For each row, the probabilities should be a number in the range **[0, 1]**."
   ]
  },
  {
   "cell_type": "code",
   "execution_count": 34,
   "metadata": {},
   "outputs": [
    {
     "name": "stdout",
     "output_type": "stream",
     "text": [
      "          0\n",
      "0  0.996191\n",
      "1  0.040270\n",
      "2  0.000030\n"
     ]
    }
   ],
   "source": [
    "Probs = 1-(1/(1+np.exp(scores)))\n",
    "print(Probs)"
   ]
  },
  {
   "cell_type": "markdown",
   "metadata": {},
   "source": [
    "**Checkpoint**: Make sure your probability predictions match the ones obtained from the model functions."
   ]
  },
  {
   "cell_type": "code",
   "execution_count": 35,
   "metadata": {},
   "outputs": [
    {
     "name": "stdout",
     "output_type": "stream",
     "text": [
      "[[3.80878928e-03 9.96191211e-01]\n",
      " [9.59729773e-01 4.02702268e-02]\n",
      " [9.99970467e-01 2.95328277e-05]]\n"
     ]
    }
   ],
   "source": [
    "print(sentiment_model.predict_proba(sample_test_matrix))"
   ]
  },
  {
   "cell_type": "markdown",
   "metadata": {},
   "source": [
    "** Question:** Of the three data points in **sample_test_data**, which one (first, second, or third) has the **lowest probability** of being classified as a positive review?\n",
    "* The third one"
   ]
  },
  {
   "cell_type": "markdown",
   "metadata": {},
   "source": [
    "# Find the most positive (and negative) review"
   ]
  },
  {
   "cell_type": "markdown",
   "metadata": {},
   "source": [
    "We now turn to examining the full test dataset, **test_data**, and use Scikit-Learn to form predictions on all of the test data points for faster performance.\n",
    "\n",
    "Using the `sentiment_model`, find the 10 reviews in the entire **test_data** with the **highest probability** of being classified as a **positive review**. We refer to these as the \"most positive reviews.\"\n",
    "\n",
    "To calculate these top-20 reviews, use the following steps:\n",
    "1.  Make probability predictions on **test_data** using the `sentiment_model`. (**Hint:** Instead of calling `.predict` to make predictions on the test data, call `.predict.proba` to output the probability rather than just the most likely class.)\n",
    "2.  Sort the data according to those predictions and pick the top 10."
   ]
  },
  {
   "cell_type": "code",
   "execution_count": 36,
   "metadata": {},
   "outputs": [
    {
     "data": {
      "text/html": [
       "<div>\n",
       "<style scoped>\n",
       "    .dataframe tbody tr th:only-of-type {\n",
       "        vertical-align: middle;\n",
       "    }\n",
       "\n",
       "    .dataframe tbody tr th {\n",
       "        vertical-align: top;\n",
       "    }\n",
       "\n",
       "    .dataframe thead th {\n",
       "        text-align: right;\n",
       "    }\n",
       "</style>\n",
       "<table border=\"1\" class=\"dataframe\">\n",
       "  <thead>\n",
       "    <tr style=\"text-align: right;\">\n",
       "      <th></th>\n",
       "      <th>name</th>\n",
       "      <th>review</th>\n",
       "      <th>rating</th>\n",
       "      <th>review_clean</th>\n",
       "      <th>word_count</th>\n",
       "      <th>prob</th>\n",
       "    </tr>\n",
       "  </thead>\n",
       "  <tbody>\n",
       "    <tr>\n",
       "      <th>147949</th>\n",
       "      <td>Baby Jogger City Mini GT Single Stroller, Shad...</td>\n",
       "      <td>Amazing, Love, Love, Love it !!! All 5 STARS a...</td>\n",
       "      <td>5</td>\n",
       "      <td>Amazing Love Love Love it  All 5 STARS all the...</td>\n",
       "      <td>{'amazing': 1, 'love': 4, 'it': 7, 'all': 3, '...</td>\n",
       "      <td>1.0</td>\n",
       "    </tr>\n",
       "    <tr>\n",
       "      <th>97325</th>\n",
       "      <td>Freemie Hands-Free Concealable Breast Pump Col...</td>\n",
       "      <td>I absolutely love this product.  I work as a C...</td>\n",
       "      <td>5</td>\n",
       "      <td>I absolutely love this product  I work as a Cu...</td>\n",
       "      <td>{'i': 38, 'absolutely': 1, 'love': 1, 'this': ...</td>\n",
       "      <td>1.0</td>\n",
       "    </tr>\n",
       "    <tr>\n",
       "      <th>119182</th>\n",
       "      <td>Roan Rocco Classic Pram Stroller 2-in-1 with B...</td>\n",
       "      <td>Great Pram Rocco!!!!!!I bought this pram from ...</td>\n",
       "      <td>5</td>\n",
       "      <td>Great Pram RoccoI bought this pram from Europe...</td>\n",
       "      <td>{'great': 4, 'pram': 10, 'roccoi': 1, 'bought'...</td>\n",
       "      <td>1.0</td>\n",
       "    </tr>\n",
       "    <tr>\n",
       "      <th>133651</th>\n",
       "      <td>Britax 2012 B-Agile Stroller, Red</td>\n",
       "      <td>[I got this stroller for my daughter prior to ...</td>\n",
       "      <td>4</td>\n",
       "      <td>I got this stroller for my daughter prior to t...</td>\n",
       "      <td>{'i': 22, 'got': 3, 'this': 17, 'stroller': 22...</td>\n",
       "      <td>1.0</td>\n",
       "    </tr>\n",
       "    <tr>\n",
       "      <th>80155</th>\n",
       "      <td>Simple Wishes Hands-Free Breastpump Bra, Pink,...</td>\n",
       "      <td>I just tried this hands free breastpump bra, a...</td>\n",
       "      <td>5</td>\n",
       "      <td>I just tried this hands free breastpump bra an...</td>\n",
       "      <td>{'i': 23, 'just': 4, 'tried': 2, 'this': 4, 'h...</td>\n",
       "      <td>1.0</td>\n",
       "    </tr>\n",
       "    <tr>\n",
       "      <th>50315</th>\n",
       "      <td>P'Kolino Silly Soft Seating in Tias, Green</td>\n",
       "      <td>I've purchased both the P'Kolino Little Reader...</td>\n",
       "      <td>4</td>\n",
       "      <td>Ive purchased both the PKolino Little Reader C...</td>\n",
       "      <td>{'ive': 1, 'purchased': 1, 'both': 3, 'the': 3...</td>\n",
       "      <td>1.0</td>\n",
       "    </tr>\n",
       "    <tr>\n",
       "      <th>168697</th>\n",
       "      <td>Graco FastAction Fold Jogger Click Connect Str...</td>\n",
       "      <td>Graco's FastAction Jogging Stroller definitely...</td>\n",
       "      <td>5</td>\n",
       "      <td>Gracos FastAction Jogging Stroller definitely ...</td>\n",
       "      <td>{'gracos': 1, 'fastaction': 2, 'jogging': 2, '...</td>\n",
       "      <td>1.0</td>\n",
       "    </tr>\n",
       "    <tr>\n",
       "      <th>52631</th>\n",
       "      <td>Evenflo X Sport Plus Convenience Stroller - Ch...</td>\n",
       "      <td>After seeing this in Parent's Magazine and rea...</td>\n",
       "      <td>5</td>\n",
       "      <td>After seeing this in Parents Magazine and read...</td>\n",
       "      <td>{'after': 2, 'seeing': 1, 'this': 12, 'in': 6,...</td>\n",
       "      <td>1.0</td>\n",
       "    </tr>\n",
       "    <tr>\n",
       "      <th>114796</th>\n",
       "      <td>Fisher-Price Cradle 'N Swing,  My Little Snuga...</td>\n",
       "      <td>My husband and I cannot state enough how much ...</td>\n",
       "      <td>5</td>\n",
       "      <td>My husband and I cannot state enough how much ...</td>\n",
       "      <td>{'my': 1, 'husband': 1, 'and': 19, 'i': 3, 'ca...</td>\n",
       "      <td>1.0</td>\n",
       "    </tr>\n",
       "    <tr>\n",
       "      <th>168081</th>\n",
       "      <td>Buttons Cloth Diaper Cover - One Size - 8 Colo...</td>\n",
       "      <td>We are big Best Bottoms fans here, but I wante...</td>\n",
       "      <td>4</td>\n",
       "      <td>We are big Best Bottoms fans here but I wanted...</td>\n",
       "      <td>{'we': 3, 'are': 6, 'big': 2, 'best': 13, 'bot...</td>\n",
       "      <td>1.0</td>\n",
       "    </tr>\n",
       "  </tbody>\n",
       "</table>\n",
       "</div>"
      ],
      "text/plain": [
       "                                                     name  \\\n",
       "147949  Baby Jogger City Mini GT Single Stroller, Shad...   \n",
       "97325   Freemie Hands-Free Concealable Breast Pump Col...   \n",
       "119182  Roan Rocco Classic Pram Stroller 2-in-1 with B...   \n",
       "133651                  Britax 2012 B-Agile Stroller, Red   \n",
       "80155   Simple Wishes Hands-Free Breastpump Bra, Pink,...   \n",
       "50315          P'Kolino Silly Soft Seating in Tias, Green   \n",
       "168697  Graco FastAction Fold Jogger Click Connect Str...   \n",
       "52631   Evenflo X Sport Plus Convenience Stroller - Ch...   \n",
       "114796  Fisher-Price Cradle 'N Swing,  My Little Snuga...   \n",
       "168081  Buttons Cloth Diaper Cover - One Size - 8 Colo...   \n",
       "\n",
       "                                                   review  rating  \\\n",
       "147949  Amazing, Love, Love, Love it !!! All 5 STARS a...       5   \n",
       "97325   I absolutely love this product.  I work as a C...       5   \n",
       "119182  Great Pram Rocco!!!!!!I bought this pram from ...       5   \n",
       "133651  [I got this stroller for my daughter prior to ...       4   \n",
       "80155   I just tried this hands free breastpump bra, a...       5   \n",
       "50315   I've purchased both the P'Kolino Little Reader...       4   \n",
       "168697  Graco's FastAction Jogging Stroller definitely...       5   \n",
       "52631   After seeing this in Parent's Magazine and rea...       5   \n",
       "114796  My husband and I cannot state enough how much ...       5   \n",
       "168081  We are big Best Bottoms fans here, but I wante...       4   \n",
       "\n",
       "                                             review_clean  \\\n",
       "147949  Amazing Love Love Love it  All 5 STARS all the...   \n",
       "97325   I absolutely love this product  I work as a Cu...   \n",
       "119182  Great Pram RoccoI bought this pram from Europe...   \n",
       "133651  I got this stroller for my daughter prior to t...   \n",
       "80155   I just tried this hands free breastpump bra an...   \n",
       "50315   Ive purchased both the PKolino Little Reader C...   \n",
       "168697  Gracos FastAction Jogging Stroller definitely ...   \n",
       "52631   After seeing this in Parents Magazine and read...   \n",
       "114796  My husband and I cannot state enough how much ...   \n",
       "168081  We are big Best Bottoms fans here but I wanted...   \n",
       "\n",
       "                                               word_count  prob  \n",
       "147949  {'amazing': 1, 'love': 4, 'it': 7, 'all': 3, '...   1.0  \n",
       "97325   {'i': 38, 'absolutely': 1, 'love': 1, 'this': ...   1.0  \n",
       "119182  {'great': 4, 'pram': 10, 'roccoi': 1, 'bought'...   1.0  \n",
       "133651  {'i': 22, 'got': 3, 'this': 17, 'stroller': 22...   1.0  \n",
       "80155   {'i': 23, 'just': 4, 'tried': 2, 'this': 4, 'h...   1.0  \n",
       "50315   {'ive': 1, 'purchased': 1, 'both': 3, 'the': 3...   1.0  \n",
       "168697  {'gracos': 1, 'fastaction': 2, 'jogging': 2, '...   1.0  \n",
       "52631   {'after': 2, 'seeing': 1, 'this': 12, 'in': 6,...   1.0  \n",
       "114796  {'my': 1, 'husband': 1, 'and': 19, 'i': 3, 'ca...   1.0  \n",
       "168081  {'we': 3, 'are': 6, 'big': 2, 'best': 13, 'bot...   1.0  "
      ]
     },
     "execution_count": 36,
     "metadata": {},
     "output_type": "execute_result"
    }
   ],
   "source": [
    "X_test['prob'] = sentiment_model.predict_proba(test_matrix)[:,1]\n",
    "X_test.sort_values('prob',ascending=False,inplace=True)\n",
    "X_test.head(10)"
   ]
  },
  {
   "cell_type": "code",
   "execution_count": 37,
   "metadata": {},
   "outputs": [
    {
     "data": {
      "text/html": [
       "<div>\n",
       "<style scoped>\n",
       "    .dataframe tbody tr th:only-of-type {\n",
       "        vertical-align: middle;\n",
       "    }\n",
       "\n",
       "    .dataframe tbody tr th {\n",
       "        vertical-align: top;\n",
       "    }\n",
       "\n",
       "    .dataframe thead th {\n",
       "        text-align: right;\n",
       "    }\n",
       "</style>\n",
       "<table border=\"1\" class=\"dataframe\">\n",
       "  <thead>\n",
       "    <tr style=\"text-align: right;\">\n",
       "      <th></th>\n",
       "      <th>name</th>\n",
       "      <th>review</th>\n",
       "      <th>rating</th>\n",
       "      <th>review_clean</th>\n",
       "      <th>word_count</th>\n",
       "      <th>prob</th>\n",
       "    </tr>\n",
       "  </thead>\n",
       "  <tbody>\n",
       "    <tr>\n",
       "      <th>10677</th>\n",
       "      <td>Philips AVENT Newborn Starter Set</td>\n",
       "      <td>It's 3am in the morning and needless to say, t...</td>\n",
       "      <td>1</td>\n",
       "      <td>Its 3am in the morning and needless to say thi...</td>\n",
       "      <td>{'its': 1, '3am': 3, 'in': 2, 'the': 11, 'morn...</td>\n",
       "      <td>1.150138e-10</td>\n",
       "    </tr>\n",
       "    <tr>\n",
       "      <th>113995</th>\n",
       "      <td>Motorola Digital Video Baby Monitor with Room ...</td>\n",
       "      <td>DO NOT BUY THIS BABY MONITOR!I purchased this ...</td>\n",
       "      <td>1</td>\n",
       "      <td>DO NOT BUY THIS BABY MONITORI purchased this m...</td>\n",
       "      <td>{'do': 1, 'not': 2, 'buy': 1, 'this': 6, 'baby...</td>\n",
       "      <td>1.011637e-10</td>\n",
       "    </tr>\n",
       "    <tr>\n",
       "      <th>81332</th>\n",
       "      <td>Cloth Diaper Sprayer--styles may vary</td>\n",
       "      <td>I bought this sprayer out of desperation durin...</td>\n",
       "      <td>1</td>\n",
       "      <td>I bought this sprayer out of desperation durin...</td>\n",
       "      <td>{'i': 12, 'bought': 1, 'this': 3, 'sprayer': 2...</td>\n",
       "      <td>4.088883e-11</td>\n",
       "    </tr>\n",
       "    <tr>\n",
       "      <th>53207</th>\n",
       "      <td>Safety 1st High-Def Digital Monitor</td>\n",
       "      <td>We bought this baby monitor to replace a diffe...</td>\n",
       "      <td>1</td>\n",
       "      <td>We bought this baby monitor to replace a diffe...</td>\n",
       "      <td>{'we': 1, 'bought': 1, 'this': 5, 'baby': 8, '...</td>\n",
       "      <td>3.460592e-11</td>\n",
       "    </tr>\n",
       "    <tr>\n",
       "      <th>94560</th>\n",
       "      <td>The First Years True Choice P400 Premium Digit...</td>\n",
       "      <td>Note: we never installed batteries in these un...</td>\n",
       "      <td>1</td>\n",
       "      <td>Note we never installed batteries in these uni...</td>\n",
       "      <td>{'note': 1, 'we': 3, 'never': 1, 'installed': ...</td>\n",
       "      <td>4.717844e-13</td>\n",
       "    </tr>\n",
       "    <tr>\n",
       "      <th>155287</th>\n",
       "      <td>VTech Communications Safe &amp;amp; Sounds Full Co...</td>\n",
       "      <td>This is my second video monitoring system, the...</td>\n",
       "      <td>1</td>\n",
       "      <td>This is my second video monitoring system the ...</td>\n",
       "      <td>{'this': 12, 'is': 15, 'my': 6, 'second': 3, '...</td>\n",
       "      <td>2.319766e-13</td>\n",
       "    </tr>\n",
       "    <tr>\n",
       "      <th>48694</th>\n",
       "      <td>Adiri BPA Free Natural Nurser Ultimate Bottle ...</td>\n",
       "      <td>I will try to write an objective review of the...</td>\n",
       "      <td>2</td>\n",
       "      <td>I will try to write an objective review of the...</td>\n",
       "      <td>{'i': 26, 'will': 4, 'try': 2, 'to': 29, 'writ...</td>\n",
       "      <td>1.639712e-13</td>\n",
       "    </tr>\n",
       "    <tr>\n",
       "      <th>77072</th>\n",
       "      <td>Safety 1st Exchangeable Tip 3 in 1 Thermometer</td>\n",
       "      <td>I thought it sounded great to have different t...</td>\n",
       "      <td>1</td>\n",
       "      <td>I thought it sounded great to have different t...</td>\n",
       "      <td>{'i': 18, 'thought': 1, 'it': 8, 'sounded': 1,...</td>\n",
       "      <td>8.425898e-14</td>\n",
       "    </tr>\n",
       "    <tr>\n",
       "      <th>120209</th>\n",
       "      <td>Levana Safe N'See Digital Video Baby Monitor w...</td>\n",
       "      <td>This is the first review I have ever written o...</td>\n",
       "      <td>1</td>\n",
       "      <td>This is the first review I have ever written o...</td>\n",
       "      <td>{'this': 9, 'is': 7, 'the': 21, 'first': 3, 'r...</td>\n",
       "      <td>2.324526e-15</td>\n",
       "    </tr>\n",
       "    <tr>\n",
       "      <th>16042</th>\n",
       "      <td>Fisher-Price Ocean Wonders Aquarium Bouncer</td>\n",
       "      <td>We have not had ANY luck with Fisher-Price pro...</td>\n",
       "      <td>2</td>\n",
       "      <td>We have not had ANY luck with FisherPrice prod...</td>\n",
       "      <td>{'we': 3, 'have': 3, 'not': 5, 'had': 1, 'any'...</td>\n",
       "      <td>1.038830e-15</td>\n",
       "    </tr>\n",
       "  </tbody>\n",
       "</table>\n",
       "</div>"
      ],
      "text/plain": [
       "                                                     name  \\\n",
       "10677                   Philips AVENT Newborn Starter Set   \n",
       "113995  Motorola Digital Video Baby Monitor with Room ...   \n",
       "81332               Cloth Diaper Sprayer--styles may vary   \n",
       "53207                 Safety 1st High-Def Digital Monitor   \n",
       "94560   The First Years True Choice P400 Premium Digit...   \n",
       "155287  VTech Communications Safe &amp; Sounds Full Co...   \n",
       "48694   Adiri BPA Free Natural Nurser Ultimate Bottle ...   \n",
       "77072      Safety 1st Exchangeable Tip 3 in 1 Thermometer   \n",
       "120209  Levana Safe N'See Digital Video Baby Monitor w...   \n",
       "16042         Fisher-Price Ocean Wonders Aquarium Bouncer   \n",
       "\n",
       "                                                   review  rating  \\\n",
       "10677   It's 3am in the morning and needless to say, t...       1   \n",
       "113995  DO NOT BUY THIS BABY MONITOR!I purchased this ...       1   \n",
       "81332   I bought this sprayer out of desperation durin...       1   \n",
       "53207   We bought this baby monitor to replace a diffe...       1   \n",
       "94560   Note: we never installed batteries in these un...       1   \n",
       "155287  This is my second video monitoring system, the...       1   \n",
       "48694   I will try to write an objective review of the...       2   \n",
       "77072   I thought it sounded great to have different t...       1   \n",
       "120209  This is the first review I have ever written o...       1   \n",
       "16042   We have not had ANY luck with Fisher-Price pro...       2   \n",
       "\n",
       "                                             review_clean  \\\n",
       "10677   Its 3am in the morning and needless to say thi...   \n",
       "113995  DO NOT BUY THIS BABY MONITORI purchased this m...   \n",
       "81332   I bought this sprayer out of desperation durin...   \n",
       "53207   We bought this baby monitor to replace a diffe...   \n",
       "94560   Note we never installed batteries in these uni...   \n",
       "155287  This is my second video monitoring system the ...   \n",
       "48694   I will try to write an objective review of the...   \n",
       "77072   I thought it sounded great to have different t...   \n",
       "120209  This is the first review I have ever written o...   \n",
       "16042   We have not had ANY luck with FisherPrice prod...   \n",
       "\n",
       "                                               word_count          prob  \n",
       "10677   {'its': 1, '3am': 3, 'in': 2, 'the': 11, 'morn...  1.150138e-10  \n",
       "113995  {'do': 1, 'not': 2, 'buy': 1, 'this': 6, 'baby...  1.011637e-10  \n",
       "81332   {'i': 12, 'bought': 1, 'this': 3, 'sprayer': 2...  4.088883e-11  \n",
       "53207   {'we': 1, 'bought': 1, 'this': 5, 'baby': 8, '...  3.460592e-11  \n",
       "94560   {'note': 1, 'we': 3, 'never': 1, 'installed': ...  4.717844e-13  \n",
       "155287  {'this': 12, 'is': 15, 'my': 6, 'second': 3, '...  2.319766e-13  \n",
       "48694   {'i': 26, 'will': 4, 'try': 2, 'to': 29, 'writ...  1.639712e-13  \n",
       "77072   {'i': 18, 'thought': 1, 'it': 8, 'sounded': 1,...  8.425898e-14  \n",
       "120209  {'this': 9, 'is': 7, 'the': 21, 'first': 3, 'r...  2.324526e-15  \n",
       "16042   {'we': 3, 'have': 3, 'not': 5, 'had': 1, 'any'...  1.038830e-15  "
      ]
     },
     "execution_count": 37,
     "metadata": {},
     "output_type": "execute_result"
    }
   ],
   "source": [
    "X_test.tail(10)"
   ]
  },
  {
   "cell_type": "code",
   "execution_count": 38,
   "metadata": {},
   "outputs": [
    {
     "data": {
      "text/plain": [
       "'My Experience: Babykicks Inserts failure vs RAVING Success of Thirsties insertsPurchased the Thirsties Hemp inserts 2-Pack, Lg 18-40lbs and the BabyKicks 3 Pack Joey Bunz Hemp Inserts, as both products seemed equally matched based on reviews. Put each brand to the \"overnight\" diapering test over a week, alternating nights. (CD\\'ing fleece liner over 4x8x4 unbleached indian cotton premium prefolds with hemp inserts wrapped outside, then a Thirsties Duo Wrap cover size 2 over.) Both brands of inserts were prepped in same wash loads with same detergent, same dryers all at same time prior to the test.THE RESULTS?  Thirsties won and Babykicks was NOT remotely CLOSE!The Babykicks Hemp Inserts, when compared to the Thirsties inserts, performed little better than paper towel! The little one was completely SOAKED after a mere 3-4 hours on nights the Babykicks. And not just the baby, but the mattress, diaper cover exterior, EVERYTHING. (**On a side note, I must commend the Thristies Duo Diaper Wrap used to test both insert brands - I used the snaps version in size 2 - The cover itself performed as well as it could in attempting to contain copious amounts of liquid by it\\'s lonesome since the babykicks stopped absorbing at 3-4 fluid ounces!!! Removing the diaper cover on nights babykicks inserts were used meant running to the tbowl or sink and DRAINING urine out the COVER!!! And YES, the baby is a SUPER DUPER WETTER.How did the Thirsties Hemp Inserts perform?Thirsties Hemp Inserts NEVER allowed LEAKAGE! They soaked up everything the little one threw at it throughout the ENTIRE night. Thirsties hemp insert nights meant no 3am emergency diaper changes and no early-morning sprints to a sink/toilet bowl to drain urine out the diaper cover (as I did with the babykicks,...after 3-4 hours on the little one!_Bottom line. If you\\'re looking for something that can contain just about anything a baby can throw at it, Thristies Hemp Insert is your buy. However, if you\\'re looking for a great \"liner-doubler\" that can soak up no more than 3-4 fluid ounces at a time, babykicks might be for you. Then again, you can just use a cotton velour liner as I do during baby naps. And yes, even they outperform babykicks hemps! (I AM NOT KIDDING! They soak up about 3/4 to 1 full cup (8 fl oz) before getting saturated which is twice as much as the 3-4 oz capacity of babykicks hemp inserts based on my experience.)I now use ALL 3 babykicks hemp inserts AT ONCE for times when baby takes extended naps (not anything over 2 hours or overflow!). Or else I use a single babykicks hemp insert sandwiched between the fleece liner and the cloth diaper during times when the little one is active, as a means of assisting the absorption factor of the fleece liner (it does help minimally).  Otherwise, the babykicks hemp inserts are UTTERLY USELESS!But on the upside, the babykicks hemp inserts do seem to do a marvelous job WICKING liquids to whatever is behind it. So as a fleece liner doubler, it does a great job wicking through the wetness through to the diaper cloth behind it.  Perhaps babykicks should think of re-marketing their hemp insert with a focus on just that function - a wicking insert to place under a fleece or disposable liner. They would have to have a clear disclaimer emphasizing the insert itself does NOT contain wetness, merely facilitates 70-80% of liquids to pass through it like it wasn\\'t even there! Of course, price point would have to be adjusted accordingly.Clear winner - THIRSTIES HEMP INSERTS! I recommend these, and so much so that I\\'ve ordered 3 more 2-packs!UPDATE:  The Thirsties hemp inserts have continued to get more absorbent with subsequent washings and dryings (NOW absorbing average of 1 to 1 1/4 cups of water when tested)! The babykicks remain the same! (Always done in same HOT wash/dry loads - with same no-additive detergents, no fabric softners or dryer sheets - etc as the Thirsties).'"
      ]
     },
     "execution_count": 38,
     "metadata": {},
     "output_type": "execute_result"
    }
   ],
   "source": [
    "X_test.loc[83234]['review']"
   ]
  },
  {
   "cell_type": "markdown",
   "metadata": {},
   "source": [
    "## Compute accuracy of the classifier\n",
    "\n",
    "We will now evaluate the accuracy of the trained classifer. Recall that the accuracy is given by\n",
    "\n",
    "\n",
    "$$\n",
    "\\mbox{accuracy} = \\frac{\\mbox{# correctly classified examples}}{\\mbox{# total examples}}\n",
    "$$\n",
    "\n",
    "This can be computed as follows:\n",
    "\n",
    "* **Step 1:** Use the trained model to compute class predictions (**Hint:** Use the `predict` method)\n",
    "* **Step 2:** Count the number of data points when the predicted class labels match the ground truth labels (stored on X_testy).\n",
    "* **Step 3:** Divide the total number of correct predictions by the total number of data points in the dataset.\n",
    "\n",
    "Complete the function below to compute the classification accuracy:"
   ]
  },
  {
   "cell_type": "code",
   "execution_count": 39,
   "metadata": {},
   "outputs": [
    {
     "data": {
      "text/plain": [
       "18218    1\n",
       "31614    1\n",
       "700      1\n",
       "15525    1\n",
       "18719    1\n",
       "22303    1\n",
       "7858     1\n",
       "19180    1\n",
       "575     -1\n",
       "6173     1\n",
       "Name: 0, dtype: int64"
      ]
     },
     "execution_count": 39,
     "metadata": {},
     "output_type": "execute_result"
    }
   ],
   "source": [
    "scores = sentiment_model.predict(test_matrix)\n",
    "scores = pd.DataFrame(scores)\n",
    "y_hat = scores[0]\n",
    "y_hat.sample(n=10)"
   ]
  },
  {
   "cell_type": "code",
   "execution_count": 40,
   "metadata": {},
   "outputs": [],
   "source": [
    "X_test['Prediction'] = y_hat.values"
   ]
  },
  {
   "cell_type": "code",
   "execution_count": 41,
   "metadata": {},
   "outputs": [
    {
     "data": {
      "text/plain": [
       "0.9323854091672666"
      ]
     },
     "execution_count": 41,
     "metadata": {},
     "output_type": "execute_result"
    }
   ],
   "source": [
    "len(X_test[X_test['Prediction'] == X_testy.values]) / len(X_test)"
   ]
  },
  {
   "cell_type": "markdown",
   "metadata": {},
   "source": [
    "# How does the model looks like?"
   ]
  },
  {
   "cell_type": "code",
   "execution_count": 42,
   "metadata": {},
   "outputs": [
    {
     "data": {
      "text/plain": [
       "array([[-1.23647698e+00,  2.05856855e-04,  2.54473692e-02, ...,\n",
       "         1.16368121e-02,  3.11529309e-03, -7.03629882e-05]])"
      ]
     },
     "execution_count": 42,
     "metadata": {},
     "output_type": "execute_result"
    }
   ],
   "source": [
    "sentiment_model.coef_"
   ]
  },
  {
   "cell_type": "markdown",
   "metadata": {},
   "source": [
    "Check the weight of the words on the model"
   ]
  },
  {
   "cell_type": "code",
   "execution_count": 43,
   "metadata": {},
   "outputs": [],
   "source": [
    "Words = pd.DataFrame.from_dict(vectorizer.vocabulary_,'index')\n",
    "Words['coef'] = sentiment_model.coef_[0]\n",
    "# help(pd.DataFrame.from_dict)"
   ]
  },
  {
   "cell_type": "code",
   "execution_count": 44,
   "metadata": {},
   "outputs": [
    {
     "data": {
      "text/html": [
       "<div>\n",
       "<style scoped>\n",
       "    .dataframe tbody tr th:only-of-type {\n",
       "        vertical-align: middle;\n",
       "    }\n",
       "\n",
       "    .dataframe tbody tr th {\n",
       "        vertical-align: top;\n",
       "    }\n",
       "\n",
       "    .dataframe thead th {\n",
       "        text-align: right;\n",
       "    }\n",
       "</style>\n",
       "<table border=\"1\" class=\"dataframe\">\n",
       "  <thead>\n",
       "    <tr style=\"text-align: right;\">\n",
       "      <th></th>\n",
       "      <th>Word</th>\n",
       "      <th>Count</th>\n",
       "      <th>Coef</th>\n",
       "    </tr>\n",
       "  </thead>\n",
       "  <tbody>\n",
       "    <tr>\n",
       "      <th>0</th>\n",
       "      <td>it</td>\n",
       "      <td>57486</td>\n",
       "      <td>-1.236477</td>\n",
       "    </tr>\n",
       "    <tr>\n",
       "      <th>1</th>\n",
       "      <td>came</td>\n",
       "      <td>21721</td>\n",
       "      <td>0.000206</td>\n",
       "    </tr>\n",
       "    <tr>\n",
       "      <th>2</th>\n",
       "      <td>early</td>\n",
       "      <td>37328</td>\n",
       "      <td>0.025447</td>\n",
       "    </tr>\n",
       "    <tr>\n",
       "      <th>3</th>\n",
       "      <td>and</td>\n",
       "      <td>10505</td>\n",
       "      <td>0.006200</td>\n",
       "    </tr>\n",
       "    <tr>\n",
       "      <th>4</th>\n",
       "      <td>was</td>\n",
       "      <td>116799</td>\n",
       "      <td>0.000046</td>\n",
       "    </tr>\n",
       "  </tbody>\n",
       "</table>\n",
       "</div>"
      ],
      "text/plain": [
       "    Word   Count      Coef\n",
       "0     it   57486 -1.236477\n",
       "1   came   21721  0.000206\n",
       "2  early   37328  0.025447\n",
       "3    and   10505  0.006200\n",
       "4    was  116799  0.000046"
      ]
     },
     "execution_count": 44,
     "metadata": {},
     "output_type": "execute_result"
    }
   ],
   "source": [
    "Words = Words.reset_index()\n",
    "Words.rename(columns={'index':'Word',0:'Count','coef':'Coef'},inplace=True)\n",
    "Words.head()"
   ]
  },
  {
   "cell_type": "code",
   "execution_count": 55,
   "metadata": {},
   "outputs": [
    {
     "data": {
      "text/html": [
       "<div>\n",
       "<style scoped>\n",
       "    .dataframe tbody tr th:only-of-type {\n",
       "        vertical-align: middle;\n",
       "    }\n",
       "\n",
       "    .dataframe tbody tr th {\n",
       "        vertical-align: top;\n",
       "    }\n",
       "\n",
       "    .dataframe thead th {\n",
       "        text-align: right;\n",
       "    }\n",
       "</style>\n",
       "<table border=\"1\" class=\"dataframe\">\n",
       "  <thead>\n",
       "    <tr style=\"text-align: right;\">\n",
       "      <th></th>\n",
       "      <th>Word</th>\n",
       "      <th>Count</th>\n",
       "      <th>Coef</th>\n",
       "    </tr>\n",
       "  </thead>\n",
       "  <tbody>\n",
       "    <tr>\n",
       "      <th>10112</th>\n",
       "      <td>seatcould</td>\n",
       "      <td>92746</td>\n",
       "      <td>1.993880</td>\n",
       "    </tr>\n",
       "    <tr>\n",
       "      <th>80935</th>\n",
       "      <td>70th</td>\n",
       "      <td>6592</td>\n",
       "      <td>1.985279</td>\n",
       "    </tr>\n",
       "    <tr>\n",
       "      <th>40372</th>\n",
       "      <td>seemy</td>\n",
       "      <td>93302</td>\n",
       "      <td>1.948417</td>\n",
       "    </tr>\n",
       "    <tr>\n",
       "      <th>36155</th>\n",
       "      <td>arg</td>\n",
       "      <td>11830</td>\n",
       "      <td>1.923142</td>\n",
       "    </tr>\n",
       "    <tr>\n",
       "      <th>81178</th>\n",
       "      <td>picafter</td>\n",
       "      <td>79690</td>\n",
       "      <td>1.902525</td>\n",
       "    </tr>\n",
       "    <tr>\n",
       "      <th>91892</th>\n",
       "      <td>groing</td>\n",
       "      <td>49278</td>\n",
       "      <td>1.897935</td>\n",
       "    </tr>\n",
       "    <tr>\n",
       "      <th>78983</th>\n",
       "      <td>andstainless</td>\n",
       "      <td>10563</td>\n",
       "      <td>1.863449</td>\n",
       "    </tr>\n",
       "    <tr>\n",
       "      <th>89902</th>\n",
       "      <td>screeeeeeeam</td>\n",
       "      <td>92399</td>\n",
       "      <td>1.842767</td>\n",
       "    </tr>\n",
       "    <tr>\n",
       "      <th>76454</th>\n",
       "      <td>barebones</td>\n",
       "      <td>14997</td>\n",
       "      <td>1.842434</td>\n",
       "    </tr>\n",
       "    <tr>\n",
       "      <th>61811</th>\n",
       "      <td>crumns</td>\n",
       "      <td>30400</td>\n",
       "      <td>1.835036</td>\n",
       "    </tr>\n",
       "    <tr>\n",
       "      <th>47504</th>\n",
       "      <td>togethersome</td>\n",
       "      <td>109259</td>\n",
       "      <td>1.816457</td>\n",
       "    </tr>\n",
       "    <tr>\n",
       "      <th>27577</th>\n",
       "      <td>50coil</td>\n",
       "      <td>5889</td>\n",
       "      <td>1.792236</td>\n",
       "    </tr>\n",
       "    <tr>\n",
       "      <th>52346</th>\n",
       "      <td>olli</td>\n",
       "      <td>74303</td>\n",
       "      <td>1.773232</td>\n",
       "    </tr>\n",
       "    <tr>\n",
       "      <th>47555</th>\n",
       "      <td>largechested</td>\n",
       "      <td>60472</td>\n",
       "      <td>1.765580</td>\n",
       "    </tr>\n",
       "    <tr>\n",
       "      <th>78827</th>\n",
       "      <td>wonkywheeled</td>\n",
       "      <td>119787</td>\n",
       "      <td>1.748625</td>\n",
       "    </tr>\n",
       "  </tbody>\n",
       "</table>\n",
       "</div>"
      ],
      "text/plain": [
       "               Word   Count      Coef\n",
       "10112     seatcould   92746  1.993880\n",
       "80935          70th    6592  1.985279\n",
       "40372         seemy   93302  1.948417\n",
       "36155           arg   11830  1.923142\n",
       "81178      picafter   79690  1.902525\n",
       "91892        groing   49278  1.897935\n",
       "78983  andstainless   10563  1.863449\n",
       "89902  screeeeeeeam   92399  1.842767\n",
       "76454     barebones   14997  1.842434\n",
       "61811        crumns   30400  1.835036\n",
       "47504  togethersome  109259  1.816457\n",
       "27577        50coil    5889  1.792236\n",
       "52346          olli   74303  1.773232\n",
       "47555  largechested   60472  1.765580\n",
       "78827  wonkywheeled  119787  1.748625"
      ]
     },
     "execution_count": 55,
     "metadata": {},
     "output_type": "execute_result"
    }
   ],
   "source": [
    "Words.sort_values(by = 'Coef', ascending = False, inplace = True)\n",
    "Words.head(15)"
   ]
  },
  {
   "cell_type": "code",
   "execution_count": 54,
   "metadata": {},
   "outputs": [
    {
     "data": {
      "text/html": [
       "<div>\n",
       "<style scoped>\n",
       "    .dataframe tbody tr th:only-of-type {\n",
       "        vertical-align: middle;\n",
       "    }\n",
       "\n",
       "    .dataframe tbody tr th {\n",
       "        vertical-align: top;\n",
       "    }\n",
       "\n",
       "    .dataframe thead th {\n",
       "        text-align: right;\n",
       "    }\n",
       "</style>\n",
       "<table border=\"1\" class=\"dataframe\">\n",
       "  <thead>\n",
       "    <tr style=\"text-align: right;\">\n",
       "      <th></th>\n",
       "      <th>Word</th>\n",
       "      <th>Count</th>\n",
       "      <th>Coef</th>\n",
       "    </tr>\n",
       "  </thead>\n",
       "  <tbody>\n",
       "    <tr>\n",
       "      <th>72383</th>\n",
       "      <td>weekhighly</td>\n",
       "      <td>117695</td>\n",
       "      <td>-2.040320</td>\n",
       "    </tr>\n",
       "    <tr>\n",
       "      <th>89506</th>\n",
       "      <td>bornthey</td>\n",
       "      <td>18665</td>\n",
       "      <td>-2.075778</td>\n",
       "    </tr>\n",
       "    <tr>\n",
       "      <th>55481</th>\n",
       "      <td>fruitsweets</td>\n",
       "      <td>45888</td>\n",
       "      <td>-2.173985</td>\n",
       "    </tr>\n",
       "    <tr>\n",
       "      <th>34453</th>\n",
       "      <td>ladybugs</td>\n",
       "      <td>60251</td>\n",
       "      <td>-2.186564</td>\n",
       "    </tr>\n",
       "    <tr>\n",
       "      <th>113688</th>\n",
       "      <td>childconsnot</td>\n",
       "      <td>24200</td>\n",
       "      <td>-2.274611</td>\n",
       "    </tr>\n",
       "    <tr>\n",
       "      <th>81600</th>\n",
       "      <td>klack</td>\n",
       "      <td>59816</td>\n",
       "      <td>-2.281241</td>\n",
       "    </tr>\n",
       "    <tr>\n",
       "      <th>27609</th>\n",
       "      <td>bottlessippys</td>\n",
       "      <td>18945</td>\n",
       "      <td>-2.290332</td>\n",
       "    </tr>\n",
       "    <tr>\n",
       "      <th>81610</th>\n",
       "      <td>elecare</td>\n",
       "      <td>38340</td>\n",
       "      <td>-2.295021</td>\n",
       "    </tr>\n",
       "    <tr>\n",
       "      <th>114477</th>\n",
       "      <td>105installation</td>\n",
       "      <td>278</td>\n",
       "      <td>-2.322137</td>\n",
       "    </tr>\n",
       "    <tr>\n",
       "      <th>34484</th>\n",
       "      <td>receipient</td>\n",
       "      <td>87176</td>\n",
       "      <td>-2.429239</td>\n",
       "    </tr>\n",
       "    <tr>\n",
       "      <th>106712</th>\n",
       "      <td>kefir</td>\n",
       "      <td>59279</td>\n",
       "      <td>-2.454661</td>\n",
       "    </tr>\n",
       "    <tr>\n",
       "      <th>120277</th>\n",
       "      <td>grants</td>\n",
       "      <td>48648</td>\n",
       "      <td>-2.613763</td>\n",
       "    </tr>\n",
       "    <tr>\n",
       "      <th>81347</th>\n",
       "      <td>yellowbut</td>\n",
       "      <td>121020</td>\n",
       "      <td>-2.619490</td>\n",
       "    </tr>\n",
       "    <tr>\n",
       "      <th>120296</th>\n",
       "      <td>neverflat</td>\n",
       "      <td>70991</td>\n",
       "      <td>-2.684226</td>\n",
       "    </tr>\n",
       "    <tr>\n",
       "      <th>35045</th>\n",
       "      <td>pad34</td>\n",
       "      <td>77389</td>\n",
       "      <td>-2.743721</td>\n",
       "    </tr>\n",
       "  </tbody>\n",
       "</table>\n",
       "</div>"
      ],
      "text/plain": [
       "                   Word   Count      Coef\n",
       "72383        weekhighly  117695 -2.040320\n",
       "89506          bornthey   18665 -2.075778\n",
       "55481       fruitsweets   45888 -2.173985\n",
       "34453          ladybugs   60251 -2.186564\n",
       "113688     childconsnot   24200 -2.274611\n",
       "81600             klack   59816 -2.281241\n",
       "27609     bottlessippys   18945 -2.290332\n",
       "81610           elecare   38340 -2.295021\n",
       "114477  105installation     278 -2.322137\n",
       "34484        receipient   87176 -2.429239\n",
       "106712            kefir   59279 -2.454661\n",
       "120277           grants   48648 -2.613763\n",
       "81347         yellowbut  121020 -2.619490\n",
       "120296        neverflat   70991 -2.684226\n",
       "35045             pad34   77389 -2.743721"
      ]
     },
     "execution_count": 54,
     "metadata": {},
     "output_type": "execute_result"
    }
   ],
   "source": [
    "Words.tail(15)"
   ]
  },
  {
   "cell_type": "code",
   "execution_count": null,
   "metadata": {},
   "outputs": [],
   "source": []
  }
 ],
 "metadata": {
  "kernelspec": {
   "display_name": "Python 3",
   "language": "python",
   "name": "python3"
  },
  "language_info": {
   "codemirror_mode": {
    "name": "ipython",
    "version": 3
   },
   "file_extension": ".py",
   "mimetype": "text/x-python",
   "name": "python",
   "nbconvert_exporter": "python",
   "pygments_lexer": "ipython3",
   "version": "3.6.7"
  }
 },
 "nbformat": 4,
 "nbformat_minor": 1
}
