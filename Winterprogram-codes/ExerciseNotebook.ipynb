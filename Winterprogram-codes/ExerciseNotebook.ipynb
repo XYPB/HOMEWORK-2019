{
 "cells": [
  {
   "cell_type": "markdown",
   "metadata": {},
   "source": [
    "# Exercise notebook!\n",
    "\n",
    "Tecnun - UNAV\n",
    "Winter Course 2019 <p>\n",
    "drosquete@ceit.es <p>\n",
    "\n",
    "Don't even think you are going home without doing some operations yourselves! Use the random seed 1234 if necessary"
   ]
  },
  {
   "cell_type": "markdown",
   "metadata": {},
   "source": [
    "## Exercise 1:\n",
    "Generate a sequential value (from 0 to 49) matrix of 5,10. Then substract the mean of each row of the matrix on the values and save it in another Matrix variable."
   ]
  },
  {
   "cell_type": "code",
   "execution_count": null,
   "metadata": {
    "collapsed": true
   },
   "outputs": [],
   "source": []
  },
  {
   "cell_type": "markdown",
   "metadata": {},
   "source": [
    "## Second exercise:\n",
    "There is a function named unique, that displays the unique values in an array. Generate a boolean matrix of 5,10 and <b>count</b> the <b>unique</b> values. Answer is 2 ;-)"
   ]
  },
  {
   "cell_type": "code",
   "execution_count": null,
   "metadata": {
    "collapsed": true
   },
   "outputs": [],
   "source": []
  },
  {
   "cell_type": "markdown",
   "metadata": {},
   "source": [
    "## Third exercise:\n",
    "Apply the following formula to a 5,5 float random matrix:\n",
    "<p><b>(Matrix - minimumValueMatrix) / (maximumValueMatrix - minimumValueMatrix)</b><p>"
   ]
  },
  {
   "cell_type": "code",
   "execution_count": null,
   "metadata": {
    "collapsed": true
   },
   "outputs": [],
   "source": []
  },
  {
   "cell_type": "markdown",
   "metadata": {},
   "source": [
    "## Fourth exercise:\n",
    "Create a checkerboard 8x8 and fill it with 0 and 1"
   ]
  },
  {
   "cell_type": "code",
   "execution_count": null,
   "metadata": {
    "collapsed": true
   },
   "outputs": [],
   "source": []
  },
  {
   "cell_type": "markdown",
   "metadata": {},
   "source": [
    "## Final Exercise:\n",
    "Take the following matrix <code>X = np.random.randint(0,50,(5,10))</code>and sort it in descending order by the 3rd column. <b>CLUE: </b> there's an operation called argsort that can be applied to columns<p> I'm using random.randint to generate, not random.random"
   ]
  },
  {
   "cell_type": "code",
   "execution_count": null,
   "metadata": {
    "collapsed": true
   },
   "outputs": [],
   "source": []
  }
 ],
 "metadata": {
  "kernelspec": {
   "display_name": "Python 3",
   "language": "python",
   "name": "python3"
  },
  "language_info": {
   "codemirror_mode": {
    "name": "ipython",
    "version": 3
   },
   "file_extension": ".py",
   "mimetype": "text/x-python",
   "name": "python",
   "nbconvert_exporter": "python",
   "pygments_lexer": "ipython3",
   "version": "3.6.8"
  }
 },
 "nbformat": 4,
 "nbformat_minor": 2
}
