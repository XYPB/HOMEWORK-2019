{
 "cells": [
  {
   "cell_type": "markdown",
   "metadata": {},
   "source": [
    "# Nearest Neighbors and K-Means\n",
    "\n",
    "Tecnun - UNAV\n",
    "Winter Course 2019 <p>\n",
    "drosquete@ceit.es"
   ]
  },
  {
   "cell_type": "markdown",
   "metadata": {},
   "source": [
    "When exploring a large set of documents -- such as Wikipedia, news articles, StackOverflow, etc. -- it can be useful to get a list of related material. To find relevant documents you typically\n",
    "* Decide on a notion of similarity\n",
    "* Find the documents that are most similar \n",
    "\n",
    "In the assignment you will\n",
    "* Gain intuition for different notions of similarity and practice finding similar documents. \n",
    "* Explore the tradeoffs with representing documents using raw word counts and TF-IDF\n",
    "* Explore the behavior of different distance metrics by looking at the Wikipedia pages most similar to President Obama’s page."
   ]
  },
  {
   "cell_type": "markdown",
   "metadata": {},
   "source": [
    "## Import necessary packages"
   ]
  },
  {
   "cell_type": "markdown",
   "metadata": {},
   "source": [
    "As usual we need to first import the Python packages that we will need."
   ]
  },
  {
   "cell_type": "code",
   "execution_count": 1,
   "metadata": {},
   "outputs": [],
   "source": [
    "from sklearn.neighbors import NearestNeighbors\n",
    "from sklearn.feature_extraction import text\n",
    "from sklearn.model_selection import train_test_split\n",
    "from sklearn.feature_extraction.text import CountVectorizer # It will be used to create a observation_word_count sparseMatrix\n",
    "import numpy as np\n",
    "import pandas as pd\n",
    "import math\n",
    "import string\n",
    "import re # Regular Expressions library\n",
    "from collections import Counter # High-performance container datatypes\n",
    "np.random.seed(1234)"
   ]
  },
  {
   "cell_type": "markdown",
   "metadata": {},
   "source": [
    "## Load Wikipedia dataset"
   ]
  },
  {
   "cell_type": "markdown",
   "metadata": {},
   "source": [
    "We will be using dataset of Wikipedia pages. Each element of the dataset consists of a link to the wikipedia article, the name of the person, and the text of the article (in lowercase).  "
   ]
  },
  {
   "cell_type": "code",
   "execution_count": 2,
   "metadata": {},
   "outputs": [
    {
     "data": {
      "text/plain": [
       "(59071, 3)"
      ]
     },
     "execution_count": 2,
     "metadata": {},
     "output_type": "execute_result"
    }
   ],
   "source": [
    "wiki = pd.read_csv('people_wiki.csv')\n",
    "wiki.shape"
   ]
  },
  {
   "cell_type": "code",
   "execution_count": 3,
   "metadata": {},
   "outputs": [
    {
     "data": {
      "text/html": [
       "<div>\n",
       "<style scoped>\n",
       "    .dataframe tbody tr th:only-of-type {\n",
       "        vertical-align: middle;\n",
       "    }\n",
       "\n",
       "    .dataframe tbody tr th {\n",
       "        vertical-align: top;\n",
       "    }\n",
       "\n",
       "    .dataframe thead th {\n",
       "        text-align: right;\n",
       "    }\n",
       "</style>\n",
       "<table border=\"1\" class=\"dataframe\">\n",
       "  <thead>\n",
       "    <tr style=\"text-align: right;\">\n",
       "      <th></th>\n",
       "      <th>URI</th>\n",
       "      <th>name</th>\n",
       "      <th>text</th>\n",
       "    </tr>\n",
       "  </thead>\n",
       "  <tbody>\n",
       "    <tr>\n",
       "      <th>0</th>\n",
       "      <td>&lt;http://dbpedia.org/resource/Digby_Morrell&gt;</td>\n",
       "      <td>Digby Morrell</td>\n",
       "      <td>digby morrell born 10 october 1979 is a former...</td>\n",
       "    </tr>\n",
       "    <tr>\n",
       "      <th>1</th>\n",
       "      <td>&lt;http://dbpedia.org/resource/Alfred_J._Lewy&gt;</td>\n",
       "      <td>Alfred J. Lewy</td>\n",
       "      <td>alfred j lewy aka sandy lewy graduated from un...</td>\n",
       "    </tr>\n",
       "    <tr>\n",
       "      <th>2</th>\n",
       "      <td>&lt;http://dbpedia.org/resource/Harpdog_Brown&gt;</td>\n",
       "      <td>Harpdog Brown</td>\n",
       "      <td>harpdog brown is a singer and harmonica player...</td>\n",
       "    </tr>\n",
       "    <tr>\n",
       "      <th>3</th>\n",
       "      <td>&lt;http://dbpedia.org/resource/Franz_Rottensteiner&gt;</td>\n",
       "      <td>Franz Rottensteiner</td>\n",
       "      <td>franz rottensteiner born in waidmannsfeld lowe...</td>\n",
       "    </tr>\n",
       "    <tr>\n",
       "      <th>4</th>\n",
       "      <td>&lt;http://dbpedia.org/resource/G-Enka&gt;</td>\n",
       "      <td>G-Enka</td>\n",
       "      <td>henry krvits born 30 december 1974 in tallinn ...</td>\n",
       "    </tr>\n",
       "  </tbody>\n",
       "</table>\n",
       "</div>"
      ],
      "text/plain": [
       "                                                 URI                 name  \\\n",
       "0        <http://dbpedia.org/resource/Digby_Morrell>        Digby Morrell   \n",
       "1       <http://dbpedia.org/resource/Alfred_J._Lewy>       Alfred J. Lewy   \n",
       "2        <http://dbpedia.org/resource/Harpdog_Brown>        Harpdog Brown   \n",
       "3  <http://dbpedia.org/resource/Franz_Rottensteiner>  Franz Rottensteiner   \n",
       "4               <http://dbpedia.org/resource/G-Enka>               G-Enka   \n",
       "\n",
       "                                                text  \n",
       "0  digby morrell born 10 october 1979 is a former...  \n",
       "1  alfred j lewy aka sandy lewy graduated from un...  \n",
       "2  harpdog brown is a singer and harmonica player...  \n",
       "3  franz rottensteiner born in waidmannsfeld lowe...  \n",
       "4  henry krvits born 30 december 1974 in tallinn ...  "
      ]
     },
     "execution_count": 3,
     "metadata": {},
     "output_type": "execute_result"
    }
   ],
   "source": [
    "wiki.head()"
   ]
  },
  {
   "cell_type": "code",
   "execution_count": 4,
   "metadata": {},
   "outputs": [
    {
     "data": {
      "text/plain": [
       "14873                       Meseret Hailu\n",
       "13373                Sandra J. Feuerstein\n",
       "46667               Mary Davis (activist)\n",
       "21898                         Helen Grime\n",
       "33512    Kenneth Falconer (mathematician)\n",
       "11242                         Lucy Panton\n",
       "9656                    Harold Cartwright\n",
       "49034                     Daniel Migliore\n",
       "21619                        Johan Reuter\n",
       "45815                      Roberto Merlin\n",
       "46330                        Brett Domino\n",
       "2891                       Akbar S. Ahmed\n",
       "15056      Alexander George (philosopher)\n",
       "36303                    Kate Gulbrandsen\n",
       "56056                       Matthew Engel\n",
       "34987                       Bruce Ashmore\n",
       "36194           Peter Sykora (footballer)\n",
       "42576                         Dick Biondi\n",
       "40421                      George Hinshaw\n",
       "17061                      Louise Plummer\n",
       "32923                       Kyoko Hayashi\n",
       "11214                       Yannis Pappas\n",
       "45600                 Katsuhiko Ishibashi\n",
       "44967                         John Barham\n",
       "29457                     Judy Ann Santos\n",
       "39409                       Scott McMahon\n",
       "43852                          Laura Neri\n",
       "19949                       Susan Lenehan\n",
       "9036                           Ad Melkert\n",
       "7309        Lisa Gaye (actress born 1960)\n",
       "Name: name, dtype: object"
      ]
     },
     "execution_count": 4,
     "metadata": {},
     "output_type": "execute_result"
    }
   ],
   "source": [
    "wiki['name'].sample(30)"
   ]
  },
  {
   "cell_type": "markdown",
   "metadata": {},
   "source": [
    "## Extract word count vectors"
   ]
  },
  {
   "cell_type": "markdown",
   "metadata": {},
   "source": [
    "As we have seen in previous lessons, we can work on word count "
   ]
  },
  {
   "cell_type": "code",
   "execution_count": 5,
   "metadata": {},
   "outputs": [],
   "source": [
    "# Use this token pattern to keep single-letter words\n",
    "vectorizer = CountVectorizer(token_pattern=r'\\b\\w+\\b')\n",
    "    \n",
    "    # fit_transform, learns vocabulary from the training data and assign columns to words\n",
    "    # Then convert the training data into a sparse matrix\n",
    "train_matrix = vectorizer.fit_transform(wiki['text'])\n",
    "\n",
    "    # Second, convert the test data into a sparse matrix, using the same word-column mapping.\n",
    "    # if any word on the test is not present on the trained sparse_matrix, it will not\n",
    "    # count it\n",
    "test_matrix = vectorizer.transform(wiki['text'])"
   ]
  },
  {
   "cell_type": "markdown",
   "metadata": {},
   "source": [
    "## Find nearest neighbors"
   ]
  },
  {
   "cell_type": "markdown",
   "metadata": {},
   "source": [
    "Let's start by finding the nearest neighbors of the Barack Obama page using the word count vectors to represent the articles and Euclidean distance to measure distance.  "
   ]
  },
  {
   "cell_type": "code",
   "execution_count": 8,
   "metadata": {},
   "outputs": [
    {
     "data": {
      "text/plain": [
       "NearestNeighbors(algorithm='auto', leaf_size=30, metric='minkowski',\n",
       "         metric_params=None, n_jobs=None, n_neighbors=5, p=2, radius=1.0)"
      ]
     },
     "execution_count": 8,
     "metadata": {},
     "output_type": "execute_result"
    }
   ],
   "source": [
    "model = NearestNeighbors()\n",
    "model.fit(train_matrix)"
   ]
  },
  {
   "cell_type": "markdown",
   "metadata": {},
   "source": [
    "Now let's look for Obama"
   ]
  },
  {
   "cell_type": "code",
   "execution_count": 9,
   "metadata": {},
   "outputs": [
    {
     "data": {
      "text/plain": [
       "35817"
      ]
     },
     "execution_count": 9,
     "metadata": {},
     "output_type": "execute_result"
    }
   ],
   "source": [
    "wiki[wiki['name']=='Barack Obama'].index[0]"
   ]
  },
  {
   "cell_type": "markdown",
   "metadata": {},
   "source": [
    "Using his index, now, let's check the content"
   ]
  },
  {
   "cell_type": "code",
   "execution_count": 10,
   "metadata": {},
   "outputs": [
    {
     "data": {
      "text/plain": [
       "URI            <http://dbpedia.org/resource/Barack_Obama>\n",
       "name                                         Barack Obama\n",
       "text    barack hussein obama ii brk husen bm born augu...\n",
       "Name: 35817, dtype: object"
      ]
     },
     "execution_count": 10,
     "metadata": {},
     "output_type": "execute_result"
    }
   ],
   "source": [
    "wiki.iloc[35817]"
   ]
  },
  {
   "cell_type": "markdown",
   "metadata": {},
   "source": [
    "### Knowing neighbors"
   ]
  },
  {
   "cell_type": "markdown",
   "metadata": {},
   "source": [
    "Take the train_matrix position of the person you want to measure"
   ]
  },
  {
   "cell_type": "code",
   "execution_count": 11,
   "metadata": {},
   "outputs": [
    {
     "data": {
      "text/plain": [
       "<1x548465 sparse matrix of type '<class 'numpy.int64'>'\n",
       "\twith 273 stored elements in Compressed Sparse Row format>"
      ]
     },
     "execution_count": 11,
     "metadata": {},
     "output_type": "execute_result"
    }
   ],
   "source": [
    "train_matrix[35817]"
   ]
  },
  {
   "cell_type": "markdown",
   "metadata": {},
   "source": [
    "Create a model with it returning 10 neighbors and their distances"
   ]
  },
  {
   "cell_type": "code",
   "execution_count": 12,
   "metadata": {},
   "outputs": [
    {
     "data": {
      "text/plain": [
       "(array([[ 0.        , 33.07567082, 34.39476704, 36.15245497, 36.16628264,\n",
       "         36.33180425, 36.40054945, 36.49657518, 36.63331817, 36.95943723]]),\n",
       " array([[35817, 24478, 28447, 35357, 14754, 13229, 31423, 22745, 36364,\n",
       "          9210]], dtype=int64))"
      ]
     },
     "execution_count": 12,
     "metadata": {},
     "output_type": "execute_result"
    }
   ],
   "source": [
    "model.kneighbors(train_matrix[35817], 10, return_distance=True)"
   ]
  },
  {
   "cell_type": "markdown",
   "metadata": {},
   "source": [
    "Since it is complicated to check each index, let's create a function that assembly all, names, indexes and distances"
   ]
  },
  {
   "cell_type": "code",
   "execution_count": 13,
   "metadata": {},
   "outputs": [],
   "source": [
    "def getRelatedNames(name,ammount,modelo,matrix):\n",
    "    if(len(wiki[wiki['name']==name])>0):\n",
    "        index = wiki[wiki['name']==name].index[0]\n",
    "        result = modelo.kneighbors(matrix[index], ammount, return_distance=True)\n",
    "        DF = []\n",
    "        for i in range(0,ammount):\n",
    "            new = {'QueryName':name,\n",
    "                         'Reference':wiki['name'].iloc[result[1][0][i]],\n",
    "                         'Distance':result[0][0][i],\n",
    "                         'Rank':i}\n",
    "            DF.append(new)\n",
    "        DF = pd.DataFrame(DF)\n",
    "        return DF\n",
    "    else:\n",
    "        print(\"There are none with such name\")"
   ]
  },
  {
   "cell_type": "code",
   "execution_count": 14,
   "metadata": {},
   "outputs": [
    {
     "data": {
      "text/html": [
       "<div>\n",
       "<style scoped>\n",
       "    .dataframe tbody tr th:only-of-type {\n",
       "        vertical-align: middle;\n",
       "    }\n",
       "\n",
       "    .dataframe tbody tr th {\n",
       "        vertical-align: top;\n",
       "    }\n",
       "\n",
       "    .dataframe thead th {\n",
       "        text-align: right;\n",
       "    }\n",
       "</style>\n",
       "<table border=\"1\" class=\"dataframe\">\n",
       "  <thead>\n",
       "    <tr style=\"text-align: right;\">\n",
       "      <th></th>\n",
       "      <th>Distance</th>\n",
       "      <th>QueryName</th>\n",
       "      <th>Rank</th>\n",
       "      <th>Reference</th>\n",
       "    </tr>\n",
       "  </thead>\n",
       "  <tbody>\n",
       "    <tr>\n",
       "      <th>0</th>\n",
       "      <td>0.000000</td>\n",
       "      <td>Barack Obama</td>\n",
       "      <td>0</td>\n",
       "      <td>Barack Obama</td>\n",
       "    </tr>\n",
       "    <tr>\n",
       "      <th>1</th>\n",
       "      <td>33.075671</td>\n",
       "      <td>Barack Obama</td>\n",
       "      <td>1</td>\n",
       "      <td>Joe Biden</td>\n",
       "    </tr>\n",
       "    <tr>\n",
       "      <th>2</th>\n",
       "      <td>34.394767</td>\n",
       "      <td>Barack Obama</td>\n",
       "      <td>2</td>\n",
       "      <td>George W. Bush</td>\n",
       "    </tr>\n",
       "    <tr>\n",
       "      <th>3</th>\n",
       "      <td>36.152455</td>\n",
       "      <td>Barack Obama</td>\n",
       "      <td>3</td>\n",
       "      <td>Lawrence Summers</td>\n",
       "    </tr>\n",
       "    <tr>\n",
       "      <th>4</th>\n",
       "      <td>36.166283</td>\n",
       "      <td>Barack Obama</td>\n",
       "      <td>4</td>\n",
       "      <td>Mitt Romney</td>\n",
       "    </tr>\n",
       "    <tr>\n",
       "      <th>5</th>\n",
       "      <td>36.331804</td>\n",
       "      <td>Barack Obama</td>\n",
       "      <td>5</td>\n",
       "      <td>Francisco Barrio</td>\n",
       "    </tr>\n",
       "    <tr>\n",
       "      <th>6</th>\n",
       "      <td>36.400549</td>\n",
       "      <td>Barack Obama</td>\n",
       "      <td>6</td>\n",
       "      <td>Walter Mondale</td>\n",
       "    </tr>\n",
       "    <tr>\n",
       "      <th>7</th>\n",
       "      <td>36.496575</td>\n",
       "      <td>Barack Obama</td>\n",
       "      <td>7</td>\n",
       "      <td>Wynn Normington Hugh-Jones</td>\n",
       "    </tr>\n",
       "    <tr>\n",
       "      <th>8</th>\n",
       "      <td>36.633318</td>\n",
       "      <td>Barack Obama</td>\n",
       "      <td>8</td>\n",
       "      <td>Don Bonker</td>\n",
       "    </tr>\n",
       "    <tr>\n",
       "      <th>9</th>\n",
       "      <td>36.959437</td>\n",
       "      <td>Barack Obama</td>\n",
       "      <td>9</td>\n",
       "      <td>Andy Anstett</td>\n",
       "    </tr>\n",
       "  </tbody>\n",
       "</table>\n",
       "</div>"
      ],
      "text/plain": [
       "    Distance     QueryName  Rank                   Reference\n",
       "0   0.000000  Barack Obama     0                Barack Obama\n",
       "1  33.075671  Barack Obama     1                   Joe Biden\n",
       "2  34.394767  Barack Obama     2              George W. Bush\n",
       "3  36.152455  Barack Obama     3            Lawrence Summers\n",
       "4  36.166283  Barack Obama     4                 Mitt Romney\n",
       "5  36.331804  Barack Obama     5            Francisco Barrio\n",
       "6  36.400549  Barack Obama     6              Walter Mondale\n",
       "7  36.496575  Barack Obama     7  Wynn Normington Hugh-Jones\n",
       "8  36.633318  Barack Obama     8                  Don Bonker\n",
       "9  36.959437  Barack Obama     9                Andy Anstett"
      ]
     },
     "execution_count": 14,
     "metadata": {},
     "output_type": "execute_result"
    }
   ],
   "source": [
    "getRelatedNames('Barack Obama',10,model,train_matrix)"
   ]
  },
  {
   "cell_type": "markdown",
   "metadata": {},
   "source": [
    "## Those are Obama's neighbors on wikipedia! Pretty cool right?"
   ]
  },
  {
   "cell_type": "markdown",
   "metadata": {},
   "source": [
    "# From which words?\n",
    "Now that I can relate them. I need to know why they are related, so, I have to check the words. These functions were used on the previous notebook"
   ]
  },
  {
   "cell_type": "code",
   "execution_count": 15,
   "metadata": {},
   "outputs": [],
   "source": [
    "def count_words(s):\n",
    "    # Pass all the words to lowercase and split them\n",
    "    word_list = str(s).lower().split()\n",
    "    #Use regular expressions to take only the alphanumeric words values\n",
    "    words = re.findall(r'\\w+', str(word_list))\n",
    "    #Use Counter to get the word count\n",
    "    return Counter(words)\n",
    "def strip_punctuation(s):\n",
    "    return ''.join([i for i in str(s) if i not in string.punctuation])"
   ]
  },
  {
   "cell_type": "markdown",
   "metadata": {},
   "source": [
    "Let's clean the data"
   ]
  },
  {
   "cell_type": "code",
   "execution_count": 16,
   "metadata": {},
   "outputs": [],
   "source": [
    "wikiWC = wiki\n",
    "wikiWC['text_clean'] = wikiWC['text'].apply(strip_punctuation)\n",
    "wikiWC['word_count'] = wikiWC['text_clean'].apply(count_words)"
   ]
  },
  {
   "cell_type": "markdown",
   "metadata": {},
   "source": [
    "** So, which is the most common word?**"
   ]
  },
  {
   "cell_type": "code",
   "execution_count": 17,
   "metadata": {},
   "outputs": [
    {
     "data": {
      "text/plain": [
       "'the'"
      ]
     },
     "execution_count": 17,
     "metadata": {},
     "output_type": "execute_result"
    }
   ],
   "source": [
    "wikiWC['word_count'].iloc[35817].most_common(10)[0][0]"
   ]
  },
  {
   "cell_type": "markdown",
   "metadata": {},
   "source": [
    "** Which are the top N words?**\n",
    "Let's create a function for that"
   ]
  },
  {
   "cell_type": "code",
   "execution_count": 19,
   "metadata": {},
   "outputs": [],
   "source": [
    "def top_words(name,ammount):\n",
    "    if(len(wiki[wiki['name']==name])>0):\n",
    "        index = wiki[wiki['name']==name].index[0]\n",
    "        lista = wikiWC['word_count'].iloc[index].most_common(ammount)\n",
    "        DF = []\n",
    "        for i in range(0,ammount):\n",
    "            new = {'Word':lista[i][0],\n",
    "                         'Count':lista[i][1]}\n",
    "            DF.append(new)\n",
    "        DF = pd.DataFrame(DF)\n",
    "        return DF\n",
    "    else:\n",
    "        print(\"There are none with such name\")"
   ]
  },
  {
   "cell_type": "code",
   "execution_count": 20,
   "metadata": {},
   "outputs": [
    {
     "data": {
      "text/html": [
       "<div>\n",
       "<style scoped>\n",
       "    .dataframe tbody tr th:only-of-type {\n",
       "        vertical-align: middle;\n",
       "    }\n",
       "\n",
       "    .dataframe tbody tr th {\n",
       "        vertical-align: top;\n",
       "    }\n",
       "\n",
       "    .dataframe thead th {\n",
       "        text-align: right;\n",
       "    }\n",
       "</style>\n",
       "<table border=\"1\" class=\"dataframe\">\n",
       "  <thead>\n",
       "    <tr style=\"text-align: right;\">\n",
       "      <th></th>\n",
       "      <th>Count</th>\n",
       "      <th>Word</th>\n",
       "    </tr>\n",
       "  </thead>\n",
       "  <tbody>\n",
       "    <tr>\n",
       "      <th>0</th>\n",
       "      <td>40</td>\n",
       "      <td>the</td>\n",
       "    </tr>\n",
       "    <tr>\n",
       "      <th>1</th>\n",
       "      <td>30</td>\n",
       "      <td>in</td>\n",
       "    </tr>\n",
       "    <tr>\n",
       "      <th>2</th>\n",
       "      <td>21</td>\n",
       "      <td>and</td>\n",
       "    </tr>\n",
       "    <tr>\n",
       "      <th>3</th>\n",
       "      <td>18</td>\n",
       "      <td>of</td>\n",
       "    </tr>\n",
       "    <tr>\n",
       "      <th>4</th>\n",
       "      <td>14</td>\n",
       "      <td>to</td>\n",
       "    </tr>\n",
       "  </tbody>\n",
       "</table>\n",
       "</div>"
      ],
      "text/plain": [
       "   Count Word\n",
       "0     40  the\n",
       "1     30   in\n",
       "2     21  and\n",
       "3     18   of\n",
       "4     14   to"
      ]
     },
     "execution_count": 20,
     "metadata": {},
     "output_type": "execute_result"
    }
   ],
   "source": [
    "obama_words = top_words('Barack Obama',20)\n",
    "obama_words.head()"
   ]
  },
  {
   "cell_type": "code",
   "execution_count": 21,
   "metadata": {},
   "outputs": [
    {
     "data": {
      "text/html": [
       "<div>\n",
       "<style scoped>\n",
       "    .dataframe tbody tr th:only-of-type {\n",
       "        vertical-align: middle;\n",
       "    }\n",
       "\n",
       "    .dataframe tbody tr th {\n",
       "        vertical-align: top;\n",
       "    }\n",
       "\n",
       "    .dataframe thead th {\n",
       "        text-align: right;\n",
       "    }\n",
       "</style>\n",
       "<table border=\"1\" class=\"dataframe\">\n",
       "  <thead>\n",
       "    <tr style=\"text-align: right;\">\n",
       "      <th></th>\n",
       "      <th>Count</th>\n",
       "      <th>Word</th>\n",
       "    </tr>\n",
       "  </thead>\n",
       "  <tbody>\n",
       "    <tr>\n",
       "      <th>0</th>\n",
       "      <td>36</td>\n",
       "      <td>the</td>\n",
       "    </tr>\n",
       "    <tr>\n",
       "      <th>1</th>\n",
       "      <td>24</td>\n",
       "      <td>of</td>\n",
       "    </tr>\n",
       "    <tr>\n",
       "      <th>2</th>\n",
       "      <td>18</td>\n",
       "      <td>and</td>\n",
       "    </tr>\n",
       "    <tr>\n",
       "      <th>3</th>\n",
       "      <td>17</td>\n",
       "      <td>in</td>\n",
       "    </tr>\n",
       "    <tr>\n",
       "      <th>4</th>\n",
       "      <td>10</td>\n",
       "      <td>he</td>\n",
       "    </tr>\n",
       "  </tbody>\n",
       "</table>\n",
       "</div>"
      ],
      "text/plain": [
       "   Count Word\n",
       "0     36  the\n",
       "1     24   of\n",
       "2     18  and\n",
       "3     17   in\n",
       "4     10   he"
      ]
     },
     "execution_count": 21,
     "metadata": {},
     "output_type": "execute_result"
    }
   ],
   "source": [
    "barrio_words = top_words('Francisco Barrio',200)\n",
    "barrio_words.head()"
   ]
  },
  {
   "cell_type": "markdown",
   "metadata": {},
   "source": [
    "Those words doesn't seem to be too significative..."
   ]
  },
  {
   "cell_type": "markdown",
   "metadata": {},
   "source": [
    "** Can these lists merge to check similarities?** "
   ]
  },
  {
   "cell_type": "code",
   "execution_count": 24,
   "metadata": {},
   "outputs": [
    {
     "data": {
      "text/html": [
       "<div>\n",
       "<style scoped>\n",
       "    .dataframe tbody tr th:only-of-type {\n",
       "        vertical-align: middle;\n",
       "    }\n",
       "\n",
       "    .dataframe tbody tr th {\n",
       "        vertical-align: top;\n",
       "    }\n",
       "\n",
       "    .dataframe thead th {\n",
       "        text-align: right;\n",
       "    }\n",
       "</style>\n",
       "<table border=\"1\" class=\"dataframe\">\n",
       "  <thead>\n",
       "    <tr style=\"text-align: right;\">\n",
       "      <th></th>\n",
       "      <th>Count_x</th>\n",
       "      <th>Word</th>\n",
       "      <th>Count_y</th>\n",
       "    </tr>\n",
       "  </thead>\n",
       "  <tbody>\n",
       "    <tr>\n",
       "      <th>0</th>\n",
       "      <td>40.0</td>\n",
       "      <td>the</td>\n",
       "      <td>36</td>\n",
       "    </tr>\n",
       "    <tr>\n",
       "      <th>1</th>\n",
       "      <td>30.0</td>\n",
       "      <td>in</td>\n",
       "      <td>17</td>\n",
       "    </tr>\n",
       "    <tr>\n",
       "      <th>2</th>\n",
       "      <td>21.0</td>\n",
       "      <td>and</td>\n",
       "      <td>18</td>\n",
       "    </tr>\n",
       "    <tr>\n",
       "      <th>3</th>\n",
       "      <td>18.0</td>\n",
       "      <td>of</td>\n",
       "      <td>24</td>\n",
       "    </tr>\n",
       "    <tr>\n",
       "      <th>4</th>\n",
       "      <td>14.0</td>\n",
       "      <td>to</td>\n",
       "      <td>9</td>\n",
       "    </tr>\n",
       "    <tr>\n",
       "      <th>5</th>\n",
       "      <td>11.0</td>\n",
       "      <td>his</td>\n",
       "      <td>5</td>\n",
       "    </tr>\n",
       "    <tr>\n",
       "      <th>6</th>\n",
       "      <td>7.0</td>\n",
       "      <td>a</td>\n",
       "      <td>6</td>\n",
       "    </tr>\n",
       "    <tr>\n",
       "      <th>7</th>\n",
       "      <td>7.0</td>\n",
       "      <td>he</td>\n",
       "      <td>10</td>\n",
       "    </tr>\n",
       "    <tr>\n",
       "      <th>8</th>\n",
       "      <td>6.0</td>\n",
       "      <td>as</td>\n",
       "      <td>5</td>\n",
       "    </tr>\n",
       "    <tr>\n",
       "      <th>9</th>\n",
       "      <td>5.0</td>\n",
       "      <td>was</td>\n",
       "      <td>4</td>\n",
       "    </tr>\n",
       "  </tbody>\n",
       "</table>\n",
       "</div>"
      ],
      "text/plain": [
       "   Count_x Word  Count_y\n",
       "0     40.0  the       36\n",
       "1     30.0   in       17\n",
       "2     21.0  and       18\n",
       "3     18.0   of       24\n",
       "4     14.0   to        9\n",
       "5     11.0  his        5\n",
       "6      7.0    a        6\n",
       "7      7.0   he       10\n",
       "8      6.0   as        5\n",
       "9      5.0  was        4"
      ]
     },
     "execution_count": 24,
     "metadata": {},
     "output_type": "execute_result"
    }
   ],
   "source": [
    "combined_words = obama_words.merge(barrio_words, on='Word',how='right').dropna()\n",
    "combined_words.head(10)"
   ]
  },
  {
   "cell_type": "code",
   "execution_count": 25,
   "metadata": {},
   "outputs": [
    {
     "data": {
      "text/html": [
       "<div>\n",
       "<style scoped>\n",
       "    .dataframe tbody tr th:only-of-type {\n",
       "        vertical-align: middle;\n",
       "    }\n",
       "\n",
       "    .dataframe tbody tr th {\n",
       "        vertical-align: top;\n",
       "    }\n",
       "\n",
       "    .dataframe thead th {\n",
       "        text-align: right;\n",
       "    }\n",
       "</style>\n",
       "<table border=\"1\" class=\"dataframe\">\n",
       "  <thead>\n",
       "    <tr style=\"text-align: right;\">\n",
       "      <th></th>\n",
       "      <th>Word</th>\n",
       "      <th>Obama</th>\n",
       "      <th>Barrio</th>\n",
       "    </tr>\n",
       "  </thead>\n",
       "  <tbody>\n",
       "    <tr>\n",
       "      <th>0</th>\n",
       "      <td>the</td>\n",
       "      <td>40.0</td>\n",
       "      <td>36</td>\n",
       "    </tr>\n",
       "    <tr>\n",
       "      <th>1</th>\n",
       "      <td>in</td>\n",
       "      <td>30.0</td>\n",
       "      <td>17</td>\n",
       "    </tr>\n",
       "    <tr>\n",
       "      <th>2</th>\n",
       "      <td>and</td>\n",
       "      <td>21.0</td>\n",
       "      <td>18</td>\n",
       "    </tr>\n",
       "    <tr>\n",
       "      <th>3</th>\n",
       "      <td>of</td>\n",
       "      <td>18.0</td>\n",
       "      <td>24</td>\n",
       "    </tr>\n",
       "    <tr>\n",
       "      <th>4</th>\n",
       "      <td>to</td>\n",
       "      <td>14.0</td>\n",
       "      <td>9</td>\n",
       "    </tr>\n",
       "    <tr>\n",
       "      <th>5</th>\n",
       "      <td>his</td>\n",
       "      <td>11.0</td>\n",
       "      <td>5</td>\n",
       "    </tr>\n",
       "    <tr>\n",
       "      <th>6</th>\n",
       "      <td>a</td>\n",
       "      <td>7.0</td>\n",
       "      <td>6</td>\n",
       "    </tr>\n",
       "    <tr>\n",
       "      <th>7</th>\n",
       "      <td>he</td>\n",
       "      <td>7.0</td>\n",
       "      <td>10</td>\n",
       "    </tr>\n",
       "    <tr>\n",
       "      <th>8</th>\n",
       "      <td>as</td>\n",
       "      <td>6.0</td>\n",
       "      <td>5</td>\n",
       "    </tr>\n",
       "    <tr>\n",
       "      <th>9</th>\n",
       "      <td>was</td>\n",
       "      <td>5.0</td>\n",
       "      <td>4</td>\n",
       "    </tr>\n",
       "    <tr>\n",
       "      <th>10</th>\n",
       "      <td>president</td>\n",
       "      <td>4.0</td>\n",
       "      <td>1</td>\n",
       "    </tr>\n",
       "    <tr>\n",
       "      <th>11</th>\n",
       "      <td>for</td>\n",
       "      <td>4.0</td>\n",
       "      <td>3</td>\n",
       "    </tr>\n",
       "  </tbody>\n",
       "</table>\n",
       "</div>"
      ],
      "text/plain": [
       "         Word  Obama  Barrio\n",
       "0         the   40.0      36\n",
       "1          in   30.0      17\n",
       "2         and   21.0      18\n",
       "3          of   18.0      24\n",
       "4          to   14.0       9\n",
       "5         his   11.0       5\n",
       "6           a    7.0       6\n",
       "7          he    7.0      10\n",
       "8          as    6.0       5\n",
       "9         was    5.0       4\n",
       "10  president    4.0       1\n",
       "11        for    4.0       3"
      ]
     },
     "execution_count": 25,
     "metadata": {},
     "output_type": "execute_result"
    }
   ],
   "source": [
    "combined_words = combined_words.rename(columns={'Count_x':'Obama', 'Count_y':'Barrio'})\n",
    "combined_words[['Word','Obama','Barrio']]"
   ]
  },
  {
   "cell_type": "markdown",
   "metadata": {},
   "source": [
    "# TF-IDF to the rescue!"
   ]
  },
  {
   "cell_type": "code",
   "execution_count": 26,
   "metadata": {},
   "outputs": [
    {
     "data": {
      "text/plain": [
       "35817    barack hussein obama ii brk husen bm born augu...\n",
       "Name: text, dtype: object"
      ]
     },
     "execution_count": 26,
     "metadata": {},
     "output_type": "execute_result"
    }
   ],
   "source": [
    "wiki[wiki['name']=='Barack Obama']['text']"
   ]
  },
  {
   "cell_type": "markdown",
   "metadata": {},
   "source": [
    "Let's vectorize according to TF-IDF, and see if the words change, and the neighbors change?"
   ]
  },
  {
   "cell_type": "code",
   "execution_count": 27,
   "metadata": {},
   "outputs": [],
   "source": [
    "from sklearn.feature_extraction.text import TfidfTransformer\n",
    "from sklearn.feature_extraction.text import TfidfVectorizer\n",
    "\n",
    "vectorizertf = TfidfVectorizer()\n",
    "\n",
    "train_matrixtf = vectorizertf.fit_transform(wiki['text'])\n",
    "\n",
    "weightstf = vectorizertf.idf_"
   ]
  },
  {
   "cell_type": "code",
   "execution_count": 28,
   "metadata": {},
   "outputs": [
    {
     "data": {
      "text/plain": [
       "(548429,)"
      ]
     },
     "execution_count": 28,
     "metadata": {},
     "output_type": "execute_result"
    }
   ],
   "source": [
    "weightstf.shape"
   ]
  },
  {
   "cell_type": "markdown",
   "metadata": {},
   "source": [
    "Let's print the most important words! (According to TF-IDF)"
   ]
  },
  {
   "cell_type": "code",
   "execution_count": 29,
   "metadata": {},
   "outputs": [
    {
     "data": {
      "text/html": [
       "<div>\n",
       "<style scoped>\n",
       "    .dataframe tbody tr th:only-of-type {\n",
       "        vertical-align: middle;\n",
       "    }\n",
       "\n",
       "    .dataframe tbody tr th {\n",
       "        vertical-align: top;\n",
       "    }\n",
       "\n",
       "    .dataframe thead th {\n",
       "        text-align: right;\n",
       "    }\n",
       "</style>\n",
       "<table border=\"1\" class=\"dataframe\">\n",
       "  <thead>\n",
       "    <tr style=\"text-align: right;\">\n",
       "      <th></th>\n",
       "      <th>term</th>\n",
       "      <th>weight</th>\n",
       "      <th>occ</th>\n",
       "    </tr>\n",
       "  </thead>\n",
       "  <tbody>\n",
       "    <tr>\n",
       "      <th>548428</th>\n",
       "      <td>zzts</td>\n",
       "      <td>11.293365</td>\n",
       "      <td>0.095168</td>\n",
       "    </tr>\n",
       "    <tr>\n",
       "      <th>285575</th>\n",
       "      <td>krugerhe</td>\n",
       "      <td>11.293365</td>\n",
       "      <td>0.139918</td>\n",
       "    </tr>\n",
       "    <tr>\n",
       "      <th>285586</th>\n",
       "      <td>kruislaan</td>\n",
       "      <td>11.293365</td>\n",
       "      <td>0.088331</td>\n",
       "    </tr>\n",
       "    <tr>\n",
       "      <th>285585</th>\n",
       "      <td>kruiningen</td>\n",
       "      <td>11.293365</td>\n",
       "      <td>0.142612</td>\n",
       "    </tr>\n",
       "    <tr>\n",
       "      <th>285584</th>\n",
       "      <td>kruifmafter</td>\n",
       "      <td>11.293365</td>\n",
       "      <td>0.065340</td>\n",
       "    </tr>\n",
       "    <tr>\n",
       "      <th>285582</th>\n",
       "      <td>krugmans</td>\n",
       "      <td>11.293365</td>\n",
       "      <td>0.115201</td>\n",
       "    </tr>\n",
       "    <tr>\n",
       "      <th>285581</th>\n",
       "      <td>krugmanrudyard</td>\n",
       "      <td>11.293365</td>\n",
       "      <td>0.094319</td>\n",
       "    </tr>\n",
       "    <tr>\n",
       "      <th>483175</th>\n",
       "      <td>teamamick</td>\n",
       "      <td>11.293365</td>\n",
       "      <td>0.047888</td>\n",
       "    </tr>\n",
       "    <tr>\n",
       "      <th>285579</th>\n",
       "      <td>kruglikova</td>\n",
       "      <td>11.293365</td>\n",
       "      <td>0.103305</td>\n",
       "    </tr>\n",
       "    <tr>\n",
       "      <th>285578</th>\n",
       "      <td>krugersdorp</td>\n",
       "      <td>11.293365</td>\n",
       "      <td>0.150712</td>\n",
       "    </tr>\n",
       "  </tbody>\n",
       "</table>\n",
       "</div>"
      ],
      "text/plain": [
       "                  term     weight       occ\n",
       "548428            zzts  11.293365  0.095168\n",
       "285575        krugerhe  11.293365  0.139918\n",
       "285586       kruislaan  11.293365  0.088331\n",
       "285585      kruiningen  11.293365  0.142612\n",
       "285584     kruifmafter  11.293365  0.065340\n",
       "285582        krugmans  11.293365  0.115201\n",
       "285581  krugmanrudyard  11.293365  0.094319\n",
       "483175       teamamick  11.293365  0.047888\n",
       "285579      kruglikova  11.293365  0.103305\n",
       "285578     krugersdorp  11.293365  0.150712"
      ]
     },
     "execution_count": 29,
     "metadata": {},
     "output_type": "execute_result"
    }
   ],
   "source": [
    "occ = np.asarray(train_matrixtf.sum(axis=0)).ravel().tolist()\n",
    "weights_df = pd.DataFrame({'term': vectorizertf.get_feature_names(), 'weight': weightstf, 'occ':occ})\n",
    "weights_df.sort_values(by='weight', ascending=False).head(10)"
   ]
  },
  {
   "cell_type": "markdown",
   "metadata": {},
   "source": [
    "I don't get any of that!!! So how does \"the\" weights?"
   ]
  },
  {
   "cell_type": "code",
   "execution_count": 30,
   "metadata": {},
   "outputs": [
    {
     "data": {
      "text/plain": [
       "1.0001015761229268"
      ]
     },
     "execution_count": 30,
     "metadata": {},
     "output_type": "execute_result"
    }
   ],
   "source": [
    "weights_df[weights_df['term']=='the'].weight.values[0]"
   ]
  },
  {
   "cell_type": "markdown",
   "metadata": {},
   "source": [
    "Let's create a function to obtain the TF-IDF top words of a person"
   ]
  },
  {
   "cell_type": "code",
   "execution_count": 31,
   "metadata": {},
   "outputs": [],
   "source": [
    "def top_wordsTF_IDF(name):\n",
    "    if(len(wiki[wiki['name']==name])>0):\n",
    "        index = wiki[wiki['name']==name].index[0]\n",
    "        unique_words = set(wiki['text'].iloc[index].split())\n",
    "        DF = []\n",
    "        for word in unique_words:\n",
    "            if(len(weights_df[weights_df['term']==word].weight.values)>0):\n",
    "                new = {'Weight':weights_df[weights_df['term']==word].weight.values[0],\n",
    "                         'Word':word}\n",
    "                DF.append(new)\n",
    "        DF = pd.DataFrame(DF)\n",
    "        return DF\n",
    "    else:\n",
    "        print(\"There are none with such name\")"
   ]
  },
  {
   "cell_type": "code",
   "execution_count": 32,
   "metadata": {},
   "outputs": [],
   "source": [
    "ObamaTopTF = top_wordsTF_IDF('Barack Obama')"
   ]
  },
  {
   "cell_type": "code",
   "execution_count": 33,
   "metadata": {},
   "outputs": [
    {
     "data": {
      "text/html": [
       "<div>\n",
       "<style scoped>\n",
       "    .dataframe tbody tr th:only-of-type {\n",
       "        vertical-align: middle;\n",
       "    }\n",
       "\n",
       "    .dataframe tbody tr th {\n",
       "        vertical-align: top;\n",
       "    }\n",
       "\n",
       "    .dataframe thead th {\n",
       "        text-align: right;\n",
       "    }\n",
       "</style>\n",
       "<table border=\"1\" class=\"dataframe\">\n",
       "  <thead>\n",
       "    <tr style=\"text-align: right;\">\n",
       "      <th></th>\n",
       "      <th>Weight</th>\n",
       "      <th>Word</th>\n",
       "    </tr>\n",
       "  </thead>\n",
       "  <tbody>\n",
       "    <tr>\n",
       "      <th>56</th>\n",
       "      <td>11.293365</td>\n",
       "      <td>2012obama</td>\n",
       "    </tr>\n",
       "    <tr>\n",
       "      <th>65</th>\n",
       "      <td>11.293365</td>\n",
       "      <td>laureateduring</td>\n",
       "    </tr>\n",
       "    <tr>\n",
       "      <th>97</th>\n",
       "      <td>11.293365</td>\n",
       "      <td>husen</td>\n",
       "    </tr>\n",
       "    <tr>\n",
       "      <th>37</th>\n",
       "      <td>10.887900</td>\n",
       "      <td>normalize</td>\n",
       "    </tr>\n",
       "    <tr>\n",
       "      <th>60</th>\n",
       "      <td>10.887900</td>\n",
       "      <td>brk</td>\n",
       "    </tr>\n",
       "    <tr>\n",
       "      <th>268</th>\n",
       "      <td>10.600218</td>\n",
       "      <td>doddfrank</td>\n",
       "    </tr>\n",
       "    <tr>\n",
       "      <th>252</th>\n",
       "      <td>9.907071</td>\n",
       "      <td>obamacare</td>\n",
       "    </tr>\n",
       "    <tr>\n",
       "      <th>205</th>\n",
       "      <td>9.789288</td>\n",
       "      <td>reauthorization</td>\n",
       "    </tr>\n",
       "    <tr>\n",
       "      <th>100</th>\n",
       "      <td>9.347455</td>\n",
       "      <td>reinvestment</td>\n",
       "    </tr>\n",
       "    <tr>\n",
       "      <th>216</th>\n",
       "      <td>8.654308</td>\n",
       "      <td>rodham</td>\n",
       "    </tr>\n",
       "  </tbody>\n",
       "</table>\n",
       "</div>"
      ],
      "text/plain": [
       "        Weight             Word\n",
       "56   11.293365        2012obama\n",
       "65   11.293365   laureateduring\n",
       "97   11.293365            husen\n",
       "37   10.887900        normalize\n",
       "60   10.887900              brk\n",
       "268  10.600218        doddfrank\n",
       "252   9.907071        obamacare\n",
       "205   9.789288  reauthorization\n",
       "100   9.347455     reinvestment\n",
       "216   8.654308           rodham"
      ]
     },
     "execution_count": 33,
     "metadata": {},
     "output_type": "execute_result"
    }
   ],
   "source": [
    "ObamaTopTF.sort_values(by='Weight', ascending=False).head(10)"
   ]
  },
  {
   "cell_type": "markdown",
   "metadata": {},
   "source": [
    "Those words.... Actually... They mean something, those are related to Obama!"
   ]
  },
  {
   "cell_type": "markdown",
   "metadata": {},
   "source": [
    "Maybe it was a lucky guess! Let's try another guy. Nancy Sinatra!"
   ]
  },
  {
   "cell_type": "code",
   "execution_count": 34,
   "metadata": {},
   "outputs": [],
   "source": [
    "NancyTopTF = top_wordsTF_IDF('Nancy Sinatra')"
   ]
  },
  {
   "cell_type": "code",
   "execution_count": 35,
   "metadata": {},
   "outputs": [
    {
     "data": {
      "text/html": [
       "<div>\n",
       "<style scoped>\n",
       "    .dataframe tbody tr th:only-of-type {\n",
       "        vertical-align: middle;\n",
       "    }\n",
       "\n",
       "    .dataframe tbody tr th {\n",
       "        vertical-align: top;\n",
       "    }\n",
       "\n",
       "    .dataframe thead th {\n",
       "        text-align: right;\n",
       "    }\n",
       "</style>\n",
       "<table border=\"1\" class=\"dataframe\">\n",
       "  <thead>\n",
       "    <tr style=\"text-align: right;\">\n",
       "      <th></th>\n",
       "      <th>Weight</th>\n",
       "      <th>Word</th>\n",
       "    </tr>\n",
       "  </thead>\n",
       "  <tbody>\n",
       "    <tr>\n",
       "      <th>134</th>\n",
       "      <td>11.293365</td>\n",
       "      <td>walkinother</td>\n",
       "    </tr>\n",
       "    <tr>\n",
       "      <th>71</th>\n",
       "      <td>11.293365</td>\n",
       "      <td>conductorsinatra</td>\n",
       "    </tr>\n",
       "    <tr>\n",
       "      <th>57</th>\n",
       "      <td>11.293365</td>\n",
       "      <td>onenancy</td>\n",
       "    </tr>\n",
       "    <tr>\n",
       "      <th>15</th>\n",
       "      <td>11.293365</td>\n",
       "      <td>bighaired</td>\n",
       "    </tr>\n",
       "    <tr>\n",
       "      <th>72</th>\n",
       "      <td>10.600218</td>\n",
       "      <td>miniskirts</td>\n",
       "    </tr>\n",
       "    <tr>\n",
       "      <th>36</th>\n",
       "      <td>10.377074</td>\n",
       "      <td>goodnatured</td>\n",
       "    </tr>\n",
       "    <tr>\n",
       "      <th>121</th>\n",
       "      <td>10.194753</td>\n",
       "      <td>hazlewood</td>\n",
       "    </tr>\n",
       "    <tr>\n",
       "      <th>37</th>\n",
       "      <td>10.040602</td>\n",
       "      <td>singeractor</td>\n",
       "    </tr>\n",
       "    <tr>\n",
       "      <th>119</th>\n",
       "      <td>9.907071</td>\n",
       "      <td>somethin</td>\n",
       "    </tr>\n",
       "    <tr>\n",
       "      <th>111</th>\n",
       "      <td>9.789288</td>\n",
       "      <td>chers</td>\n",
       "    </tr>\n",
       "  </tbody>\n",
       "</table>\n",
       "</div>"
      ],
      "text/plain": [
       "        Weight              Word\n",
       "134  11.293365       walkinother\n",
       "71   11.293365  conductorsinatra\n",
       "57   11.293365          onenancy\n",
       "15   11.293365         bighaired\n",
       "72   10.600218        miniskirts\n",
       "36   10.377074       goodnatured\n",
       "121  10.194753         hazlewood\n",
       "37   10.040602       singeractor\n",
       "119   9.907071          somethin\n",
       "111   9.789288             chers"
      ]
     },
     "execution_count": 35,
     "metadata": {},
     "output_type": "execute_result"
    }
   ],
   "source": [
    "NancyTopTF.sort_values(by='Weight', ascending=False).head(10)"
   ]
  },
  {
   "cell_type": "markdown",
   "metadata": {},
   "source": [
    "# New Model"
   ]
  },
  {
   "cell_type": "markdown",
   "metadata": {},
   "source": [
    "Now that the words have sense, let's create a new model with TF-IDF."
   ]
  },
  {
   "cell_type": "code",
   "execution_count": 36,
   "metadata": {},
   "outputs": [
    {
     "data": {
      "text/plain": [
       "NearestNeighbors(algorithm='auto', leaf_size=30, metric='minkowski',\n",
       "         metric_params=None, n_jobs=None, n_neighbors=5, p=2, radius=1.0)"
      ]
     },
     "execution_count": 36,
     "metadata": {},
     "output_type": "execute_result"
    }
   ],
   "source": [
    "model = NearestNeighbors()\n",
    "model.fit(train_matrixtf)"
   ]
  },
  {
   "cell_type": "markdown",
   "metadata": {},
   "source": [
    "Let's see Obama's new neighbors:"
   ]
  },
  {
   "cell_type": "code",
   "execution_count": 38,
   "metadata": {},
   "outputs": [
    {
     "data": {
      "text/html": [
       "<div>\n",
       "<style scoped>\n",
       "    .dataframe tbody tr th:only-of-type {\n",
       "        vertical-align: middle;\n",
       "    }\n",
       "\n",
       "    .dataframe tbody tr th {\n",
       "        vertical-align: top;\n",
       "    }\n",
       "\n",
       "    .dataframe thead th {\n",
       "        text-align: right;\n",
       "    }\n",
       "</style>\n",
       "<table border=\"1\" class=\"dataframe\">\n",
       "  <thead>\n",
       "    <tr style=\"text-align: right;\">\n",
       "      <th></th>\n",
       "      <th>Distance</th>\n",
       "      <th>QueryName</th>\n",
       "      <th>Rank</th>\n",
       "      <th>Reference</th>\n",
       "    </tr>\n",
       "  </thead>\n",
       "  <tbody>\n",
       "    <tr>\n",
       "      <th>0</th>\n",
       "      <td>0.000000</td>\n",
       "      <td>Barack Obama</td>\n",
       "      <td>0</td>\n",
       "      <td>Barack Obama</td>\n",
       "    </tr>\n",
       "    <tr>\n",
       "      <th>1</th>\n",
       "      <td>1.068439</td>\n",
       "      <td>Barack Obama</td>\n",
       "      <td>1</td>\n",
       "      <td>Joe Biden</td>\n",
       "    </tr>\n",
       "    <tr>\n",
       "      <th>2</th>\n",
       "      <td>1.109896</td>\n",
       "      <td>Barack Obama</td>\n",
       "      <td>2</td>\n",
       "      <td>Hillary Rodham Clinton</td>\n",
       "    </tr>\n",
       "    <tr>\n",
       "      <th>3</th>\n",
       "      <td>1.118028</td>\n",
       "      <td>Barack Obama</td>\n",
       "      <td>3</td>\n",
       "      <td>Samantha Power</td>\n",
       "    </tr>\n",
       "    <tr>\n",
       "      <th>4</th>\n",
       "      <td>1.139969</td>\n",
       "      <td>Barack Obama</td>\n",
       "      <td>4</td>\n",
       "      <td>Eric Stern (politician)</td>\n",
       "    </tr>\n",
       "    <tr>\n",
       "      <th>5</th>\n",
       "      <td>1.147769</td>\n",
       "      <td>Barack Obama</td>\n",
       "      <td>5</td>\n",
       "      <td>George W. Bush</td>\n",
       "    </tr>\n",
       "    <tr>\n",
       "      <th>6</th>\n",
       "      <td>1.150374</td>\n",
       "      <td>Barack Obama</td>\n",
       "      <td>6</td>\n",
       "      <td>John McCain</td>\n",
       "    </tr>\n",
       "    <tr>\n",
       "      <th>7</th>\n",
       "      <td>1.154939</td>\n",
       "      <td>Barack Obama</td>\n",
       "      <td>7</td>\n",
       "      <td>Artur Davis</td>\n",
       "    </tr>\n",
       "    <tr>\n",
       "      <th>8</th>\n",
       "      <td>1.157761</td>\n",
       "      <td>Barack Obama</td>\n",
       "      <td>8</td>\n",
       "      <td>Henry Waxman</td>\n",
       "    </tr>\n",
       "    <tr>\n",
       "      <th>9</th>\n",
       "      <td>1.159678</td>\n",
       "      <td>Barack Obama</td>\n",
       "      <td>9</td>\n",
       "      <td>Jeff Sessions</td>\n",
       "    </tr>\n",
       "  </tbody>\n",
       "</table>\n",
       "</div>"
      ],
      "text/plain": [
       "   Distance     QueryName  Rank                Reference\n",
       "0  0.000000  Barack Obama     0             Barack Obama\n",
       "1  1.068439  Barack Obama     1                Joe Biden\n",
       "2  1.109896  Barack Obama     2   Hillary Rodham Clinton\n",
       "3  1.118028  Barack Obama     3           Samantha Power\n",
       "4  1.139969  Barack Obama     4  Eric Stern (politician)\n",
       "5  1.147769  Barack Obama     5           George W. Bush\n",
       "6  1.150374  Barack Obama     6              John McCain\n",
       "7  1.154939  Barack Obama     7              Artur Davis\n",
       "8  1.157761  Barack Obama     8             Henry Waxman\n",
       "9  1.159678  Barack Obama     9            Jeff Sessions"
      ]
     },
     "execution_count": 38,
     "metadata": {},
     "output_type": "execute_result"
    }
   ],
   "source": [
    "getRelatedNames('Barack Obama',10,model,train_matrixtf)"
   ]
  },
  {
   "cell_type": "markdown",
   "metadata": {},
   "source": [
    "Let's try with the euclidean distance:"
   ]
  },
  {
   "cell_type": "code",
   "execution_count": 39,
   "metadata": {},
   "outputs": [
    {
     "data": {
      "text/html": [
       "<div>\n",
       "<style scoped>\n",
       "    .dataframe tbody tr th:only-of-type {\n",
       "        vertical-align: middle;\n",
       "    }\n",
       "\n",
       "    .dataframe tbody tr th {\n",
       "        vertical-align: top;\n",
       "    }\n",
       "\n",
       "    .dataframe thead th {\n",
       "        text-align: right;\n",
       "    }\n",
       "</style>\n",
       "<table border=\"1\" class=\"dataframe\">\n",
       "  <thead>\n",
       "    <tr style=\"text-align: right;\">\n",
       "      <th></th>\n",
       "      <th>Distance</th>\n",
       "      <th>QueryName</th>\n",
       "      <th>Rank</th>\n",
       "      <th>Reference</th>\n",
       "    </tr>\n",
       "  </thead>\n",
       "  <tbody>\n",
       "    <tr>\n",
       "      <th>0</th>\n",
       "      <td>0.000000</td>\n",
       "      <td>Barack Obama</td>\n",
       "      <td>0</td>\n",
       "      <td>Barack Obama</td>\n",
       "    </tr>\n",
       "    <tr>\n",
       "      <th>1</th>\n",
       "      <td>1.068439</td>\n",
       "      <td>Barack Obama</td>\n",
       "      <td>1</td>\n",
       "      <td>Joe Biden</td>\n",
       "    </tr>\n",
       "    <tr>\n",
       "      <th>2</th>\n",
       "      <td>1.109896</td>\n",
       "      <td>Barack Obama</td>\n",
       "      <td>2</td>\n",
       "      <td>Hillary Rodham Clinton</td>\n",
       "    </tr>\n",
       "    <tr>\n",
       "      <th>3</th>\n",
       "      <td>1.118028</td>\n",
       "      <td>Barack Obama</td>\n",
       "      <td>3</td>\n",
       "      <td>Samantha Power</td>\n",
       "    </tr>\n",
       "    <tr>\n",
       "      <th>4</th>\n",
       "      <td>1.139969</td>\n",
       "      <td>Barack Obama</td>\n",
       "      <td>4</td>\n",
       "      <td>Eric Stern (politician)</td>\n",
       "    </tr>\n",
       "    <tr>\n",
       "      <th>5</th>\n",
       "      <td>1.147769</td>\n",
       "      <td>Barack Obama</td>\n",
       "      <td>5</td>\n",
       "      <td>George W. Bush</td>\n",
       "    </tr>\n",
       "    <tr>\n",
       "      <th>6</th>\n",
       "      <td>1.150374</td>\n",
       "      <td>Barack Obama</td>\n",
       "      <td>6</td>\n",
       "      <td>John McCain</td>\n",
       "    </tr>\n",
       "    <tr>\n",
       "      <th>7</th>\n",
       "      <td>1.154939</td>\n",
       "      <td>Barack Obama</td>\n",
       "      <td>7</td>\n",
       "      <td>Artur Davis</td>\n",
       "    </tr>\n",
       "    <tr>\n",
       "      <th>8</th>\n",
       "      <td>1.157761</td>\n",
       "      <td>Barack Obama</td>\n",
       "      <td>8</td>\n",
       "      <td>Henry Waxman</td>\n",
       "    </tr>\n",
       "    <tr>\n",
       "      <th>9</th>\n",
       "      <td>1.159678</td>\n",
       "      <td>Barack Obama</td>\n",
       "      <td>9</td>\n",
       "      <td>Jeff Sessions</td>\n",
       "    </tr>\n",
       "  </tbody>\n",
       "</table>\n",
       "</div>"
      ],
      "text/plain": [
       "   Distance     QueryName  Rank                Reference\n",
       "0  0.000000  Barack Obama     0             Barack Obama\n",
       "1  1.068439  Barack Obama     1                Joe Biden\n",
       "2  1.109896  Barack Obama     2   Hillary Rodham Clinton\n",
       "3  1.118028  Barack Obama     3           Samantha Power\n",
       "4  1.139969  Barack Obama     4  Eric Stern (politician)\n",
       "5  1.147769  Barack Obama     5           George W. Bush\n",
       "6  1.150374  Barack Obama     6              John McCain\n",
       "7  1.154939  Barack Obama     7              Artur Davis\n",
       "8  1.157761  Barack Obama     8             Henry Waxman\n",
       "9  1.159678  Barack Obama     9            Jeff Sessions"
      ]
     },
     "execution_count": 39,
     "metadata": {},
     "output_type": "execute_result"
    }
   ],
   "source": [
    "model = NearestNeighbors(n_neighbors=10,metric='euclidean')\n",
    "model.fit(train_matrixtf)\n",
    "getRelatedNames('Barack Obama',10,model,train_matrixtf)"
   ]
  },
  {
   "cell_type": "markdown",
   "metadata": {},
   "source": [
    "How about a famous actor?"
   ]
  },
  {
   "cell_type": "code",
   "execution_count": 40,
   "metadata": {},
   "outputs": [
    {
     "data": {
      "text/html": [
       "<div>\n",
       "<style scoped>\n",
       "    .dataframe tbody tr th:only-of-type {\n",
       "        vertical-align: middle;\n",
       "    }\n",
       "\n",
       "    .dataframe tbody tr th {\n",
       "        vertical-align: top;\n",
       "    }\n",
       "\n",
       "    .dataframe thead th {\n",
       "        text-align: right;\n",
       "    }\n",
       "</style>\n",
       "<table border=\"1\" class=\"dataframe\">\n",
       "  <thead>\n",
       "    <tr style=\"text-align: right;\">\n",
       "      <th></th>\n",
       "      <th>Distance</th>\n",
       "      <th>QueryName</th>\n",
       "      <th>Rank</th>\n",
       "      <th>Reference</th>\n",
       "    </tr>\n",
       "  </thead>\n",
       "  <tbody>\n",
       "    <tr>\n",
       "      <th>0</th>\n",
       "      <td>0.000000</td>\n",
       "      <td>Al Pacino</td>\n",
       "      <td>0</td>\n",
       "      <td>Al Pacino</td>\n",
       "    </tr>\n",
       "    <tr>\n",
       "      <th>1</th>\n",
       "      <td>1.150670</td>\n",
       "      <td>Al Pacino</td>\n",
       "      <td>1</td>\n",
       "      <td>Robert De Niro</td>\n",
       "    </tr>\n",
       "    <tr>\n",
       "      <th>2</th>\n",
       "      <td>1.151830</td>\n",
       "      <td>Al Pacino</td>\n",
       "      <td>2</td>\n",
       "      <td>Russell Crowe</td>\n",
       "    </tr>\n",
       "    <tr>\n",
       "      <th>3</th>\n",
       "      <td>1.185082</td>\n",
       "      <td>Al Pacino</td>\n",
       "      <td>3</td>\n",
       "      <td>Sean Penn</td>\n",
       "    </tr>\n",
       "    <tr>\n",
       "      <th>4</th>\n",
       "      <td>1.186615</td>\n",
       "      <td>Al Pacino</td>\n",
       "      <td>4</td>\n",
       "      <td>Meryl Streep</td>\n",
       "    </tr>\n",
       "    <tr>\n",
       "      <th>5</th>\n",
       "      <td>1.187954</td>\n",
       "      <td>Al Pacino</td>\n",
       "      <td>5</td>\n",
       "      <td>Ethan Hawke</td>\n",
       "    </tr>\n",
       "    <tr>\n",
       "      <th>6</th>\n",
       "      <td>1.189877</td>\n",
       "      <td>Al Pacino</td>\n",
       "      <td>6</td>\n",
       "      <td>Ralph Fiennes</td>\n",
       "    </tr>\n",
       "    <tr>\n",
       "      <th>7</th>\n",
       "      <td>1.190662</td>\n",
       "      <td>Al Pacino</td>\n",
       "      <td>7</td>\n",
       "      <td>George Clooney</td>\n",
       "    </tr>\n",
       "    <tr>\n",
       "      <th>8</th>\n",
       "      <td>1.192521</td>\n",
       "      <td>Al Pacino</td>\n",
       "      <td>8</td>\n",
       "      <td>Jack Nicholson</td>\n",
       "    </tr>\n",
       "    <tr>\n",
       "      <th>9</th>\n",
       "      <td>1.197527</td>\n",
       "      <td>Al Pacino</td>\n",
       "      <td>9</td>\n",
       "      <td>Daniel Day-Lewis</td>\n",
       "    </tr>\n",
       "  </tbody>\n",
       "</table>\n",
       "</div>"
      ],
      "text/plain": [
       "   Distance  QueryName  Rank         Reference\n",
       "0  0.000000  Al Pacino     0         Al Pacino\n",
       "1  1.150670  Al Pacino     1    Robert De Niro\n",
       "2  1.151830  Al Pacino     2     Russell Crowe\n",
       "3  1.185082  Al Pacino     3         Sean Penn\n",
       "4  1.186615  Al Pacino     4      Meryl Streep\n",
       "5  1.187954  Al Pacino     5       Ethan Hawke\n",
       "6  1.189877  Al Pacino     6     Ralph Fiennes\n",
       "7  1.190662  Al Pacino     7    George Clooney\n",
       "8  1.192521  Al Pacino     8    Jack Nicholson\n",
       "9  1.197527  Al Pacino     9  Daniel Day-Lewis"
      ]
     },
     "execution_count": 40,
     "metadata": {},
     "output_type": "execute_result"
    }
   ],
   "source": [
    "getRelatedNames('Al Pacino',10,model,train_matrixtf)"
   ]
  },
  {
   "cell_type": "markdown",
   "metadata": {},
   "source": [
    "## What happened with the \"bad\" words?"
   ]
  },
  {
   "cell_type": "code",
   "execution_count": 41,
   "metadata": {},
   "outputs": [
    {
     "data": {
      "text/html": [
       "<div>\n",
       "<style scoped>\n",
       "    .dataframe tbody tr th:only-of-type {\n",
       "        vertical-align: middle;\n",
       "    }\n",
       "\n",
       "    .dataframe tbody tr th {\n",
       "        vertical-align: top;\n",
       "    }\n",
       "\n",
       "    .dataframe thead th {\n",
       "        text-align: right;\n",
       "    }\n",
       "</style>\n",
       "<table border=\"1\" class=\"dataframe\">\n",
       "  <thead>\n",
       "    <tr style=\"text-align: right;\">\n",
       "      <th></th>\n",
       "      <th>term</th>\n",
       "      <th>occurrences</th>\n",
       "    </tr>\n",
       "  </thead>\n",
       "  <tbody>\n",
       "    <tr>\n",
       "      <th>488178</th>\n",
       "      <td>the</td>\n",
       "      <td>1156479</td>\n",
       "    </tr>\n",
       "    <tr>\n",
       "      <th>251924</th>\n",
       "      <td>in</td>\n",
       "      <td>668317</td>\n",
       "    </tr>\n",
       "    <tr>\n",
       "      <th>58917</th>\n",
       "      <td>and</td>\n",
       "      <td>641587</td>\n",
       "    </tr>\n",
       "    <tr>\n",
       "      <th>360093</th>\n",
       "      <td>of</td>\n",
       "      <td>631290</td>\n",
       "    </tr>\n",
       "    <tr>\n",
       "      <th>41705</th>\n",
       "      <td>a</td>\n",
       "      <td>406426</td>\n",
       "    </tr>\n",
       "    <tr>\n",
       "      <th>233792</th>\n",
       "      <td>he</td>\n",
       "      <td>310487</td>\n",
       "    </tr>\n",
       "    <tr>\n",
       "      <th>494571</th>\n",
       "      <td>to</td>\n",
       "      <td>301421</td>\n",
       "    </tr>\n",
       "    <tr>\n",
       "      <th>525878</th>\n",
       "      <td>was</td>\n",
       "      <td>233234</td>\n",
       "    </tr>\n",
       "    <tr>\n",
       "      <th>202478</th>\n",
       "      <td>for</td>\n",
       "      <td>223928</td>\n",
       "    </tr>\n",
       "    <tr>\n",
       "      <th>68190</th>\n",
       "      <td>as</td>\n",
       "      <td>182483</td>\n",
       "    </tr>\n",
       "    <tr>\n",
       "      <th>239289</th>\n",
       "      <td>his</td>\n",
       "      <td>176898</td>\n",
       "    </tr>\n",
       "    <tr>\n",
       "      <th>259912</th>\n",
       "      <td>is</td>\n",
       "      <td>164260</td>\n",
       "    </tr>\n",
       "    <tr>\n",
       "      <th>362820</th>\n",
       "      <td>on</td>\n",
       "      <td>154827</td>\n",
       "    </tr>\n",
       "    <tr>\n",
       "      <th>70633</th>\n",
       "      <td>at</td>\n",
       "      <td>151984</td>\n",
       "    </tr>\n",
       "    <tr>\n",
       "      <th>533472</th>\n",
       "      <td>with</td>\n",
       "      <td>146966</td>\n",
       "    </tr>\n",
       "    <tr>\n",
       "      <th>207240</th>\n",
       "      <td>from</td>\n",
       "      <td>106495</td>\n",
       "    </tr>\n",
       "    <tr>\n",
       "      <th>232370</th>\n",
       "      <td>has</td>\n",
       "      <td>95317</td>\n",
       "    </tr>\n",
       "    <tr>\n",
       "      <th>105815</th>\n",
       "      <td>by</td>\n",
       "      <td>92726</td>\n",
       "    </tr>\n",
       "    <tr>\n",
       "      <th>58317</th>\n",
       "      <td>an</td>\n",
       "      <td>86597</td>\n",
       "    </tr>\n",
       "    <tr>\n",
       "      <th>446918</th>\n",
       "      <td>she</td>\n",
       "      <td>75066</td>\n",
       "    </tr>\n",
       "  </tbody>\n",
       "</table>\n",
       "</div>"
      ],
      "text/plain": [
       "        term  occurrences\n",
       "488178   the      1156479\n",
       "251924    in       668317\n",
       "58917    and       641587\n",
       "360093    of       631290\n",
       "41705      a       406426\n",
       "233792    he       310487\n",
       "494571    to       301421\n",
       "525878   was       233234\n",
       "202478   for       223928\n",
       "68190     as       182483\n",
       "239289   his       176898\n",
       "259912    is       164260\n",
       "362820    on       154827\n",
       "70633     at       151984\n",
       "533472  with       146966\n",
       "207240  from       106495\n",
       "232370   has        95317\n",
       "105815    by        92726\n",
       "58317     an        86597\n",
       "446918   she        75066"
      ]
     },
     "execution_count": 41,
     "metadata": {},
     "output_type": "execute_result"
    }
   ],
   "source": [
    "occ = np.asarray(test_matrix.sum(axis=0)).ravel().tolist()\n",
    "counts_df = pd.DataFrame({'term': vectorizer.get_feature_names(), 'occurrences': occ})\n",
    "counts_df.sort_values(by='occurrences', ascending=False).head(20)"
   ]
  },
  {
   "cell_type": "markdown",
   "metadata": {},
   "source": [
    "What happens if we wnat to calculate the distance between Obama and Al Pacino or any others?"
   ]
  },
  {
   "cell_type": "code",
   "execution_count": 42,
   "metadata": {},
   "outputs": [],
   "source": [
    "def getDistancesNames(name1,name2,modelo,matrix):\n",
    "    if(len(wiki[wiki['name']==name1])>0):\n",
    "        index = wiki[wiki['name']==name1].index[0]\n",
    "        result = modelo.kneighbors(matrix[index], len(wiki)-1, return_distance=True)\n",
    "        DF = []\n",
    "        for i in range(0,len(wiki)-1):\n",
    "            if(wiki['name'].iloc[result[1][0][i]]==name2):\n",
    "                new = {'QueryName':name1,\n",
    "                             'Reference':wiki['name'].iloc[result[1][0][i]],\n",
    "                             'Distance':result[0][0][i],\n",
    "                             'Rank':i}\n",
    "                DF.append(new)\n",
    "        DF = pd.DataFrame(DF)\n",
    "        return DF\n",
    "    else:\n",
    "        print(\"There are none with such name\")"
   ]
  },
  {
   "cell_type": "code",
   "execution_count": 43,
   "metadata": {},
   "outputs": [
    {
     "data": {
      "text/html": [
       "<div>\n",
       "<style scoped>\n",
       "    .dataframe tbody tr th:only-of-type {\n",
       "        vertical-align: middle;\n",
       "    }\n",
       "\n",
       "    .dataframe tbody tr th {\n",
       "        vertical-align: top;\n",
       "    }\n",
       "\n",
       "    .dataframe thead th {\n",
       "        text-align: right;\n",
       "    }\n",
       "</style>\n",
       "<table border=\"1\" class=\"dataframe\">\n",
       "  <thead>\n",
       "    <tr style=\"text-align: right;\">\n",
       "      <th></th>\n",
       "      <th>Distance</th>\n",
       "      <th>QueryName</th>\n",
       "      <th>Rank</th>\n",
       "      <th>Reference</th>\n",
       "    </tr>\n",
       "  </thead>\n",
       "  <tbody>\n",
       "    <tr>\n",
       "      <th>0</th>\n",
       "      <td>1.316875</td>\n",
       "      <td>Barack Obama</td>\n",
       "      <td>26569</td>\n",
       "      <td>Al Pacino</td>\n",
       "    </tr>\n",
       "  </tbody>\n",
       "</table>\n",
       "</div>"
      ],
      "text/plain": [
       "   Distance     QueryName   Rank  Reference\n",
       "0  1.316875  Barack Obama  26569  Al Pacino"
      ]
     },
     "execution_count": 43,
     "metadata": {},
     "output_type": "execute_result"
    }
   ],
   "source": [
    "getDistancesNames('Barack Obama','Al Pacino',model,train_matrixtf)"
   ]
  },
  {
   "cell_type": "markdown",
   "metadata": {
    "collapsed": true
   },
   "source": [
    "# K-means\n",
    "For this example, let's use a new dataset, that is lighter and more interesting for us.<p>\n",
    "This data set compromises the metadata for the 2014 AAAI conference's accepted papers, including paper titles, authors, abstracts, and keywords of varying granularity. It's an UCI dataset."
   ]
  },
  {
   "cell_type": "code",
   "execution_count": 44,
   "metadata": {},
   "outputs": [
    {
     "data": {
      "text/html": [
       "<div>\n",
       "<style scoped>\n",
       "    .dataframe tbody tr th:only-of-type {\n",
       "        vertical-align: middle;\n",
       "    }\n",
       "\n",
       "    .dataframe tbody tr th {\n",
       "        vertical-align: top;\n",
       "    }\n",
       "\n",
       "    .dataframe thead th {\n",
       "        text-align: right;\n",
       "    }\n",
       "</style>\n",
       "<table border=\"1\" class=\"dataframe\">\n",
       "  <thead>\n",
       "    <tr style=\"text-align: right;\">\n",
       "      <th></th>\n",
       "      <th>title</th>\n",
       "      <th>authors</th>\n",
       "      <th>groups</th>\n",
       "      <th>keywords</th>\n",
       "      <th>topics</th>\n",
       "      <th>abstract</th>\n",
       "    </tr>\n",
       "  </thead>\n",
       "  <tbody>\n",
       "    <tr>\n",
       "      <th>0</th>\n",
       "      <td>Kernelized Bayesian Transfer Learning</td>\n",
       "      <td>Mehmet Gönen and Adam A. Margolin</td>\n",
       "      <td>Novel Machine Learning Algorithms (NMLA)</td>\n",
       "      <td>cross-domain learning\\ndomain adaptation\\nkern...</td>\n",
       "      <td>APP: Biomedical / Bioinformatics\\nNMLA: Bayesi...</td>\n",
       "      <td>Transfer learning considers related but distin...</td>\n",
       "    </tr>\n",
       "    <tr>\n",
       "      <th>1</th>\n",
       "      <td>\"Source Free\" Transfer Learning for Text Class...</td>\n",
       "      <td>Zhongqi Lu, Yin Zhu, Sinno Pan, Evan Xiang, Yu...</td>\n",
       "      <td>AI and the Web (AIW)\\nNovel Machine Learning A...</td>\n",
       "      <td>Transfer Learning\\nAuxiliary Data Retrieval\\nT...</td>\n",
       "      <td>AIW: Knowledge acquisition from the web\\nAIW: ...</td>\n",
       "      <td>Transfer learning uses relevant auxiliary data...</td>\n",
       "    </tr>\n",
       "    <tr>\n",
       "      <th>2</th>\n",
       "      <td>A Generalization of Probabilistic Serial to Ra...</td>\n",
       "      <td>Haris Aziz and Paul Stursberg</td>\n",
       "      <td>Game Theory and Economic Paradigms (GTEP)</td>\n",
       "      <td>social choice theory\\nvoting\\nfair division\\ns...</td>\n",
       "      <td>GTEP: Game Theory\\nGTEP: Social Choice / Voting</td>\n",
       "      <td>The probabilistic serial (PS) rule is one of t...</td>\n",
       "    </tr>\n",
       "    <tr>\n",
       "      <th>3</th>\n",
       "      <td>Lifetime Lexical Variation in Social Media</td>\n",
       "      <td>Liao Lizi, Jing Jiang, Ying Ding, Heyan Huang ...</td>\n",
       "      <td>NLP and Text Mining (NLPTM)</td>\n",
       "      <td>Generative model\\nSocial Networks\\nAge Prediction</td>\n",
       "      <td>AIW: Web personalization and user modeling\\nNL...</td>\n",
       "      <td>As the rapid growth of online social media att...</td>\n",
       "    </tr>\n",
       "    <tr>\n",
       "      <th>4</th>\n",
       "      <td>Hybrid Singular Value Thresholding for Tensor ...</td>\n",
       "      <td>Xiaoqin Zhang, Zhengyuan Zhou, Di Wang and Yi Ma</td>\n",
       "      <td>Knowledge Representation and Reasoning (KRR)\\n...</td>\n",
       "      <td>tensor completion\\nlow-rank recovery\\nhybrid s...</td>\n",
       "      <td>KRR: Knowledge Representation (General/Other)\\...</td>\n",
       "      <td>In this paper, we study the low-rank tensor co...</td>\n",
       "    </tr>\n",
       "  </tbody>\n",
       "</table>\n",
       "</div>"
      ],
      "text/plain": [
       "                                               title  \\\n",
       "0              Kernelized Bayesian Transfer Learning   \n",
       "1  \"Source Free\" Transfer Learning for Text Class...   \n",
       "2  A Generalization of Probabilistic Serial to Ra...   \n",
       "3         Lifetime Lexical Variation in Social Media   \n",
       "4  Hybrid Singular Value Thresholding for Tensor ...   \n",
       "\n",
       "                                             authors  \\\n",
       "0                  Mehmet Gönen and Adam A. Margolin   \n",
       "1  Zhongqi Lu, Yin Zhu, Sinno Pan, Evan Xiang, Yu...   \n",
       "2                      Haris Aziz and Paul Stursberg   \n",
       "3  Liao Lizi, Jing Jiang, Ying Ding, Heyan Huang ...   \n",
       "4   Xiaoqin Zhang, Zhengyuan Zhou, Di Wang and Yi Ma   \n",
       "\n",
       "                                              groups  \\\n",
       "0           Novel Machine Learning Algorithms (NMLA)   \n",
       "1  AI and the Web (AIW)\\nNovel Machine Learning A...   \n",
       "2          Game Theory and Economic Paradigms (GTEP)   \n",
       "3                        NLP and Text Mining (NLPTM)   \n",
       "4  Knowledge Representation and Reasoning (KRR)\\n...   \n",
       "\n",
       "                                            keywords  \\\n",
       "0  cross-domain learning\\ndomain adaptation\\nkern...   \n",
       "1  Transfer Learning\\nAuxiliary Data Retrieval\\nT...   \n",
       "2  social choice theory\\nvoting\\nfair division\\ns...   \n",
       "3  Generative model\\nSocial Networks\\nAge Prediction   \n",
       "4  tensor completion\\nlow-rank recovery\\nhybrid s...   \n",
       "\n",
       "                                              topics  \\\n",
       "0  APP: Biomedical / Bioinformatics\\nNMLA: Bayesi...   \n",
       "1  AIW: Knowledge acquisition from the web\\nAIW: ...   \n",
       "2    GTEP: Game Theory\\nGTEP: Social Choice / Voting   \n",
       "3  AIW: Web personalization and user modeling\\nNL...   \n",
       "4  KRR: Knowledge Representation (General/Other)\\...   \n",
       "\n",
       "                                            abstract  \n",
       "0  Transfer learning considers related but distin...  \n",
       "1  Transfer learning uses relevant auxiliary data...  \n",
       "2  The probabilistic serial (PS) rule is one of t...  \n",
       "3  As the rapid growth of online social media att...  \n",
       "4  In this paper, we study the low-rank tensor co...  "
      ]
     },
     "execution_count": 44,
     "metadata": {},
     "output_type": "execute_result"
    }
   ],
   "source": [
    "papers = pd.read_csv('papers.csv')\n",
    "papers.head()"
   ]
  },
  {
   "cell_type": "markdown",
   "metadata": {},
   "source": [
    "Keywords and topics columns shows \"\\n\" as a regular character, so let's remove it with regular expresions:"
   ]
  },
  {
   "cell_type": "code",
   "execution_count": 45,
   "metadata": {},
   "outputs": [],
   "source": [
    "papers['keywords'].replace('\\n,?',' ',regex=True,inplace=True)"
   ]
  },
  {
   "cell_type": "code",
   "execution_count": 46,
   "metadata": {},
   "outputs": [],
   "source": [
    "papers['topics'].replace('\\n,?',' ',regex=True,inplace=True)"
   ]
  },
  {
   "cell_type": "code",
   "execution_count": 47,
   "metadata": {},
   "outputs": [
    {
     "data": {
      "text/plain": [
       "146                                HSO: Heuristic Search\n",
       "381    CS: Natural language understanding and dialogu...\n",
       "193                    NMLA: Supervised Learning (Other)\n",
       "134    GTEP: Auctions and Market-Based Systems GTEP: ...\n",
       "166    GTEP: Game Theory GTEP: Coordination and Colla...\n",
       "Name: topics, dtype: object"
      ]
     },
     "execution_count": 47,
     "metadata": {},
     "output_type": "execute_result"
    }
   ],
   "source": [
    "papers['topics'].sample(n=5)"
   ]
  },
  {
   "cell_type": "markdown",
   "metadata": {},
   "source": [
    "Since TF-IDF was better, let's use it again."
   ]
  },
  {
   "cell_type": "code",
   "execution_count": 48,
   "metadata": {},
   "outputs": [],
   "source": [
    "from sklearn.feature_extraction.text import TfidfTransformer\n",
    "from sklearn.feature_extraction.text import TfidfVectorizer\n",
    "\n",
    "vectorizertf = TfidfVectorizer()\n",
    "\n",
    "train_matrixtf = vectorizertf.fit_transform(papers['keywords'])\n",
    "\n",
    "weightstf = vectorizertf.idf_"
   ]
  },
  {
   "cell_type": "markdown",
   "metadata": {},
   "source": [
    "### It's ML time!\n",
    "Let's invoke k-means, fit and test:"
   ]
  },
  {
   "cell_type": "code",
   "execution_count": 50,
   "metadata": {},
   "outputs": [
    {
     "name": "stdout",
     "output_type": "stream",
     "text": [
      "Clustering sparse data with KMeans(algorithm='auto', copy_x=True, init='k-means++', max_iter=300,\n",
      "    n_clusters=5, n_init=10, n_jobs=None, precompute_distances='auto',\n",
      "    random_state=None, tol=0.0001, verbose=0)\n",
      "done in 0.912s\n"
     ]
    }
   ],
   "source": [
    "from sklearn.cluster import KMeans\n",
    "from time import time\n",
    "KClusters = 5\n",
    "km = KMeans(n_clusters=KClusters, init='k-means++')\n",
    "print(\"Clustering sparse data with %s\" % km)\n",
    "t0 = time()\n",
    "km.fit(train_matrixtf)\n",
    "print(\"done in %0.3fs\" % (time() - t0))"
   ]
  },
  {
   "cell_type": "markdown",
   "metadata": {},
   "source": [
    "Let's see the label's names"
   ]
  },
  {
   "cell_type": "code",
   "execution_count": 51,
   "metadata": {},
   "outputs": [
    {
     "data": {
      "text/plain": [
       "array([1, 1, 2, 2, 0, 4, 1, 0, 0, 1, 0, 3, 4, 2, 0, 0, 0, 3, 1, 1, 0, 2,\n",
       "       0, 4, 1, 0, 0, 4, 2, 2, 2, 3, 0, 1, 0, 0, 0, 0, 1, 0, 1, 0, 1, 4,\n",
       "       2, 0, 1, 1, 0, 3, 0, 0, 0, 0, 1, 4, 2, 0, 0, 0, 2, 0, 0, 1, 2, 0,\n",
       "       0, 2, 0, 0, 2, 0, 1, 0, 0, 4, 0, 0, 0, 2, 0, 0, 2, 4, 0, 0, 1, 3,\n",
       "       1, 0, 1, 0, 3, 0, 1, 0, 0, 0, 0, 0, 0, 2, 0, 0, 3, 0, 0, 3, 1, 3,\n",
       "       2, 4, 0, 0, 0, 0, 0, 0, 1, 0, 2, 1, 1, 3, 3, 1, 4, 3, 1, 3, 0, 0,\n",
       "       1, 0, 0, 0, 0, 0, 3, 0, 0, 4, 0, 1, 1, 0, 3, 0, 3, 0, 0, 0, 3, 0,\n",
       "       1, 0, 2, 3, 0, 0, 0, 0, 0, 1, 0, 0, 2, 0, 3, 0, 3, 0, 3, 0, 0, 1,\n",
       "       0, 4, 2, 3, 0, 3, 0, 0, 0, 4, 0, 4, 0, 0, 0, 0, 4, 1, 1, 0, 3, 0,\n",
       "       0, 1, 3, 0, 0, 0, 0, 0, 3, 4, 0, 0, 1, 1, 3, 0, 4, 1, 3, 1, 0, 0,\n",
       "       0, 1, 1, 1, 0, 1, 0, 0, 1, 1, 3, 0, 1, 0, 2, 0, 0, 4, 0, 0, 0, 0,\n",
       "       0, 1, 2, 0, 1, 4, 4, 0, 0, 0, 0, 0, 1, 2, 4, 0, 0, 1, 1, 2, 2, 0,\n",
       "       1, 0, 3, 4, 2, 0, 2, 4, 2, 4, 0, 0, 4, 0, 0, 4, 0, 3, 0, 0, 0, 0,\n",
       "       3, 0, 1, 0, 0, 3, 0, 1, 0, 2, 0, 0, 1, 1, 0, 1, 4, 2, 0, 1, 0, 2,\n",
       "       3, 0, 1, 0, 3, 0, 0, 3, 4, 0, 1, 1, 0, 3, 0, 1, 0, 0, 0, 1, 1, 1,\n",
       "       4, 1, 1, 3, 0, 1, 0, 0, 0, 0, 3, 3, 3, 2, 0, 0, 3, 0, 0, 4, 1, 0,\n",
       "       3, 4, 0, 1, 0, 3, 3, 0, 0, 0, 1, 0, 1, 1, 2, 0, 0, 0, 0, 0, 1, 0,\n",
       "       3, 0, 0, 3, 1, 0, 0, 1, 1, 3, 1, 4, 4, 0, 1, 4, 0, 3, 1, 2, 0, 0,\n",
       "       0, 1])"
      ]
     },
     "execution_count": 51,
     "metadata": {},
     "output_type": "execute_result"
    }
   ],
   "source": [
    "km.labels_"
   ]
  },
  {
   "cell_type": "markdown",
   "metadata": {},
   "source": [
    "WTF!? What are those numbers? I don't get it!\n",
    "Let's transform that in something I can read"
   ]
  },
  {
   "cell_type": "code",
   "execution_count": 52,
   "metadata": {},
   "outputs": [
    {
     "name": "stdout",
     "output_type": "stream",
     "text": [
      "Top terms per cluster:\n",
      "Cluster 0:\n",
      " game\n",
      " games\n",
      " theory\n",
      " data\n",
      " search\n",
      " reasoning\n",
      " analysis\n",
      " knowledge\n",
      " graph\n",
      " language\n",
      "Cluster 1:\n",
      " learning\n",
      " multi\n",
      " supervised\n",
      " machine\n",
      " reinforcement\n",
      " classification\n",
      " transfer\n",
      " feature\n",
      " online\n",
      " semi\n",
      "Cluster 2:\n",
      " social\n",
      " choice\n",
      " computational\n",
      " networks\n",
      " fair\n",
      " division\n",
      " network\n",
      " algorithms\n",
      " of\n",
      " prediction\n",
      "Cluster 3:\n",
      " planning\n",
      " based\n",
      " probabilistic\n",
      " systems\n",
      " and\n",
      " model\n",
      " uncertainty\n",
      " reasoning\n",
      " search\n",
      " inference\n",
      "Cluster 4:\n",
      " optimization\n",
      " constraint\n",
      " embedding\n",
      " scheduling\n",
      " satisfiability\n",
      " reduction\n",
      " search\n",
      " maximum\n",
      " dimensionality\n",
      " image\n"
     ]
    }
   ],
   "source": [
    "print(\"Top terms per cluster:\")\n",
    "order_centroids = km.cluster_centers_.argsort()[:, ::-1]\n",
    "terms = vectorizertf.get_feature_names()\n",
    "for i in range(KClusters):\n",
    "    print(\"Cluster %d:\" % i),\n",
    "    for ind in order_centroids[i, :10]:\n",
    "        print(' %s' % terms[ind]),\n",
    "    print"
   ]
  },
  {
   "cell_type": "markdown",
   "metadata": {},
   "source": [
    "**What if I want to plot it?**\n",
    "It's not as easy as you may think. It requires a principal component analysis"
   ]
  },
  {
   "cell_type": "code",
   "execution_count": 53,
   "metadata": {},
   "outputs": [
    {
     "data": {
      "text/plain": [
       "<matplotlib.collections.PathCollection at 0x21a46f258d0>"
      ]
     },
     "execution_count": 53,
     "metadata": {},
     "output_type": "execute_result"
    },
    {
     "data": {
      "image/png": "[encoded data removed]",
      "text/plain": [
       "<Figure size 432x288 with 1 Axes>"
      ]
     },
     "metadata": {
      "needs_background": "light"
     },
     "output_type": "display_data"
    }
   ],
   "source": [
    "from sklearn.decomposition import PCA\n",
    "from sklearn.pipeline import Pipeline\n",
    "import matplotlib.pyplot as plt\n",
    "%matplotlib inline\n",
    "\n",
    "pipeline = Pipeline([\n",
    "    ('vect', TfidfVectorizer()),\n",
    "    ('tfidf', TfidfTransformer()),\n",
    "])        \n",
    "X = pipeline.fit_transform(papers['keywords']).todense()\n",
    "\n",
    "pca = PCA(n_components=2).fit(X)\n",
    "data2D = pca.transform(X)\n",
    "kmeans = KMeans(n_clusters=KClusters).fit(X)\n",
    "centers2D = pca.transform(kmeans.cluster_centers_)\n",
    "\n",
    "plt.scatter(data2D[:,0], data2D[:,1])\n",
    "plt.scatter(centers2D[:,0], centers2D[:,1], \n",
    "            marker='x', s=200, linewidths=3)"
   ]
  },
  {
   "cell_type": "markdown",
   "metadata": {},
   "source": [
    "How could it look like on theory?"
   ]
  },
  {
   "cell_type": "code",
   "execution_count": 68,
   "metadata": {},
   "outputs": [
    {
     "data": {
      "image/png": "[encoded data removed]",
      "text/plain": [
       "<Figure size 432x288 with 1 Axes>"
      ]
     },
     "metadata": {
      "needs_background": "light"
     },
     "output_type": "display_data"
    }
   ],
   "source": [
    "from sklearn.datasets.samples_generator import make_blobs\n",
    "X, y_true = make_blobs(n_samples=300, centers=4,\n",
    "                       cluster_std=0.60, random_state=0)\n",
    "plt.scatter(X[:, 0], X[:, 1], s=50);"
   ]
  },
  {
   "cell_type": "code",
   "execution_count": 81,
   "metadata": {},
   "outputs": [
    {
     "data": {
      "text/plain": [
       "<matplotlib.collections.PathCollection at 0x21a4b081e48>"
      ]
     },
     "execution_count": 81,
     "metadata": {},
     "output_type": "execute_result"
    },
    {
     "data": {
      "image/png": "[encoded data removed]",
      "text/plain": [
       "<Figure size 432x288 with 1 Axes>"
      ]
     },
     "metadata": {
      "needs_background": "light"
     },
     "output_type": "display_data"
    }
   ],
   "source": [
    "km = KMeans(n_clusters = 4).fit(X)\n",
    "pca = PCA(n_components = 2).fit(X)\n",
    "center = pca.transform(km.cluster_centers_)\n",
    "data = pca.transform(X)\n",
    "plt.scatter(data[:, 0], data[:, 1], s=50)\n",
    "plt.scatter(center[:, 0], center[:, 1], marker = 'X', linewidths = 1)"
   ]
  },
  {
   "cell_type": "code",
   "execution_count": 82,
   "metadata": {},
   "outputs": [
    {
     "data": {
      "text/plain": [
       "<matplotlib.collections.PathCollection at 0x21a47e54710>"
      ]
     },
     "execution_count": 82,
     "metadata": {},
     "output_type": "execute_result"
    },
    {
     "data": {
      "image/png": "[encoded data removed]",
      "text/plain": [
       "<Figure size 432x288 with 1 Axes>"
      ]
     },
     "metadata": {
      "needs_background": "light"
     },
     "output_type": "display_data"
    }
   ],
   "source": [
    "km = KMeans(n_clusters = 4).fit(X)\n",
    "center = km.cluster_centers_\n",
    "plt.scatter(X[:, 0], X[:, 1], s=50)\n",
    "plt.scatter(center[:, 0], center[:, 1], marker = 'X', linewidths = 1)"
   ]
  },
  {
   "cell_type": "code",
   "execution_count": null,
   "metadata": {},
   "outputs": [],
   "source": []
  }
 ],
 "metadata": {
  "kernelspec": {
   "display_name": "Python 3",
   "language": "python",
   "name": "python3"
  },
  "language_info": {
   "codemirror_mode": {
    "name": "ipython",
    "version": 3
   },
   "file_extension": ".py",
   "mimetype": "text/x-python",
   "name": "python",
   "nbconvert_exporter": "python",
   "pygments_lexer": "ipython3",
   "version": "3.6.7"
  }
 },
 "nbformat": 4,
 "nbformat_minor": 1
}
