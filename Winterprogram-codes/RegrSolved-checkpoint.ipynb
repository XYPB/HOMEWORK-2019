{
 "cells": [
  {
   "cell_type": "markdown",
   "metadata": {},
   "source": [
    "# Regression\n",
    "Tecnun - UNAV\n",
    "Winter Course 2019 <p>\n",
    "drosquete@ceit.es"
   ]
  },
  {
   "cell_type": "markdown",
   "metadata": {},
   "source": [
    "The goal of this first notebook is to explore multiple regression and feature engineering with existing scikit and pandas functions.\n",
    "\n",
    "In this notebook you will use data on house sales in King County to predict prices using multiple regression. You will:\n",
    "* Use Pandas to do some feature engineering\n",
    "* Use functions to compute the regression weights (coefficients/parameters)\n",
    "* Given the regression weights, predictors and outcome write a function to compute the Residual Sum of Squares\n",
    "* Look at coefficients and interpret their meanings\n",
    "* Evaluate multiple models via RSS"
   ]
  },
  {
   "cell_type": "markdown",
   "metadata": {},
   "source": [
    "# Fire up Scikit, pandas and numpy"
   ]
  },
  {
   "cell_type": "code",
   "execution_count": 1,
   "metadata": {},
   "outputs": [],
   "source": [
    "import pandas as pd\n",
    "import numpy as np\n",
    "from sklearn import linear_model\n",
    "from sklearn.model_selection import train_test_split\n",
    "from math import log\n",
    "import matplotlib.pyplot as plt\n",
    "%matplotlib inline\n",
    "np.random.seed(12345)"
   ]
  },
  {
   "cell_type": "markdown",
   "metadata": {},
   "source": [
    "# Load in house sales data\n",
    "\n",
    "Dataset is from house sales in King County, the region where the city of Seattle, WA is located."
   ]
  },
  {
   "cell_type": "code",
   "execution_count": 2,
   "metadata": {
    "scrolled": true
   },
   "outputs": [
    {
     "data": {
      "text/html": [
       "<div>\n",
       "<style scoped>\n",
       "    .dataframe tbody tr th:only-of-type {\n",
       "        vertical-align: middle;\n",
       "    }\n",
       "\n",
       "    .dataframe tbody tr th {\n",
       "        vertical-align: top;\n",
       "    }\n",
       "\n",
       "    .dataframe thead th {\n",
       "        text-align: right;\n",
       "    }\n",
       "</style>\n",
       "<table border=\"1\" class=\"dataframe\">\n",
       "  <thead>\n",
       "    <tr style=\"text-align: right;\">\n",
       "      <th></th>\n",
       "      <th>id</th>\n",
       "      <th>date</th>\n",
       "      <th>price</th>\n",
       "      <th>bedrooms</th>\n",
       "      <th>bathrooms</th>\n",
       "      <th>sqft_living</th>\n",
       "      <th>sqft_lot</th>\n",
       "      <th>floors</th>\n",
       "      <th>waterfront</th>\n",
       "      <th>view</th>\n",
       "      <th>...</th>\n",
       "      <th>grade</th>\n",
       "      <th>sqft_above</th>\n",
       "      <th>sqft_basement</th>\n",
       "      <th>yr_built</th>\n",
       "      <th>yr_renovated</th>\n",
       "      <th>zipcode</th>\n",
       "      <th>lat</th>\n",
       "      <th>long</th>\n",
       "      <th>sqft_living15</th>\n",
       "      <th>sqft_lot15</th>\n",
       "    </tr>\n",
       "  </thead>\n",
       "  <tbody>\n",
       "    <tr>\n",
       "      <th>0</th>\n",
       "      <td>7129300520</td>\n",
       "      <td>20141013T000000</td>\n",
       "      <td>221900.0</td>\n",
       "      <td>3</td>\n",
       "      <td>1.00</td>\n",
       "      <td>1180</td>\n",
       "      <td>5650</td>\n",
       "      <td>1.0</td>\n",
       "      <td>0</td>\n",
       "      <td>0</td>\n",
       "      <td>...</td>\n",
       "      <td>7</td>\n",
       "      <td>1180</td>\n",
       "      <td>0</td>\n",
       "      <td>1955</td>\n",
       "      <td>0</td>\n",
       "      <td>98178</td>\n",
       "      <td>47.5112</td>\n",
       "      <td>-122.257</td>\n",
       "      <td>1340</td>\n",
       "      <td>5650</td>\n",
       "    </tr>\n",
       "    <tr>\n",
       "      <th>1</th>\n",
       "      <td>6414100192</td>\n",
       "      <td>20141209T000000</td>\n",
       "      <td>538000.0</td>\n",
       "      <td>3</td>\n",
       "      <td>2.25</td>\n",
       "      <td>2570</td>\n",
       "      <td>7242</td>\n",
       "      <td>2.0</td>\n",
       "      <td>0</td>\n",
       "      <td>0</td>\n",
       "      <td>...</td>\n",
       "      <td>7</td>\n",
       "      <td>2170</td>\n",
       "      <td>400</td>\n",
       "      <td>1951</td>\n",
       "      <td>1991</td>\n",
       "      <td>98125</td>\n",
       "      <td>47.7210</td>\n",
       "      <td>-122.319</td>\n",
       "      <td>1690</td>\n",
       "      <td>7639</td>\n",
       "    </tr>\n",
       "    <tr>\n",
       "      <th>2</th>\n",
       "      <td>5631500400</td>\n",
       "      <td>20150225T000000</td>\n",
       "      <td>180000.0</td>\n",
       "      <td>2</td>\n",
       "      <td>1.00</td>\n",
       "      <td>770</td>\n",
       "      <td>10000</td>\n",
       "      <td>1.0</td>\n",
       "      <td>0</td>\n",
       "      <td>0</td>\n",
       "      <td>...</td>\n",
       "      <td>6</td>\n",
       "      <td>770</td>\n",
       "      <td>0</td>\n",
       "      <td>1933</td>\n",
       "      <td>0</td>\n",
       "      <td>98028</td>\n",
       "      <td>47.7379</td>\n",
       "      <td>-122.233</td>\n",
       "      <td>2720</td>\n",
       "      <td>8062</td>\n",
       "    </tr>\n",
       "    <tr>\n",
       "      <th>3</th>\n",
       "      <td>2487200875</td>\n",
       "      <td>20141209T000000</td>\n",
       "      <td>604000.0</td>\n",
       "      <td>4</td>\n",
       "      <td>3.00</td>\n",
       "      <td>1960</td>\n",
       "      <td>5000</td>\n",
       "      <td>1.0</td>\n",
       "      <td>0</td>\n",
       "      <td>0</td>\n",
       "      <td>...</td>\n",
       "      <td>7</td>\n",
       "      <td>1050</td>\n",
       "      <td>910</td>\n",
       "      <td>1965</td>\n",
       "      <td>0</td>\n",
       "      <td>98136</td>\n",
       "      <td>47.5208</td>\n",
       "      <td>-122.393</td>\n",
       "      <td>1360</td>\n",
       "      <td>5000</td>\n",
       "    </tr>\n",
       "    <tr>\n",
       "      <th>4</th>\n",
       "      <td>1954400510</td>\n",
       "      <td>20150218T000000</td>\n",
       "      <td>510000.0</td>\n",
       "      <td>3</td>\n",
       "      <td>2.00</td>\n",
       "      <td>1680</td>\n",
       "      <td>8080</td>\n",
       "      <td>1.0</td>\n",
       "      <td>0</td>\n",
       "      <td>0</td>\n",
       "      <td>...</td>\n",
       "      <td>8</td>\n",
       "      <td>1680</td>\n",
       "      <td>0</td>\n",
       "      <td>1987</td>\n",
       "      <td>0</td>\n",
       "      <td>98074</td>\n",
       "      <td>47.6168</td>\n",
       "      <td>-122.045</td>\n",
       "      <td>1800</td>\n",
       "      <td>7503</td>\n",
       "    </tr>\n",
       "  </tbody>\n",
       "</table>\n",
       "<p>5 rows × 21 columns</p>\n",
       "</div>"
      ],
      "text/plain": [
       "           id             date     price  bedrooms  bathrooms  sqft_living  \\\n",
       "0  7129300520  20141013T000000  221900.0         3       1.00         1180   \n",
       "1  6414100192  20141209T000000  538000.0         3       2.25         2570   \n",
       "2  5631500400  20150225T000000  180000.0         2       1.00          770   \n",
       "3  2487200875  20141209T000000  604000.0         4       3.00         1960   \n",
       "4  1954400510  20150218T000000  510000.0         3       2.00         1680   \n",
       "\n",
       "   sqft_lot  floors  waterfront  view     ...      grade  sqft_above  \\\n",
       "0      5650     1.0           0     0     ...          7        1180   \n",
       "1      7242     2.0           0     0     ...          7        2170   \n",
       "2     10000     1.0           0     0     ...          6         770   \n",
       "3      5000     1.0           0     0     ...          7        1050   \n",
       "4      8080     1.0           0     0     ...          8        1680   \n",
       "\n",
       "   sqft_basement  yr_built  yr_renovated  zipcode      lat     long  \\\n",
       "0              0      1955             0    98178  47.5112 -122.257   \n",
       "1            400      1951          1991    98125  47.7210 -122.319   \n",
       "2              0      1933             0    98028  47.7379 -122.233   \n",
       "3            910      1965             0    98136  47.5208 -122.393   \n",
       "4              0      1987             0    98074  47.6168 -122.045   \n",
       "\n",
       "   sqft_living15  sqft_lot15  \n",
       "0           1340        5650  \n",
       "1           1690        7639  \n",
       "2           2720        8062  \n",
       "3           1360        5000  \n",
       "4           1800        7503  \n",
       "\n",
       "[5 rows x 21 columns]"
      ]
     },
     "execution_count": 2,
     "metadata": {},
     "output_type": "execute_result"
    }
   ],
   "source": [
    "salesDF = pd.read_csv('kc_house_data.csv')\n",
    "salesDF.head()"
   ]
  },
  {
   "cell_type": "markdown",
   "metadata": {},
   "source": [
    "# Explore the data"
   ]
  },
  {
   "cell_type": "markdown",
   "metadata": {},
   "source": [
    "The house price in a town could be correlated with the sqft_living of that town. Bigger houses tend to be associated with higher house prices and vice versa."
   ]
  },
  {
   "cell_type": "code",
   "execution_count": 3,
   "metadata": {},
   "outputs": [
    {
     "data": {
      "text/plain": [
       "[<matplotlib.lines.Line2D at 0x2fabe287a58>]"
      ]
     },
     "execution_count": 3,
     "metadata": {},
     "output_type": "execute_result"
    },
    {
     "data": {
      "image/png": "[encoded data removed]",
      "text/plain": [
       "<Figure size 432x288 with 1 Axes>"
      ]
     },
     "metadata": {
      "needs_background": "light"
     },
     "output_type": "display_data"
    }
   ],
   "source": [
    "plt.plot(salesDF['sqft_living'],salesDF['price'],'.')"
   ]
  },
  {
   "cell_type": "markdown",
   "metadata": {},
   "source": [
    "# Fit the regression model using square feet living as the feature\n",
    "\n",
    "To create a ML is really easy! 4 simple steps\n",
    "<ol>\n",
    "<li> Declare the kind of model you are using\n",
    "<li> Split the data into features(x_i) and target(y)\n",
    "<li> Fit (Train) the model.\n",
    "<li> Predict using the appropiated data\n",
    "</ol>"
   ]
  },
  {
   "cell_type": "code",
   "execution_count": 4,
   "metadata": {},
   "outputs": [],
   "source": [
    "#Step 1\n",
    "size_model = linear_model.LinearRegression()\n",
    "\n",
    "#Step 2\n",
    "X = salesDF[['sqft_living']]\n",
    "Y = salesDF[['price']]\n",
    "\n",
    "#Step 3\n",
    "size_model.fit(X,Y)\n",
    "\n",
    "#Step 4\n",
    "predict = size_model.predict(X)"
   ]
  },
  {
   "cell_type": "markdown",
   "metadata": {},
   "source": [
    "# Let's see what our fit looks like\n",
    "\n",
    "To create a plot. You call to the plot function, passing Series or NDArrays, in the following order<p>\n",
    "<code>plt.plot(ValuesX-Axis, ValuesY-Axis, Symbol)</code><p>\n",
    "in case of more functions, just keep going adding commas with the same structure"
   ]
  },
  {
   "cell_type": "code",
   "execution_count": 5,
   "metadata": {},
   "outputs": [
    {
     "data": {
      "text/plain": [
       "[<matplotlib.lines.Line2D at 0x2fabe337cc0>,\n",
       " <matplotlib.lines.Line2D at 0x2fabe337eb8>]"
      ]
     },
     "execution_count": 5,
     "metadata": {},
     "output_type": "execute_result"
    },
    {
     "data": {
      "image/png": "[encoded data removed]",
      "text/plain": [
       "<Figure size 432x288 with 1 Axes>"
      ]
     },
     "metadata": {
      "needs_background": "light"
     },
     "output_type": "display_data"
    }
   ],
   "source": [
    "plt.plot(salesDF['sqft_living'],salesDF['price'],'.',\n",
    "         salesDF['sqft_living'],predict,'-')"
   ]
  },
  {
   "cell_type": "markdown",
   "metadata": {},
   "source": [
    "Above: blue dots are original data, orange line is the fit from the simple regression."
   ]
  },
  {
   "cell_type": "markdown",
   "metadata": {},
   "source": [
    "# What are the intercept and slope?"
   ]
  },
  {
   "cell_type": "code",
   "execution_count": 6,
   "metadata": {},
   "outputs": [
    {
     "name": "stdout",
     "output_type": "stream",
     "text": [
      "        slope     intercept\n",
      "0  280.623568 -43580.743094\n"
     ]
    }
   ],
   "source": [
    "print(pd.DataFrame({'slope': size_model.coef_[0],\n",
    "                    'intercept': size_model.intercept_}))"
   ]
  },
  {
   "cell_type": "markdown",
   "metadata": {},
   "source": [
    "# Remove Outlier and redo the analysis"
   ]
  },
  {
   "cell_type": "markdown",
   "metadata": {},
   "source": [
    "There is a blue dot (Observation) that is obviously out of price, it is called outlier. Let's remove this datapoint and see what happens."
   ]
  },
  {
   "cell_type": "code",
   "execution_count": 7,
   "metadata": {},
   "outputs": [],
   "source": [
    "salesDF_Clean = salesDF[salesDF['sqft_living']!=salesDF['sqft_living'].max()]"
   ]
  },
  {
   "cell_type": "code",
   "execution_count": 8,
   "metadata": {},
   "outputs": [
    {
     "data": {
      "text/plain": [
       "[<matplotlib.lines.Line2D at 0x2fabe3af9b0>]"
      ]
     },
     "execution_count": 8,
     "metadata": {},
     "output_type": "execute_result"
    },
    {
     "data": {
      "image/png": "[encoded data removed]",
      "text/plain": [
       "<Figure size 432x288 with 1 Axes>"
      ]
     },
     "metadata": {
      "needs_background": "light"
     },
     "output_type": "display_data"
    }
   ],
   "source": [
    "plt.plot(salesDF_Clean['sqft_living'],salesDF_Clean['price'],'.')"
   ]
  },
  {
   "cell_type": "markdown",
   "metadata": {},
   "source": [
    "### Refit our simple regression model on this modified dataset:"
   ]
  },
  {
   "cell_type": "code",
   "execution_count": 9,
   "metadata": {},
   "outputs": [],
   "source": [
    "#Step 1\n",
    "size_model = linear_model.LinearRegression()\n",
    "\n",
    "#Step 2\n",
    "X = salesDF_Clean[['sqft_living']]\n",
    "Y = salesDF_Clean[['price']]\n",
    "\n",
    "#Step 3\n",
    "size_model.fit(X,Y)\n",
    "\n",
    "#Step 4\n",
    "predict = size_model.predict(X)"
   ]
  },
  {
   "cell_type": "code",
   "execution_count": 10,
   "metadata": {},
   "outputs": [
    {
     "data": {
      "text/plain": [
       "[<matplotlib.lines.Line2D at 0x2fabe967e48>,\n",
       " <matplotlib.lines.Line2D at 0x2fabe967f60>]"
      ]
     },
     "execution_count": 10,
     "metadata": {},
     "output_type": "execute_result"
    },
    {
     "data": {
      "image/png": "[encoded data removed]",
      "text/plain": [
       "<Figure size 432x288 with 1 Axes>"
      ]
     },
     "metadata": {
      "needs_background": "light"
     },
     "output_type": "display_data"
    }
   ],
   "source": [
    "plt.plot(salesDF_Clean['sqft_living'],salesDF_Clean['price'],'.',\n",
    "         salesDF_Clean['sqft_living'],predict,'-')"
   ]
  },
  {
   "cell_type": "markdown",
   "metadata": {},
   "source": [
    "## What about the coefficients?"
   ]
  },
  {
   "cell_type": "code",
   "execution_count": 11,
   "metadata": {},
   "outputs": [
    {
     "name": "stdout",
     "output_type": "stream",
     "text": [
      "        slope     intercept\n",
      "0  281.558233 -45455.958778\n"
     ]
    }
   ],
   "source": [
    "print(pd.DataFrame({'slope': size_model.coef_[0],\n",
    "                    'intercept': size_model.intercept_}))"
   ]
  },
  {
   "cell_type": "markdown",
   "metadata": {},
   "source": [
    "# Multiple regression"
   ]
  },
  {
   "cell_type": "markdown",
   "metadata": {},
   "source": [
    "# Which are the features? \n",
    "List all the names of the features"
   ]
  },
  {
   "cell_type": "code",
   "execution_count": 24,
   "metadata": {},
   "outputs": [
    {
     "data": {
      "text/plain": [
       "Index(['id', 'date', 'price', 'bedrooms', 'bathrooms', 'sqft_living',\n",
       "       'sqft_lot', 'floors', 'waterfront', 'view', 'condition', 'grade',\n",
       "       'sqft_above', 'sqft_basement', 'yr_built', 'yr_renovated', 'zipcode',\n",
       "       'lat', 'long', 'sqft_living15', 'sqft_lot15'],\n",
       "      dtype='object')"
      ]
     },
     "execution_count": 24,
     "metadata": {},
     "output_type": "execute_result"
    }
   ],
   "source": [
    "AllColumns = salesDF.columns\n",
    "AllColumns"
   ]
  },
  {
   "cell_type": "markdown",
   "metadata": {},
   "source": [
    "Create only a features list"
   ]
  },
  {
   "cell_type": "code",
   "execution_count": 21,
   "metadata": {},
   "outputs": [
    {
     "data": {
      "text/plain": [
       "Index(['id', 'bedrooms', 'bathrooms', 'sqft_living', 'sqft_lot', 'floors',\n",
       "       'waterfront', 'view', 'condition', 'grade', 'sqft_above',\n",
       "       'sqft_basement', 'yr_built', 'yr_renovated', 'zipcode', 'lat', 'long',\n",
       "       'sqft_living15', 'sqft_lot15'],\n",
       "      dtype='object')"
      ]
     },
     "execution_count": 21,
     "metadata": {},
     "output_type": "execute_result"
    }
   ],
   "source": [
    "featuresColumns = AllColumns.drop('price') # price is the result we want to predict, so it is not a feature\n",
    "featuresColumns = featuresColumns.drop('date') # 'data' is not a related feature, so we drop it\n",
    "featuresColumns"
   ]
  },
  {
   "cell_type": "markdown",
   "metadata": {},
   "source": [
    "# Split data into training and testing.\n",
    "We used seed=12345 so that everyone running this notebook gets the same results.  In practice, you may set a random seed.  "
   ]
  },
  {
   "cell_type": "markdown",
   "metadata": {},
   "source": [
    "### First step: Split the data features from the target in different DF's"
   ]
  },
  {
   "cell_type": "code",
   "execution_count": 25,
   "metadata": {},
   "outputs": [
    {
     "data": {
      "text/html": [
       "<div>\n",
       "<style scoped>\n",
       "    .dataframe tbody tr th:only-of-type {\n",
       "        vertical-align: middle;\n",
       "    }\n",
       "\n",
       "    .dataframe tbody tr th {\n",
       "        vertical-align: top;\n",
       "    }\n",
       "\n",
       "    .dataframe thead th {\n",
       "        text-align: right;\n",
       "    }\n",
       "</style>\n",
       "<table border=\"1\" class=\"dataframe\">\n",
       "  <thead>\n",
       "    <tr style=\"text-align: right;\">\n",
       "      <th></th>\n",
       "      <th>id</th>\n",
       "      <th>bedrooms</th>\n",
       "      <th>bathrooms</th>\n",
       "      <th>sqft_living</th>\n",
       "      <th>sqft_lot</th>\n",
       "      <th>floors</th>\n",
       "      <th>waterfront</th>\n",
       "      <th>view</th>\n",
       "      <th>condition</th>\n",
       "      <th>grade</th>\n",
       "      <th>sqft_above</th>\n",
       "      <th>sqft_basement</th>\n",
       "      <th>yr_built</th>\n",
       "      <th>yr_renovated</th>\n",
       "      <th>zipcode</th>\n",
       "      <th>lat</th>\n",
       "      <th>long</th>\n",
       "      <th>sqft_living15</th>\n",
       "      <th>sqft_lot15</th>\n",
       "    </tr>\n",
       "  </thead>\n",
       "  <tbody>\n",
       "    <tr>\n",
       "      <th>0</th>\n",
       "      <td>7129300520</td>\n",
       "      <td>3</td>\n",
       "      <td>1.00</td>\n",
       "      <td>1180</td>\n",
       "      <td>5650</td>\n",
       "      <td>1.0</td>\n",
       "      <td>0</td>\n",
       "      <td>0</td>\n",
       "      <td>3</td>\n",
       "      <td>7</td>\n",
       "      <td>1180</td>\n",
       "      <td>0</td>\n",
       "      <td>1955</td>\n",
       "      <td>0</td>\n",
       "      <td>98178</td>\n",
       "      <td>47.5112</td>\n",
       "      <td>-122.257</td>\n",
       "      <td>1340</td>\n",
       "      <td>5650</td>\n",
       "    </tr>\n",
       "    <tr>\n",
       "      <th>1</th>\n",
       "      <td>6414100192</td>\n",
       "      <td>3</td>\n",
       "      <td>2.25</td>\n",
       "      <td>2570</td>\n",
       "      <td>7242</td>\n",
       "      <td>2.0</td>\n",
       "      <td>0</td>\n",
       "      <td>0</td>\n",
       "      <td>3</td>\n",
       "      <td>7</td>\n",
       "      <td>2170</td>\n",
       "      <td>400</td>\n",
       "      <td>1951</td>\n",
       "      <td>1991</td>\n",
       "      <td>98125</td>\n",
       "      <td>47.7210</td>\n",
       "      <td>-122.319</td>\n",
       "      <td>1690</td>\n",
       "      <td>7639</td>\n",
       "    </tr>\n",
       "    <tr>\n",
       "      <th>2</th>\n",
       "      <td>5631500400</td>\n",
       "      <td>2</td>\n",
       "      <td>1.00</td>\n",
       "      <td>770</td>\n",
       "      <td>10000</td>\n",
       "      <td>1.0</td>\n",
       "      <td>0</td>\n",
       "      <td>0</td>\n",
       "      <td>3</td>\n",
       "      <td>6</td>\n",
       "      <td>770</td>\n",
       "      <td>0</td>\n",
       "      <td>1933</td>\n",
       "      <td>0</td>\n",
       "      <td>98028</td>\n",
       "      <td>47.7379</td>\n",
       "      <td>-122.233</td>\n",
       "      <td>2720</td>\n",
       "      <td>8062</td>\n",
       "    </tr>\n",
       "    <tr>\n",
       "      <th>3</th>\n",
       "      <td>2487200875</td>\n",
       "      <td>4</td>\n",
       "      <td>3.00</td>\n",
       "      <td>1960</td>\n",
       "      <td>5000</td>\n",
       "      <td>1.0</td>\n",
       "      <td>0</td>\n",
       "      <td>0</td>\n",
       "      <td>5</td>\n",
       "      <td>7</td>\n",
       "      <td>1050</td>\n",
       "      <td>910</td>\n",
       "      <td>1965</td>\n",
       "      <td>0</td>\n",
       "      <td>98136</td>\n",
       "      <td>47.5208</td>\n",
       "      <td>-122.393</td>\n",
       "      <td>1360</td>\n",
       "      <td>5000</td>\n",
       "    </tr>\n",
       "    <tr>\n",
       "      <th>4</th>\n",
       "      <td>1954400510</td>\n",
       "      <td>3</td>\n",
       "      <td>2.00</td>\n",
       "      <td>1680</td>\n",
       "      <td>8080</td>\n",
       "      <td>1.0</td>\n",
       "      <td>0</td>\n",
       "      <td>0</td>\n",
       "      <td>3</td>\n",
       "      <td>8</td>\n",
       "      <td>1680</td>\n",
       "      <td>0</td>\n",
       "      <td>1987</td>\n",
       "      <td>0</td>\n",
       "      <td>98074</td>\n",
       "      <td>47.6168</td>\n",
       "      <td>-122.045</td>\n",
       "      <td>1800</td>\n",
       "      <td>7503</td>\n",
       "    </tr>\n",
       "  </tbody>\n",
       "</table>\n",
       "</div>"
      ],
      "text/plain": [
       "           id  bedrooms  bathrooms  sqft_living  sqft_lot  floors  waterfront  \\\n",
       "0  7129300520         3       1.00         1180      5650     1.0           0   \n",
       "1  6414100192         3       2.25         2570      7242     2.0           0   \n",
       "2  5631500400         2       1.00          770     10000     1.0           0   \n",
       "3  2487200875         4       3.00         1960      5000     1.0           0   \n",
       "4  1954400510         3       2.00         1680      8080     1.0           0   \n",
       "\n",
       "   view  condition  grade  sqft_above  sqft_basement  yr_built  yr_renovated  \\\n",
       "0     0          3      7        1180              0      1955             0   \n",
       "1     0          3      7        2170            400      1951          1991   \n",
       "2     0          3      6         770              0      1933             0   \n",
       "3     0          5      7        1050            910      1965             0   \n",
       "4     0          3      8        1680              0      1987             0   \n",
       "\n",
       "   zipcode      lat     long  sqft_living15  sqft_lot15  \n",
       "0    98178  47.5112 -122.257           1340        5650  \n",
       "1    98125  47.7210 -122.319           1690        7639  \n",
       "2    98028  47.7379 -122.233           2720        8062  \n",
       "3    98136  47.5208 -122.393           1360        5000  \n",
       "4    98074  47.6168 -122.045           1800        7503  "
      ]
     },
     "execution_count": 25,
     "metadata": {},
     "output_type": "execute_result"
    }
   ],
   "source": [
    "EntireDF = pd.DataFrame(salesDF, columns=featuresColumns)\n",
    "EntireDF.head() # a new datframe without Date and Price"
   ]
  },
  {
   "cell_type": "code",
   "execution_count": 26,
   "metadata": {},
   "outputs": [
    {
     "data": {
      "text/plain": [
       "0    221900.0\n",
       "1    538000.0\n",
       "2    180000.0\n",
       "3    604000.0\n",
       "4    510000.0\n",
       "Name: price, dtype: float64"
      ]
     },
     "execution_count": 26,
     "metadata": {},
     "output_type": "execute_result"
    }
   ],
   "source": [
    "y = salesDF.price\n",
    "y.head()"
   ]
  },
  {
   "cell_type": "markdown",
   "metadata": {},
   "source": [
    "### Second step: Use the train_test_split function.\n",
    "* The first parameter is the dataframe without the target\n",
    "* The second parameter is the target\n",
    "* The third parameter is the percentage of the dataframe that will correspond to the test DF\n",
    "* The results are 4 dataframes in this order: features_train, features_test, target_train, target_test"
   ]
  },
  {
   "cell_type": "code",
   "execution_count": 27,
   "metadata": {},
   "outputs": [
    {
     "name": "stdout",
     "output_type": "stream",
     "text": [
      "(17290, 19) (17290,)\n",
      "(4323, 19) (4323,)\n"
     ]
    }
   ],
   "source": [
    "X_train, X_test, y_train, y_test = train_test_split(EntireDF, y, test_size=0.2)\n",
    "# slipt the data we have in two tow part(random of course), onr to train the model and the other for test\n",
    "print (X_train.shape, y_train.shape)\n",
    "print (X_test.shape, y_test.shape)"
   ]
  },
  {
   "cell_type": "markdown",
   "metadata": {},
   "source": [
    "### Optional step: compare salesDF 'sqft_living' with X_train visually"
   ]
  },
  {
   "cell_type": "markdown",
   "metadata": {},
   "source": [
    "# Learning a multiple regression model"
   ]
  },
  {
   "cell_type": "code",
   "execution_count": 17,
   "metadata": {},
   "outputs": [
    {
     "data": {
      "text/plain": [
       "[<matplotlib.lines.Line2D at 0x229ee8e6fd0>,\n",
       " <matplotlib.lines.Line2D at 0x229ee8ed400>]"
      ]
     },
     "execution_count": 17,
     "metadata": {},
     "output_type": "execute_result"
    },
    {
     "data": {
      "image/png": "[encoded data removed]",
      "text/plain": [
       "<Figure size 432x288 with 1 Axes>"
      ]
     },
     "metadata": {
      "needs_background": "light"
     },
     "output_type": "display_data"
    }
   ],
   "source": [
    "plt.plot(salesDF['sqft_living'],salesDF['price'],'.',\n",
    "        X_train['sqft_living'],y_train,'+')"
   ]
  },
  {
   "cell_type": "markdown",
   "metadata": {},
   "source": [
    "Recall we can use the following code to learn a multiple regression model predicting 'price' based on the following features:\n",
    "example_features = ['sqft_living', 'bedrooms', 'bathrooms'] on training data with the following code:"
   ]
  },
  {
   "cell_type": "code",
   "execution_count": 29,
   "metadata": {},
   "outputs": [
    {
     "data": {
      "text/plain": [
       "LinearRegression(copy_X=True, fit_intercept=True, n_jobs=None,\n",
       "         normalize=False)"
      ]
     },
     "execution_count": 29,
     "metadata": {},
     "output_type": "execute_result"
    }
   ],
   "source": [
    "# Step1: Select the features and create a DF with them\n",
    "example_features = ['sqft_living', 'bedrooms', 'bathrooms']\n",
    "subsetDF = pd.DataFrame(EntireDF, columns=example_features)\n",
    "\n",
    "# Optional step: If not splitted yet, you are supposed to subsplit\n",
    "subX_train, subX_test, suby_train, suby_test = train_test_split(subsetDF, y, test_size=0.3)\n",
    "\n",
    "# Step 2: create the model\n",
    "exampleModel = linear_model.LinearRegression()\n",
    "\n",
    "# Step 3: split the features from the target\n",
    "X = subX_train\n",
    "Y = suby_train\n",
    "\n",
    "# Step 4: train the model\n",
    "exampleModel.fit(X,Y)"
   ]
  },
  {
   "cell_type": "markdown",
   "metadata": {},
   "source": [
    "### Environment options \n",
    "* The first option is to change the <b>Pandas Dataframe</b> display format to only 3 floating digits; if you don't do that, to this DF it will show scientific notation.\n",
    "* The second option is a little bit more complicated. In the following, we will create new features derived from existing features; usually Python works with copies in DF, not new ones. Therefor, when chaining an operation over features to create new features, this warning may appear: SettingWithCopyWarning it was created to flag potentially confusing \"chained\" assignments,  which don't always work as expected, particularly when the first selection returns a copy."
   ]
  },
  {
   "cell_type": "code",
   "execution_count": 30,
   "metadata": {},
   "outputs": [],
   "source": [
    "pd.set_option('display.float_format', lambda x: '%.3f' % x)\n",
    "pd.options.mode.chained_assignment = None"
   ]
  },
  {
   "cell_type": "markdown",
   "metadata": {},
   "source": [
    "# Making Predictions\n",
    "\n",
    "Recall that once a model is built we can use the .predict() function to find the predicted values for data we pass. If we want to visualize it really \"pretty\", let's use the following example model:"
   ]
  },
  {
   "cell_type": "code",
   "execution_count": 32,
   "metadata": {},
   "outputs": [
    {
     "data": {
      "text/html": [
       "<div>\n",
       "<style scoped>\n",
       "    .dataframe tbody tr th:only-of-type {\n",
       "        vertical-align: middle;\n",
       "    }\n",
       "\n",
       "    .dataframe tbody tr th {\n",
       "        vertical-align: top;\n",
       "    }\n",
       "\n",
       "    .dataframe thead th {\n",
       "        text-align: right;\n",
       "    }\n",
       "</style>\n",
       "<table border=\"1\" class=\"dataframe\">\n",
       "  <thead>\n",
       "    <tr style=\"text-align: right;\">\n",
       "      <th></th>\n",
       "      <th>prediction</th>\n",
       "      <th>price</th>\n",
       "    </tr>\n",
       "  </thead>\n",
       "  <tbody>\n",
       "    <tr>\n",
       "      <th>0</th>\n",
       "      <td>1225000.000</td>\n",
       "      <td>1573043.041</td>\n",
       "    </tr>\n",
       "    <tr>\n",
       "      <th>1</th>\n",
       "      <td>670000.000</td>\n",
       "      <td>698884.402</td>\n",
       "    </tr>\n",
       "    <tr>\n",
       "      <th>2</th>\n",
       "      <td>491150.000</td>\n",
       "      <td>377582.483</td>\n",
       "    </tr>\n",
       "    <tr>\n",
       "      <th>3</th>\n",
       "      <td>657000.000</td>\n",
       "      <td>479332.677</td>\n",
       "    </tr>\n",
       "    <tr>\n",
       "      <th>4</th>\n",
       "      <td>525000.000</td>\n",
       "      <td>409976.541</td>\n",
       "    </tr>\n",
       "  </tbody>\n",
       "</table>\n",
       "</div>"
      ],
      "text/plain": [
       "   prediction       price\n",
       "0 1225000.000 1573043.041\n",
       "1  670000.000  698884.402\n",
       "2  491150.000  377582.483\n",
       "3  657000.000  479332.677\n",
       "4  525000.000  409976.541"
      ]
     },
     "execution_count": 32,
     "metadata": {},
     "output_type": "execute_result"
    }
   ],
   "source": [
    "subPred = pd.DataFrame(exampleModel.predict(subX_test),suby_test) # set a new DF with our predict price and true price\n",
    "subPred = pd.DataFrame(subPred.reset_index())\n",
    "subPred.columns = ['prediction','price']\n",
    "subPred.head()"
   ]
  },
  {
   "cell_type": "markdown",
   "metadata": {},
   "source": [
    "### Identify the worst absolute error and its position"
   ]
  },
  {
   "cell_type": "code",
   "execution_count": 33,
   "metadata": {},
   "outputs": [
    {
     "name": "stdout",
     "output_type": "stream",
     "text": [
      "2863129.9906202373\n",
      "4733\n"
     ]
    }
   ],
   "source": [
    "print((subPred['prediction']-subPred['price']).abs().max())\n",
    "print((subPred['prediction']-subPred['price']).abs().idxmax())"
   ]
  },
  {
   "cell_type": "markdown",
   "metadata": {},
   "source": [
    "### Print the equation model"
   ]
  },
  {
   "cell_type": "code",
   "execution_count": 34,
   "metadata": {},
   "outputs": [
    {
     "name": "stdout",
     "output_type": "stream",
     "text": [
      "[   313.42548962 -64840.14156509  11135.00758862] 83529.91904231627\n"
     ]
    }
   ],
   "source": [
    "print(exampleModel.coef_,exampleModel.intercept_)"
   ]
  },
  {
   "cell_type": "markdown",
   "metadata": {},
   "source": [
    "# Compute RSS"
   ]
  },
  {
   "cell_type": "markdown",
   "metadata": {},
   "source": [
    "Now that we can make predictions given the model, let's write a function to compute the RSS of the model. Complete the function below to calculate RSS given the model, data, and the outcome."
   ]
  },
  {
   "cell_type": "code",
   "execution_count": 35,
   "metadata": {},
   "outputs": [],
   "source": [
    "def get_residual_sum_of_squares(model, data, outcome):\n",
    "    # First get the predictions\n",
    "    predictions=model.predict(data)\n",
    "    # Then compute the residuals/errors\n",
    "    residual = outcome-predictions\n",
    "    # Then square and add them up\n",
    "    RSS = (residual*residual).sum()\n",
    "    return(RSS)"
   ]
  },
  {
   "cell_type": "markdown",
   "metadata": {},
   "source": [
    "Test your function by computing the RSS on TEST data for the example model:"
   ]
  },
  {
   "cell_type": "code",
   "execution_count": 24,
   "metadata": {},
   "outputs": [
    {
     "name": "stdout",
     "output_type": "stream",
     "text": [
      "432855007754527.1\n"
     ]
    }
   ],
   "source": [
    "rss_example_train = get_residual_sum_of_squares(exampleModel, subX_test, suby_test)\n",
    "print (rss_example_train)"
   ]
  },
  {
   "cell_type": "markdown",
   "metadata": {},
   "source": [
    "# Create some new features"
   ]
  },
  {
   "cell_type": "markdown",
   "metadata": {},
   "source": [
    "Although we often think of multiple regression as including multiple different features (e.g. # of bedrooms, squarefeet, and # of bathrooms) but we can also consider transformations of existing features e.g. the log of the squarefeet or even \"interaction\" features such as the product of bedrooms and bathrooms."
   ]
  },
  {
   "cell_type": "markdown",
   "metadata": {},
   "source": [
    "In the following block you will see the chaining that warnings were avoided.\n",
    "\n",
    "Next create the following 4 new features as column in both TEST and TRAIN data:\n",
    "* bedrooms_squared = bedrooms\\*bedrooms\n",
    "* bed_bath_rooms = bedrooms\\*bathrooms\n",
    "* log_sqft_living = log(sqft_living)\n",
    "* lat_plus_long = lat + long \n",
    "As an example here's the first one:"
   ]
  },
  {
   "cell_type": "code",
   "execution_count": 36,
   "metadata": {},
   "outputs": [
    {
     "data": {
      "text/html": [
       "<div>\n",
       "<style scoped>\n",
       "    .dataframe tbody tr th:only-of-type {\n",
       "        vertical-align: middle;\n",
       "    }\n",
       "\n",
       "    .dataframe tbody tr th {\n",
       "        vertical-align: top;\n",
       "    }\n",
       "\n",
       "    .dataframe thead th {\n",
       "        text-align: right;\n",
       "    }\n",
       "</style>\n",
       "<table border=\"1\" class=\"dataframe\">\n",
       "  <thead>\n",
       "    <tr style=\"text-align: right;\">\n",
       "      <th></th>\n",
       "      <th>id</th>\n",
       "      <th>bedrooms</th>\n",
       "      <th>bathrooms</th>\n",
       "      <th>sqft_living</th>\n",
       "      <th>sqft_lot</th>\n",
       "      <th>floors</th>\n",
       "      <th>waterfront</th>\n",
       "      <th>view</th>\n",
       "      <th>condition</th>\n",
       "      <th>grade</th>\n",
       "      <th>sqft_above</th>\n",
       "      <th>sqft_basement</th>\n",
       "      <th>yr_built</th>\n",
       "      <th>yr_renovated</th>\n",
       "      <th>zipcode</th>\n",
       "      <th>lat</th>\n",
       "      <th>long</th>\n",
       "      <th>sqft_living15</th>\n",
       "      <th>sqft_lot15</th>\n",
       "      <th>bedrooms_squared</th>\n",
       "    </tr>\n",
       "  </thead>\n",
       "  <tbody>\n",
       "    <tr>\n",
       "      <th>19428</th>\n",
       "      <td>7877400245</td>\n",
       "      <td>3</td>\n",
       "      <td>1.000</td>\n",
       "      <td>960</td>\n",
       "      <td>10761</td>\n",
       "      <td>1.000</td>\n",
       "      <td>0</td>\n",
       "      <td>0</td>\n",
       "      <td>4</td>\n",
       "      <td>6</td>\n",
       "      <td>960</td>\n",
       "      <td>0</td>\n",
       "      <td>1962</td>\n",
       "      <td>0</td>\n",
       "      <td>98002</td>\n",
       "      <td>47.282</td>\n",
       "      <td>-122.224</td>\n",
       "      <td>960</td>\n",
       "      <td>10761</td>\n",
       "      <td>9</td>\n",
       "    </tr>\n",
       "    <tr>\n",
       "      <th>4760</th>\n",
       "      <td>4178300130</td>\n",
       "      <td>7</td>\n",
       "      <td>3.500</td>\n",
       "      <td>3470</td>\n",
       "      <td>16264</td>\n",
       "      <td>2.000</td>\n",
       "      <td>0</td>\n",
       "      <td>0</td>\n",
       "      <td>4</td>\n",
       "      <td>9</td>\n",
       "      <td>3470</td>\n",
       "      <td>0</td>\n",
       "      <td>1980</td>\n",
       "      <td>0</td>\n",
       "      <td>98007</td>\n",
       "      <td>47.620</td>\n",
       "      <td>-122.149</td>\n",
       "      <td>3040</td>\n",
       "      <td>13500</td>\n",
       "      <td>49</td>\n",
       "    </tr>\n",
       "    <tr>\n",
       "      <th>18645</th>\n",
       "      <td>7942600910</td>\n",
       "      <td>1</td>\n",
       "      <td>1.000</td>\n",
       "      <td>1310</td>\n",
       "      <td>8667</td>\n",
       "      <td>1.500</td>\n",
       "      <td>0</td>\n",
       "      <td>0</td>\n",
       "      <td>1</td>\n",
       "      <td>6</td>\n",
       "      <td>1310</td>\n",
       "      <td>0</td>\n",
       "      <td>1918</td>\n",
       "      <td>0</td>\n",
       "      <td>98122</td>\n",
       "      <td>47.606</td>\n",
       "      <td>-122.313</td>\n",
       "      <td>1130</td>\n",
       "      <td>4800</td>\n",
       "      <td>1</td>\n",
       "    </tr>\n",
       "    <tr>\n",
       "      <th>6588</th>\n",
       "      <td>7626200280</td>\n",
       "      <td>2</td>\n",
       "      <td>1.000</td>\n",
       "      <td>1170</td>\n",
       "      <td>5000</td>\n",
       "      <td>1.000</td>\n",
       "      <td>0</td>\n",
       "      <td>0</td>\n",
       "      <td>4</td>\n",
       "      <td>7</td>\n",
       "      <td>1030</td>\n",
       "      <td>140</td>\n",
       "      <td>1920</td>\n",
       "      <td>0</td>\n",
       "      <td>98136</td>\n",
       "      <td>47.545</td>\n",
       "      <td>-122.388</td>\n",
       "      <td>1170</td>\n",
       "      <td>5850</td>\n",
       "      <td>4</td>\n",
       "    </tr>\n",
       "    <tr>\n",
       "      <th>17946</th>\n",
       "      <td>9485700150</td>\n",
       "      <td>2</td>\n",
       "      <td>1.000</td>\n",
       "      <td>920</td>\n",
       "      <td>7688</td>\n",
       "      <td>1.000</td>\n",
       "      <td>0</td>\n",
       "      <td>0</td>\n",
       "      <td>3</td>\n",
       "      <td>6</td>\n",
       "      <td>920</td>\n",
       "      <td>0</td>\n",
       "      <td>1955</td>\n",
       "      <td>0</td>\n",
       "      <td>98106</td>\n",
       "      <td>47.528</td>\n",
       "      <td>-122.362</td>\n",
       "      <td>1040</td>\n",
       "      <td>7440</td>\n",
       "      <td>4</td>\n",
       "    </tr>\n",
       "  </tbody>\n",
       "</table>\n",
       "</div>"
      ],
      "text/plain": [
       "               id  bedrooms  bathrooms  sqft_living  sqft_lot  floors  \\\n",
       "19428  7877400245         3      1.000          960     10761   1.000   \n",
       "4760   4178300130         7      3.500         3470     16264   2.000   \n",
       "18645  7942600910         1      1.000         1310      8667   1.500   \n",
       "6588   7626200280         2      1.000         1170      5000   1.000   \n",
       "17946  9485700150         2      1.000          920      7688   1.000   \n",
       "\n",
       "       waterfront  view  condition  grade  sqft_above  sqft_basement  \\\n",
       "19428           0     0          4      6         960              0   \n",
       "4760            0     0          4      9        3470              0   \n",
       "18645           0     0          1      6        1310              0   \n",
       "6588            0     0          4      7        1030            140   \n",
       "17946           0     0          3      6         920              0   \n",
       "\n",
       "       yr_built  yr_renovated  zipcode    lat     long  sqft_living15  \\\n",
       "19428      1962             0    98002 47.282 -122.224            960   \n",
       "4760       1980             0    98007 47.620 -122.149           3040   \n",
       "18645      1918             0    98122 47.606 -122.313           1130   \n",
       "6588       1920             0    98136 47.545 -122.388           1170   \n",
       "17946      1955             0    98106 47.528 -122.362           1040   \n",
       "\n",
       "       sqft_lot15  bedrooms_squared  \n",
       "19428       10761                 9  \n",
       "4760        13500                49  \n",
       "18645        4800                 1  \n",
       "6588         5850                 4  \n",
       "17946        7440                 4  "
      ]
     },
     "execution_count": 36,
     "metadata": {},
     "output_type": "execute_result"
    }
   ],
   "source": [
    "X_train['bedrooms_squared'] = X_train['bedrooms'].apply(lambda x: x**2)\n",
    "X_test['bedrooms_squared'] = X_test['bedrooms'].apply(lambda x: x**2)\n",
    "X_train.head()"
   ]
  },
  {
   "cell_type": "code",
   "execution_count": 38,
   "metadata": {},
   "outputs": [
    {
     "data": {
      "text/html": [
       "<div>\n",
       "<style scoped>\n",
       "    .dataframe tbody tr th:only-of-type {\n",
       "        vertical-align: middle;\n",
       "    }\n",
       "\n",
       "    .dataframe tbody tr th {\n",
       "        vertical-align: top;\n",
       "    }\n",
       "\n",
       "    .dataframe thead th {\n",
       "        text-align: right;\n",
       "    }\n",
       "</style>\n",
       "<table border=\"1\" class=\"dataframe\">\n",
       "  <thead>\n",
       "    <tr style=\"text-align: right;\">\n",
       "      <th></th>\n",
       "      <th>id</th>\n",
       "      <th>bedrooms</th>\n",
       "      <th>bathrooms</th>\n",
       "      <th>sqft_living</th>\n",
       "      <th>sqft_lot</th>\n",
       "      <th>floors</th>\n",
       "      <th>waterfront</th>\n",
       "      <th>view</th>\n",
       "      <th>condition</th>\n",
       "      <th>grade</th>\n",
       "      <th>...</th>\n",
       "      <th>yr_renovated</th>\n",
       "      <th>zipcode</th>\n",
       "      <th>lat</th>\n",
       "      <th>long</th>\n",
       "      <th>sqft_living15</th>\n",
       "      <th>sqft_lot15</th>\n",
       "      <th>bedrooms_squared</th>\n",
       "      <th>bed_bath_rooms</th>\n",
       "      <th>log_sqft_living</th>\n",
       "      <th>lat_plus_long</th>\n",
       "    </tr>\n",
       "  </thead>\n",
       "  <tbody>\n",
       "    <tr>\n",
       "      <th>19428</th>\n",
       "      <td>7877400245</td>\n",
       "      <td>3</td>\n",
       "      <td>1.000</td>\n",
       "      <td>960</td>\n",
       "      <td>10761</td>\n",
       "      <td>1.000</td>\n",
       "      <td>0</td>\n",
       "      <td>0</td>\n",
       "      <td>4</td>\n",
       "      <td>6</td>\n",
       "      <td>...</td>\n",
       "      <td>0</td>\n",
       "      <td>98002</td>\n",
       "      <td>47.282</td>\n",
       "      <td>-122.224</td>\n",
       "      <td>960</td>\n",
       "      <td>10761</td>\n",
       "      <td>9</td>\n",
       "      <td>3.000</td>\n",
       "      <td>6.867</td>\n",
       "      <td>-74.942</td>\n",
       "    </tr>\n",
       "    <tr>\n",
       "      <th>4760</th>\n",
       "      <td>4178300130</td>\n",
       "      <td>7</td>\n",
       "      <td>3.500</td>\n",
       "      <td>3470</td>\n",
       "      <td>16264</td>\n",
       "      <td>2.000</td>\n",
       "      <td>0</td>\n",
       "      <td>0</td>\n",
       "      <td>4</td>\n",
       "      <td>9</td>\n",
       "      <td>...</td>\n",
       "      <td>0</td>\n",
       "      <td>98007</td>\n",
       "      <td>47.620</td>\n",
       "      <td>-122.149</td>\n",
       "      <td>3040</td>\n",
       "      <td>13500</td>\n",
       "      <td>49</td>\n",
       "      <td>24.500</td>\n",
       "      <td>8.152</td>\n",
       "      <td>-74.529</td>\n",
       "    </tr>\n",
       "    <tr>\n",
       "      <th>18645</th>\n",
       "      <td>7942600910</td>\n",
       "      <td>1</td>\n",
       "      <td>1.000</td>\n",
       "      <td>1310</td>\n",
       "      <td>8667</td>\n",
       "      <td>1.500</td>\n",
       "      <td>0</td>\n",
       "      <td>0</td>\n",
       "      <td>1</td>\n",
       "      <td>6</td>\n",
       "      <td>...</td>\n",
       "      <td>0</td>\n",
       "      <td>98122</td>\n",
       "      <td>47.606</td>\n",
       "      <td>-122.313</td>\n",
       "      <td>1130</td>\n",
       "      <td>4800</td>\n",
       "      <td>1</td>\n",
       "      <td>1.000</td>\n",
       "      <td>7.178</td>\n",
       "      <td>-74.707</td>\n",
       "    </tr>\n",
       "    <tr>\n",
       "      <th>6588</th>\n",
       "      <td>7626200280</td>\n",
       "      <td>2</td>\n",
       "      <td>1.000</td>\n",
       "      <td>1170</td>\n",
       "      <td>5000</td>\n",
       "      <td>1.000</td>\n",
       "      <td>0</td>\n",
       "      <td>0</td>\n",
       "      <td>4</td>\n",
       "      <td>7</td>\n",
       "      <td>...</td>\n",
       "      <td>0</td>\n",
       "      <td>98136</td>\n",
       "      <td>47.545</td>\n",
       "      <td>-122.388</td>\n",
       "      <td>1170</td>\n",
       "      <td>5850</td>\n",
       "      <td>4</td>\n",
       "      <td>2.000</td>\n",
       "      <td>7.065</td>\n",
       "      <td>-74.843</td>\n",
       "    </tr>\n",
       "    <tr>\n",
       "      <th>17946</th>\n",
       "      <td>9485700150</td>\n",
       "      <td>2</td>\n",
       "      <td>1.000</td>\n",
       "      <td>920</td>\n",
       "      <td>7688</td>\n",
       "      <td>1.000</td>\n",
       "      <td>0</td>\n",
       "      <td>0</td>\n",
       "      <td>3</td>\n",
       "      <td>6</td>\n",
       "      <td>...</td>\n",
       "      <td>0</td>\n",
       "      <td>98106</td>\n",
       "      <td>47.528</td>\n",
       "      <td>-122.362</td>\n",
       "      <td>1040</td>\n",
       "      <td>7440</td>\n",
       "      <td>4</td>\n",
       "      <td>2.000</td>\n",
       "      <td>6.824</td>\n",
       "      <td>-74.834</td>\n",
       "    </tr>\n",
       "  </tbody>\n",
       "</table>\n",
       "<p>5 rows × 23 columns</p>\n",
       "</div>"
      ],
      "text/plain": [
       "               id  bedrooms  bathrooms  sqft_living  sqft_lot  floors  \\\n",
       "19428  7877400245         3      1.000          960     10761   1.000   \n",
       "4760   4178300130         7      3.500         3470     16264   2.000   \n",
       "18645  7942600910         1      1.000         1310      8667   1.500   \n",
       "6588   7626200280         2      1.000         1170      5000   1.000   \n",
       "17946  9485700150         2      1.000          920      7688   1.000   \n",
       "\n",
       "       waterfront  view  condition  grade      ...        yr_renovated  \\\n",
       "19428           0     0          4      6      ...                   0   \n",
       "4760            0     0          4      9      ...                   0   \n",
       "18645           0     0          1      6      ...                   0   \n",
       "6588            0     0          4      7      ...                   0   \n",
       "17946           0     0          3      6      ...                   0   \n",
       "\n",
       "       zipcode    lat     long  sqft_living15  sqft_lot15  bedrooms_squared  \\\n",
       "19428    98002 47.282 -122.224            960       10761                 9   \n",
       "4760     98007 47.620 -122.149           3040       13500                49   \n",
       "18645    98122 47.606 -122.313           1130        4800                 1   \n",
       "6588     98136 47.545 -122.388           1170        5850                 4   \n",
       "17946    98106 47.528 -122.362           1040        7440                 4   \n",
       "\n",
       "       bed_bath_rooms  log_sqft_living  lat_plus_long  \n",
       "19428           3.000            6.867        -74.942  \n",
       "4760           24.500            8.152        -74.529  \n",
       "18645           1.000            7.178        -74.707  \n",
       "6588            2.000            7.065        -74.843  \n",
       "17946           2.000            6.824        -74.834  \n",
       "\n",
       "[5 rows x 23 columns]"
      ]
     },
     "execution_count": 38,
     "metadata": {},
     "output_type": "execute_result"
    }
   ],
   "source": [
    "# create the remaining 3 features in both TEST and TRAIN data\n",
    "\n",
    "#bed_bath_rooms\n",
    "X_train['bed_bath_rooms']=X_train.apply(lambda x: x['bedrooms']*x['bathrooms'], axis=1)\n",
    "X_test['bed_bath_rooms']=X_test.apply(lambda x: x['bedrooms']*x['bathrooms'], axis=1)\n",
    "#LogSqft\n",
    "X_train['log_sqft_living'] = X_train['sqft_living'].apply(lambda x: log(x))\n",
    "X_test['log_sqft_living'] = X_test['sqft_living'].apply(lambda x: log(x))\n",
    "#LatLong\n",
    "X_train['lat_plus_long']=X_train.apply(lambda x: x['lat']+x['long'],axis=1)\n",
    "X_test['lat_plus_long']=X_test.apply(lambda x: x['lat']+x['long'],axis=1)\n",
    "\n",
    "X_train.head()"
   ]
  },
  {
   "cell_type": "markdown",
   "metadata": {},
   "source": [
    "* Squaring bedrooms will increase the separation between not many bedrooms (e.g. 1) and lots of bedrooms (e.g. 4) since 1^2 = 1 but 4^2 = 16. Consequently this feature will mostly affect houses with many bedrooms.\n",
    "* bedrooms times bathrooms gives what's called an \"interaction\" feature. It is large when *both* of them are large.\n",
    "* Taking the log of squarefeet has the effect of bringing large values closer together and spreading out small values.\n",
    "* Adding latitude to longitude is totally non-sensical but we will do it anyway (you'll see why)"
   ]
  },
  {
   "cell_type": "markdown",
   "metadata": {},
   "source": [
    "# Learning Multiple Models"
   ]
  },
  {
   "cell_type": "markdown",
   "metadata": {},
   "source": [
    "Now we will learn the weights for three (nested) models for predicting house prices. The first model will have the fewest features the second model will add one more feature and the third will add a few more:\n",
    "* Model 1: squarefeet, # bedrooms, # bathrooms, latitude & longitude\n",
    "* Model 2: add bedrooms\\*bathrooms\n",
    "* Model 3: Add log squarefeet, bedrooms squared, and the (nonsensical) latitude + longitude"
   ]
  },
  {
   "cell_type": "code",
   "execution_count": 39,
   "metadata": {},
   "outputs": [],
   "source": [
    "model_1_features = ['sqft_living', 'bedrooms', 'bathrooms', 'lat', 'long']\n",
    "model_2_features = model_1_features + ['bed_bath_rooms']\n",
    "model_3_features = model_2_features + ['bedrooms_squared', 'log_sqft_living', 'lat_plus_long']"
   ]
  },
  {
   "cell_type": "markdown",
   "metadata": {},
   "source": [
    "Now that you have the features, learn the weights for the three different models for predicting target = 'price' using linear_model.LinearRegression and look at the value of the weights/coefficients:"
   ]
  },
  {
   "cell_type": "code",
   "execution_count": 40,
   "metadata": {},
   "outputs": [
    {
     "data": {
      "text/plain": [
       "LinearRegression(copy_X=True, fit_intercept=True, n_jobs=None,\n",
       "         normalize=False)"
      ]
     },
     "execution_count": 40,
     "metadata": {},
     "output_type": "execute_result"
    }
   ],
   "source": [
    "# Learn the three models:\n",
    "modelOne = linear_model.LinearRegression()\n",
    "subsetOne = pd.DataFrame(X_train, columns=model_1_features)\n",
    "X = subsetOne\n",
    "Y = y_train\n",
    "modelOne.fit(X,Y)\n",
    "\n",
    "modelTwo = linear_model.LinearRegression()\n",
    "subsetTwo = pd.DataFrame(X_train, columns=model_2_features)\n",
    "X = subsetTwo\n",
    "Y = y_train\n",
    "modelTwo.fit(X,Y)\n",
    "\n",
    "modelThree = linear_model.LinearRegression()\n",
    "subsetThree = pd.DataFrame(X_train, columns=model_3_features)\n",
    "X = subsetThree\n",
    "Y = y_train\n",
    "modelThree.fit(X,Y)"
   ]
  },
  {
   "cell_type": "markdown",
   "metadata": {},
   "source": [
    "### Print the equations models"
   ]
  },
  {
   "cell_type": "code",
   "execution_count": 41,
   "metadata": {},
   "outputs": [
    {
     "name": "stdout",
     "output_type": "stream",
     "text": [
      "Model 1:  [300.9923453266841 -51641.972340914 19639.4034372465 665197.2959723439\n",
      " -305609.1063478167] -68940683.59111667 \n",
      "\n",
      "Model 2:  [295.70689056886494 -99862.8880100959 -60465.0745079871 661392.643124819\n",
      " -291036.9348538776 23386.653047865428] -66811320.66760879 \n",
      "\n",
      "Model 3:  [501.9345659544683 -10055.747961943078 88853.46084079226 531354.1534757216\n",
      " -402315.69776446465 -13868.361147280944 902.5160243046907\n",
      " -506955.9402696923 129038.45571125785] -61544786.34000743\n"
     ]
    }
   ],
   "source": [
    "print(\"Model 1: \",modelOne.coef_.astype(object),modelOne.intercept_,\"\\n\")\n",
    "print(\"Model 2: \",modelTwo.coef_.astype(object),modelTwo.intercept_,\"\\n\")\n",
    "print(\"Model 3: \",modelThree.coef_.astype(object),modelThree.intercept_)"
   ]
  },
  {
   "cell_type": "markdown",
   "metadata": {},
   "source": [
    "### Question: What is the sign (positive or negative) for the coefficient/weight for 'bathrooms' (3rd) in model 1?\n",
    "* positive\n",
    "\n",
    "### Question: What is the sign (positive or negative) for the coefficient/weight for 'bathrooms'(3rd) in model 2?\n",
    "* negative\n",
    "\n",
    "### Do you know what it means?\n",
    "Multicollinearity is the usual suspect. Basically, if your variables are positively correlated, then the coefficients will be negatively correlated, which can lead to a wrong sign on one of the coefficients.\n",
    "\n",
    "If the coefficient flipping is due to collinearity, then it's not really interesting to report, because it's not due to the relationship between your predictors to the outcome, but really due to the relationship between predictors.\n",
    "\n",
    "If the correlation between two variables were r>=0.95, then most data analysts would say you had problematic collinearity"
   ]
  },
  {
   "cell_type": "markdown",
   "metadata": {},
   "source": [
    "# RESEARCH"
   ]
  },
  {
   "cell_type": "markdown",
   "metadata": {},
   "source": [
    "## Comparing multiple models\n",
    "\n",
    "Now that you've learned three models and extracted the model weights we want to evaluate which model is best."
   ]
  },
  {
   "cell_type": "markdown",
   "metadata": {},
   "source": [
    "First use your functions from earlier to compute the RSS on TRAINING Data for each of the three models."
   ]
  },
  {
   "cell_type": "markdown",
   "metadata": {},
   "source": [
    "### Question: Which model (1, 2 or 3) has lowest RSS on TRAINING Data?\n"
   ]
  },
  {
   "cell_type": "code",
   "execution_count": 52,
   "metadata": {},
   "outputs": [
    {
     "name": "stdout",
     "output_type": "stream",
     "text": [
      "939065452941012.8\n",
      "931202276557168.5\n",
      "886142526178509.5\n"
     ]
    }
   ],
   "source": [
    "print(get_residual_sum_of_squares(modelOne, subsetOne, y_train))\n",
    "print(get_residual_sum_of_squares(modelTwo, subsetTwo, y_train))\n",
    "print(get_residual_sum_of_squares(modelThree, subsetThree, y_train))"
   ]
  },
  {
   "cell_type": "markdown",
   "metadata": {},
   "source": [
    "### Question: Which model (1, 2 or 3) has lowest RSS on TESTING Data? Is this what you expected?\n"
   ]
  },
  {
   "cell_type": "code",
   "execution_count": 53,
   "metadata": {},
   "outputs": [
    {
     "name": "stdout",
     "output_type": "stream",
     "text": [
      "254202411315886.62\n",
      "250439583242964.1\n",
      "231616872970852.25\n"
     ]
    }
   ],
   "source": [
    "print(get_residual_sum_of_squares(modelOne, pd.DataFrame(X_test, columns = model_1_features), y_test))\n",
    "print(get_residual_sum_of_squares(modelTwo, pd.DataFrame(X_test, columns = model_2_features), y_test))\n",
    "print(get_residual_sum_of_squares(modelThree, pd.DataFrame(X_test, columns = model_3_features), y_test))"
   ]
  },
  {
   "cell_type": "markdown",
   "metadata": {},
   "source": [
    "# END RESEARCH"
   ]
  },
  {
   "cell_type": "markdown",
   "metadata": {},
   "source": [
    "## How does the regression functions looks?\n",
    "Remember, we cannot plot in every dimension, so, let's see some of the features function in model 1"
   ]
  },
  {
   "cell_type": "code",
   "execution_count": 30,
   "metadata": {},
   "outputs": [],
   "source": [
    "subsetOne = pd.DataFrame(X_test, columns=model_1_features)"
   ]
  },
  {
   "cell_type": "code",
   "execution_count": 57,
   "metadata": {},
   "outputs": [
    {
     "name": "stdout",
     "output_type": "stream",
     "text": [
      "Help on method reset_index in module pandas.core.frame:\n",
      "\n",
      "reset_index(level=None, drop=False, inplace=False, col_level=0, col_fill='') method of pandas.core.frame.DataFrame instance\n",
      "    For DataFrame with multi-level index, return new DataFrame with\n",
      "    labeling information in the columns under the index names, defaulting\n",
      "    to 'level_0', 'level_1', etc. if any are None. For a standard index,\n",
      "    the index name will be used (if set), otherwise a default 'index' or\n",
      "    'level_0' (if 'index' is already taken) will be used.\n",
      "    \n",
      "    Parameters\n",
      "    ----------\n",
      "    level : int, str, tuple, or list, default None\n",
      "        Only remove the given levels from the index. Removes all levels by\n",
      "        default\n",
      "    drop : boolean, default False\n",
      "        Do not try to insert index into dataframe columns. This resets\n",
      "        the index to the default integer index.\n",
      "    inplace : boolean, default False\n",
      "        Modify the DataFrame in place (do not create a new object)\n",
      "    col_level : int or str, default 0\n",
      "        If the columns have multiple levels, determines which level the\n",
      "        labels are inserted into. By default it is inserted into the first\n",
      "        level.\n",
      "    col_fill : object, default ''\n",
      "        If the columns have multiple levels, determines how the other\n",
      "        levels are named. If None then the index name is repeated.\n",
      "    \n",
      "    Returns\n",
      "    -------\n",
      "    resetted : DataFrame\n",
      "    \n",
      "    Examples\n",
      "    --------\n",
      "    >>> df = pd.DataFrame([('bird',    389.0),\n",
      "    ...                    ('bird',     24.0),\n",
      "    ...                    ('mammal',   80.5),\n",
      "    ...                    ('mammal', np.nan)],\n",
      "    ...                   index=['falcon', 'parrot', 'lion', 'monkey'],\n",
      "    ...                   columns=('class', 'max_speed'))\n",
      "    >>> df\n",
      "             class  max_speed\n",
      "    falcon    bird      389.0\n",
      "    parrot    bird       24.0\n",
      "    lion    mammal       80.5\n",
      "    monkey  mammal        NaN\n",
      "    \n",
      "    When we reset the index, the old index is added as a column, and a\n",
      "    new sequential index is used:\n",
      "    \n",
      "    >>> df.reset_index()\n",
      "        index   class  max_speed\n",
      "    0  falcon    bird      389.0\n",
      "    1  parrot    bird       24.0\n",
      "    2    lion  mammal       80.5\n",
      "    3  monkey  mammal        NaN\n",
      "    \n",
      "    We can use the `drop` parameter to avoid the old index being added as\n",
      "    a column:\n",
      "    \n",
      "    >>> df.reset_index(drop=True)\n",
      "        class  max_speed\n",
      "    0    bird      389.0\n",
      "    1    bird       24.0\n",
      "    2  mammal       80.5\n",
      "    3  mammal        NaN\n",
      "    \n",
      "    You can also use `reset_index` with `MultiIndex`.\n",
      "    \n",
      "    >>> index = pd.MultiIndex.from_tuples([('bird', 'falcon'),\n",
      "    ...                                    ('bird', 'parrot'),\n",
      "    ...                                    ('mammal', 'lion'),\n",
      "    ...                                    ('mammal', 'monkey')],\n",
      "    ...                                   names=['class', 'name'])\n",
      "    >>> columns = pd.MultiIndex.from_tuples([('speed', 'max'),\n",
      "    ...                                      ('species', 'type')])\n",
      "    >>> df = pd.DataFrame([(389.0, 'fly'),\n",
      "    ...                    ( 24.0, 'fly'),\n",
      "    ...                    ( 80.5, 'run'),\n",
      "    ...                    (np.nan, 'jump')],\n",
      "    ...                   index=index,\n",
      "    ...                   columns=columns)\n",
      "    >>> df\n",
      "                   speed species\n",
      "                     max    type\n",
      "    class  name\n",
      "    bird   falcon  389.0     fly\n",
      "           parrot   24.0     fly\n",
      "    mammal lion     80.5     run\n",
      "           monkey    NaN    jump\n",
      "    \n",
      "    If the index has multiple levels, we can reset a subset of them:\n",
      "    \n",
      "    >>> df.reset_index(level='class')\n",
      "             class  speed species\n",
      "                      max    type\n",
      "    name\n",
      "    falcon    bird  389.0     fly\n",
      "    parrot    bird   24.0     fly\n",
      "    lion    mammal   80.5     run\n",
      "    monkey  mammal    NaN    jump\n",
      "    \n",
      "    If we are not dropping the index, by default, it is placed in the top\n",
      "    level. We can place it in another level:\n",
      "    \n",
      "    >>> df.reset_index(level='class', col_level=1)\n",
      "                    speed species\n",
      "             class    max    type\n",
      "    name\n",
      "    falcon    bird  389.0     fly\n",
      "    parrot    bird   24.0     fly\n",
      "    lion    mammal   80.5     run\n",
      "    monkey  mammal    NaN    jump\n",
      "    \n",
      "    When the index is inserted under another level, we can specify under\n",
      "    which one with the parameter `col_fill`:\n",
      "    \n",
      "    >>> df.reset_index(level='class', col_level=1, col_fill='species')\n",
      "                  species  speed species\n",
      "                    class    max    type\n",
      "    name\n",
      "    falcon           bird  389.0     fly\n",
      "    parrot           bird   24.0     fly\n",
      "    lion           mammal   80.5     run\n",
      "    monkey         mammal    NaN    jump\n",
      "    \n",
      "    If we specify a nonexistent level for `col_fill`, it is created:\n",
      "    \n",
      "    >>> df.reset_index(level='class', col_level=1, col_fill='genus')\n",
      "                    genus  speed species\n",
      "                    class    max    type\n",
      "    name\n",
      "    falcon           bird  389.0     fly\n",
      "    parrot           bird   24.0     fly\n",
      "    lion           mammal   80.5     run\n",
      "    monkey         mammal    NaN    jump\n",
      "\n"
     ]
    }
   ],
   "source": [
    "help(subsetOne.reset_index)"
   ]
  },
  {
   "cell_type": "code",
   "execution_count": 31,
   "metadata": {},
   "outputs": [
    {
     "data": {
      "text/plain": [
       "[<matplotlib.lines.Line2D at 0x229eedfcef0>,\n",
       " <matplotlib.lines.Line2D at 0x229efe4a400>]"
      ]
     },
     "execution_count": 31,
     "metadata": {},
     "output_type": "execute_result"
    },
    {
     "data": {
      "image/png": "[encoded data removed]",
      "text/plain": [
       "<Figure size 432x288 with 1 Axes>"
      ]
     },
     "metadata": {
      "needs_background": "light"
     },
     "output_type": "display_data"
    }
   ],
   "source": [
    "subsetOneSorted = subsetOne.sort_values(ascending=True,by=['bathrooms'])\n",
    "subsetOneSorted.reset_index(drop=True, inplace=True)\n",
    "plt.plot(subsetOneSorted['bathrooms'],y_test,'.',\n",
    "         subsetOneSorted['bathrooms'],modelOne.predict(subsetOneSorted),'+')"
   ]
  },
  {
   "cell_type": "code",
   "execution_count": null,
   "metadata": {},
   "outputs": [],
   "source": []
  },
  {
   "cell_type": "code",
   "execution_count": null,
   "metadata": {},
   "outputs": [],
   "source": []
  },
  {
   "cell_type": "code",
   "execution_count": 32,
   "metadata": {},
   "outputs": [
    {
     "data": {
      "text/plain": [
       "[<matplotlib.lines.Line2D at 0x229efe05630>,\n",
       " <matplotlib.lines.Line2D at 0x229efe05ac8>]"
      ]
     },
     "execution_count": 32,
     "metadata": {},
     "output_type": "execute_result"
    },
    {
     "data": {
      "image/png": "[encoded data removed]",
      "text/plain": [
       "<Figure size 432x288 with 1 Axes>"
      ]
     },
     "metadata": {
      "needs_background": "light"
     },
     "output_type": "display_data"
    }
   ],
   "source": [
    "subsetOneSorted = subsetOne.sort_values(ascending=True,by=['bedrooms'])\n",
    "subsetOneSorted.reset_index(drop=True, inplace=True)\n",
    "plt.plot(subsetOneSorted['bedrooms'],y_test,'.',\n",
    "         subsetOneSorted['bedrooms'],modelOne.predict(subsetOneSorted),'+')"
   ]
  },
  {
   "cell_type": "code",
   "execution_count": 33,
   "metadata": {},
   "outputs": [
    {
     "data": {
      "text/plain": [
       "[<matplotlib.lines.Line2D at 0x229efea25c0>,\n",
       " <matplotlib.lines.Line2D at 0x229efea2a58>]"
      ]
     },
     "execution_count": 33,
     "metadata": {},
     "output_type": "execute_result"
    },
    {
     "data": {
      "image/png": "[encoded data removed]",
      "text/plain": [
       "<Figure size 432x288 with 1 Axes>"
      ]
     },
     "metadata": {
      "needs_background": "light"
     },
     "output_type": "display_data"
    }
   ],
   "source": [
    "subsetOneSorted = subsetOne.sort_values(ascending=True,by=['lat'])\n",
    "subsetOneSorted.reset_index(drop=True, inplace=True)\n",
    "plt.plot(subsetOneSorted['lat'],y_test,'.',\n",
    "         subsetOneSorted['lat'],modelOne.predict(subsetOneSorted),'+')"
   ]
  },
  {
   "cell_type": "markdown",
   "metadata": {},
   "source": [
    "### Let's compare the three models visually on 'sqft_living'"
   ]
  },
  {
   "cell_type": "code",
   "execution_count": 34,
   "metadata": {},
   "outputs": [
    {
     "data": {
      "text/plain": [
       "[<matplotlib.lines.Line2D at 0x229efeffa20>,\n",
       " <matplotlib.lines.Line2D at 0x229efeffeb8>]"
      ]
     },
     "execution_count": 34,
     "metadata": {},
     "output_type": "execute_result"
    },
    {
     "data": {
      "image/png": "[encoded data removed]",
      "text/plain": [
       "<Figure size 432x288 with 1 Axes>"
      ]
     },
     "metadata": {
      "needs_background": "light"
     },
     "output_type": "display_data"
    }
   ],
   "source": [
    "subsetOneSorted = subsetOne.sort_values(ascending=True,by=['sqft_living'])\n",
    "subsetOneSorted.reset_index(drop=True, inplace=True)\n",
    "plt.plot(subsetOneSorted['sqft_living'],y_test,'.',\n",
    "         subsetOneSorted['sqft_living'],modelOne.predict(subsetOneSorted),'-')"
   ]
  },
  {
   "cell_type": "markdown",
   "metadata": {},
   "source": [
    "# RESEARCH\n",
    "## So... Can you do best?"
   ]
  },
  {
   "cell_type": "markdown",
   "metadata": {},
   "source": [
    "# Ridge"
   ]
  },
  {
   "cell_type": "markdown",
   "metadata": {},
   "source": [
    "First, lets revert the precision change, it is important now to check all the decimals"
   ]
  },
  {
   "cell_type": "code",
   "execution_count": 35,
   "metadata": {},
   "outputs": [],
   "source": [
    "pd.set_option('display.float_format', '{:.2g}'.format)\n",
    "pd.options.mode.chained_assignment = None"
   ]
  },
  {
   "cell_type": "code",
   "execution_count": 36,
   "metadata": {},
   "outputs": [
    {
     "name": "stdout",
     "output_type": "stream",
     "text": [
      "\n",
      "\n",
      "              Feature  Coefficients\n",
      "0                 id        -9e-07\n",
      "1           bedrooms      -1.8e+03\n",
      "2          bathrooms       7.5e+04\n",
      "3        sqft_living       1.9e+02\n",
      "4           sqft_lot         0.096\n",
      "5             floors       1.7e+04\n",
      "6         waterfront       5.7e+05\n",
      "7               view         5e+04\n",
      "8          condition       3.2e+04\n",
      "9              grade         1e+05\n",
      "10        sqft_above       1.9e+02\n",
      "11     sqft_basement       1.8e+02\n",
      "12          yr_built      -2.5e+03\n",
      "13      yr_renovated            28\n",
      "14           zipcode      -6.5e+02\n",
      "15               lat         5e+05\n",
      "16              long        -3e+05\n",
      "17     sqft_living15            36\n",
      "18        sqft_lot15         -0.39\n",
      "19  bedrooms_squared       3.1e+02\n",
      "20    bed_bath_rooms      -5.7e+03\n",
      "21   log_sqft_living      -5.5e+05\n",
      "22     lat_plus_long       1.1e+05\n",
      "   19815182.51272408  Intercept\n"
     ]
    }
   ],
   "source": [
    "l2_small_penalty = 1e-5\n",
    "\n",
    "model1Ridge = linear_model.Ridge(alpha=l2_small_penalty, normalize=True)\n",
    "model1Ridge.fit(X_train, y_train)\n",
    "print(\"\\n\\n\",pd.DataFrame({'Feature': X_train.columns,\n",
    "                    'Coefficients': model1Ridge.coef_}))\n",
    "print(\"  \",model1Ridge.intercept_,\" Intercept\")"
   ]
  },
  {
   "cell_type": "code",
   "execution_count": 37,
   "metadata": {},
   "outputs": [
    {
     "name": "stdout",
     "output_type": "stream",
     "text": [
      "\n",
      "\n",
      "              Feature  Coefficients\n",
      "0                 id        -2e-08\n",
      "1           bedrooms       1.1e+03\n",
      "2          bathrooms       2.4e+03\n",
      "3        sqft_living           2.7\n",
      "4           sqft_lot        0.0073\n",
      "5             floors       1.7e+03\n",
      "6         waterfront       1.1e+04\n",
      "7               view       1.9e+03\n",
      "8          condition       2.2e+02\n",
      "9              grade         2e+03\n",
      "10        sqft_above           2.6\n",
      "11     sqft_basement           2.6\n",
      "12          yr_built           4.5\n",
      "13      yr_renovated           1.1\n",
      "14           zipcode          -3.6\n",
      "15               lat         8e+03\n",
      "16              long       1.7e+02\n",
      "17     sqft_living15             3\n",
      "18        sqft_lot15        0.0098\n",
      "19  bedrooms_squared            65\n",
      "20    bed_bath_rooms       4.2e+02\n",
      "21   log_sqft_living         5e+03\n",
      "22     lat_plus_long       4.7e+03\n",
      "   789379.6274224825  Intercept\n"
     ]
    }
   ],
   "source": [
    "l2_small_penalty = 100\n",
    "\n",
    "model1Ridge = linear_model.Ridge(alpha=l2_small_penalty, normalize=True)\n",
    "model1Ridge.fit(X_train, y_train)\n",
    "print(\"\\n\\n\",pd.DataFrame({'Feature': X_train.columns,\n",
    "                    'Coefficients': model1Ridge.coef_}))\n",
    "print(\"  \",model1Ridge.intercept_,\" Intercept\")"
   ]
  },
  {
   "cell_type": "markdown",
   "metadata": {},
   "source": [
    "# Lasso"
   ]
  },
  {
   "cell_type": "code",
   "execution_count": 38,
   "metadata": {},
   "outputs": [],
   "source": [
    "X1,X2,Y1,Y2 = train_test_split(X_train,y_train,test_size=0.5)\n",
    "XSub1,XSub2,YSub1,YSub2 = train_test_split(X1,Y1,test_size=0.5)"
   ]
  },
  {
   "cell_type": "code",
   "execution_count": 39,
   "metadata": {},
   "outputs": [
    {
     "name": "stdout",
     "output_type": "stream",
     "text": [
      "\n",
      "\n",
      "              Feature  Coefficients\n",
      "0                 id            -0\n",
      "1           bedrooms            -0\n",
      "2          bathrooms       6.8e+03\n",
      "3        sqft_living       1.6e+02\n",
      "4           sqft_lot            -0\n",
      "5             floors             0\n",
      "6         waterfront         5e+05\n",
      "7               view       5.1e+04\n",
      "8          condition       8.8e+03\n",
      "9              grade       9.9e+04\n",
      "10        sqft_above             6\n",
      "11     sqft_basement             0\n",
      "12          yr_built      -1.9e+03\n",
      "13      yr_renovated           5.7\n",
      "14           zipcode            -0\n",
      "15               lat       5.1e+05\n",
      "16              long      -2.7e+04\n",
      "17     sqft_living15            11\n",
      "18        sqft_lot15            -0\n",
      "19  bedrooms_squared            -0\n",
      "20    bed_bath_rooms             0\n",
      "21   log_sqft_living            -0\n",
      "22     lat_plus_long            -0\n",
      "   -24523719.02262078  Intercept\n"
     ]
    }
   ],
   "source": [
    "alpha = 1e-5\n",
    "\n",
    "model1Lasso = linear_model.Lasso(alpha=l2_small_penalty, normalize=True)\n",
    "model1Lasso.fit(X_train, y_train)\n",
    "print(\"\\n\\n\",pd.DataFrame({'Feature': X_train.columns,\n",
    "                    'Coefficients': model1Lasso.coef_}))\n",
    "print(\"  \",model1Lasso.intercept_,\" Intercept\")"
   ]
  },
  {
   "cell_type": "markdown",
   "metadata": {},
   "source": [
    "# RESEARCH\n",
    "Now is time for you to plot the models with the Lasso and Ridge recommendations!"
   ]
  }
 ],
 "metadata": {
  "kernelspec": {
   "display_name": "Python 3",
   "language": "python",
   "name": "python3"
  },
  "language_info": {
   "codemirror_mode": {
    "name": "ipython",
    "version": 3
   },
   "file_extension": ".py",
   "mimetype": "text/x-python",
   "name": "python",
   "nbconvert_exporter": "python",
   "pygments_lexer": "ipython3",
   "version": "3.6.7"
  }
 },
 "nbformat": 4,
 "nbformat_minor": 1
}
