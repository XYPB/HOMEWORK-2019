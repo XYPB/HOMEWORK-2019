{
 "cells": [
  {
   "cell_type": "markdown",
   "metadata": {},
   "source": [
    "# Exercise 2: Movie rating!\n",
    "Tecnun - UNAV\n",
    "Winter Course 2019 <p>\n",
    "drosquete@ceit.es <p>\n",
    "This exercise is taken from Kaggle. Please <b> DO NOT </b> look for it online; you may see the answer and the idea is to create not to copy :-) \n",
    "<img src=\"zinemaldia.png\" style=\"width: 30%; height: 30%\">\n",
    "\n",
    "## How can we tell the greatness of a movie?\n",
    "\n",
    "This question puzzled me for a long time since there is no universal way to claim the goodness of movies. Many people rely on critics to gauge the quality of a film, while others use their instincts. But it takes the time to obtain a reasonable amount of critics review after a movie is released. And human instinct sometimes is unreliable.<p>\n",
    "<p>\n",
    "There are 2 files, train and test. The idea is to train the model with the train file and then test the results with the test file.<p>\n",
    "* The train file contains 3782 observations with 28 features and the target.\n",
    "* The test file contains 1261 observations with 28 features and the target."
   ]
  },
  {
   "cell_type": "markdown",
   "metadata": {},
   "source": [
    "## Activity 1: Load libraries and both files"
   ]
  },
  {
   "cell_type": "code",
   "execution_count": 9,
   "metadata": {},
   "outputs": [
    {
     "data": {
      "text/html": [
       "<div>\n",
       "<style scoped>\n",
       "    .dataframe tbody tr th:only-of-type {\n",
       "        vertical-align: middle;\n",
       "    }\n",
       "\n",
       "    .dataframe tbody tr th {\n",
       "        vertical-align: top;\n",
       "    }\n",
       "\n",
       "    .dataframe thead th {\n",
       "        text-align: right;\n",
       "    }\n",
       "</style>\n",
       "<table border=\"1\" class=\"dataframe\">\n",
       "  <thead>\n",
       "    <tr style=\"text-align: right;\">\n",
       "      <th></th>\n",
       "      <th>movie_title</th>\n",
       "      <th>director_name</th>\n",
       "      <th>num_critic_for_reviews</th>\n",
       "      <th>duration</th>\n",
       "      <th>director_facebook_likes</th>\n",
       "      <th>actor_3_facebook_likes</th>\n",
       "      <th>actor_2_name</th>\n",
       "      <th>actor_1_facebook_likes</th>\n",
       "      <th>gross</th>\n",
       "      <th>genres</th>\n",
       "      <th>...</th>\n",
       "      <th>num_user_for_reviews</th>\n",
       "      <th>language</th>\n",
       "      <th>country</th>\n",
       "      <th>content_rating</th>\n",
       "      <th>budget</th>\n",
       "      <th>title_year</th>\n",
       "      <th>actor_2_facebook_likes</th>\n",
       "      <th>aspect_ratio</th>\n",
       "      <th>movie_facebook_likes</th>\n",
       "      <th>imdb_score</th>\n",
       "    </tr>\n",
       "  </thead>\n",
       "  <tbody>\n",
       "    <tr>\n",
       "      <th>0</th>\n",
       "      <td>What Dreams May Come</td>\n",
       "      <td>Vincent Ward</td>\n",
       "      <td>121.0</td>\n",
       "      <td>113.0</td>\n",
       "      <td>25.0</td>\n",
       "      <td>129.0</td>\n",
       "      <td>Annabella Sciorra</td>\n",
       "      <td>49000.0</td>\n",
       "      <td>55350897.0</td>\n",
       "      <td>Drama|Fantasy|Romance</td>\n",
       "      <td>...</td>\n",
       "      <td>619.0</td>\n",
       "      <td>English</td>\n",
       "      <td>USA</td>\n",
       "      <td>PG-13</td>\n",
       "      <td>85000000.0</td>\n",
       "      <td>1998.0</td>\n",
       "      <td>448.0</td>\n",
       "      <td>2.35</td>\n",
       "      <td>32000</td>\n",
       "      <td>7.0</td>\n",
       "    </tr>\n",
       "    <tr>\n",
       "      <th>1</th>\n",
       "      <td>Mad Max 2: The Road Warrior</td>\n",
       "      <td>George Miller</td>\n",
       "      <td>177.0</td>\n",
       "      <td>87.0</td>\n",
       "      <td>750.0</td>\n",
       "      <td>41.0</td>\n",
       "      <td>Bruce Spence</td>\n",
       "      <td>745.0</td>\n",
       "      <td>9003011.0</td>\n",
       "      <td>Action|Adventure|Sci-Fi|Thriller</td>\n",
       "      <td>...</td>\n",
       "      <td>294.0</td>\n",
       "      <td>English</td>\n",
       "      <td>Australia</td>\n",
       "      <td>R</td>\n",
       "      <td>2000000.0</td>\n",
       "      <td>1981.0</td>\n",
       "      <td>531.0</td>\n",
       "      <td>2.35</td>\n",
       "      <td>0</td>\n",
       "      <td>7.6</td>\n",
       "    </tr>\n",
       "    <tr>\n",
       "      <th>2</th>\n",
       "      <td>Over the Hedge</td>\n",
       "      <td>Tim Johnson</td>\n",
       "      <td>166.0</td>\n",
       "      <td>83.0</td>\n",
       "      <td>12.0</td>\n",
       "      <td>925.0</td>\n",
       "      <td>Steve Carell</td>\n",
       "      <td>13000.0</td>\n",
       "      <td>155019340.0</td>\n",
       "      <td>Adventure|Animation|Comedy|Family</td>\n",
       "      <td>...</td>\n",
       "      <td>250.0</td>\n",
       "      <td>English</td>\n",
       "      <td>USA</td>\n",
       "      <td>PG</td>\n",
       "      <td>80000000.0</td>\n",
       "      <td>2006.0</td>\n",
       "      <td>7000.0</td>\n",
       "      <td>1.85</td>\n",
       "      <td>0</td>\n",
       "      <td>6.8</td>\n",
       "    </tr>\n",
       "    <tr>\n",
       "      <th>3</th>\n",
       "      <td>Soul Kitchen</td>\n",
       "      <td>Fatih Akin</td>\n",
       "      <td>115.0</td>\n",
       "      <td>99.0</td>\n",
       "      <td>766.0</td>\n",
       "      <td>269.0</td>\n",
       "      <td>Moritz Bleibtreu</td>\n",
       "      <td>595.0</td>\n",
       "      <td>274385.0</td>\n",
       "      <td>Comedy|Drama</td>\n",
       "      <td>...</td>\n",
       "      <td>26.0</td>\n",
       "      <td>German</td>\n",
       "      <td>Germany</td>\n",
       "      <td>NaN</td>\n",
       "      <td>4000000.0</td>\n",
       "      <td>2009.0</td>\n",
       "      <td>486.0</td>\n",
       "      <td>1.85</td>\n",
       "      <td>0</td>\n",
       "      <td>7.3</td>\n",
       "    </tr>\n",
       "    <tr>\n",
       "      <th>4</th>\n",
       "      <td>Quartet</td>\n",
       "      <td>Dustin Hoffman</td>\n",
       "      <td>175.0</td>\n",
       "      <td>98.0</td>\n",
       "      <td>0.0</td>\n",
       "      <td>123.0</td>\n",
       "      <td>Sheridan Smith</td>\n",
       "      <td>358.0</td>\n",
       "      <td>18381787.0</td>\n",
       "      <td>Comedy|Drama</td>\n",
       "      <td>...</td>\n",
       "      <td>126.0</td>\n",
       "      <td>English</td>\n",
       "      <td>UK</td>\n",
       "      <td>PG-13</td>\n",
       "      <td>11000000.0</td>\n",
       "      <td>2012.0</td>\n",
       "      <td>156.0</td>\n",
       "      <td>2.35</td>\n",
       "      <td>13000</td>\n",
       "      <td>6.8</td>\n",
       "    </tr>\n",
       "  </tbody>\n",
       "</table>\n",
       "<p>5 rows × 28 columns</p>\n",
       "</div>"
      ],
      "text/plain": [
       "                    movie_title   director_name  num_critic_for_reviews  \\\n",
       "0         What Dreams May Come     Vincent Ward                   121.0   \n",
       "1  Mad Max 2: The Road Warrior    George Miller                   177.0   \n",
       "2               Over the Hedge      Tim Johnson                   166.0   \n",
       "3                 Soul Kitchen       Fatih Akin                   115.0   \n",
       "4                      Quartet   Dustin Hoffman                   175.0   \n",
       "\n",
       "   duration  director_facebook_likes  actor_3_facebook_likes  \\\n",
       "0     113.0                     25.0                   129.0   \n",
       "1      87.0                    750.0                    41.0   \n",
       "2      83.0                     12.0                   925.0   \n",
       "3      99.0                    766.0                   269.0   \n",
       "4      98.0                      0.0                   123.0   \n",
       "\n",
       "        actor_2_name  actor_1_facebook_likes        gross  \\\n",
       "0  Annabella Sciorra                 49000.0   55350897.0   \n",
       "1       Bruce Spence                   745.0    9003011.0   \n",
       "2       Steve Carell                 13000.0  155019340.0   \n",
       "3   Moritz Bleibtreu                   595.0     274385.0   \n",
       "4     Sheridan Smith                   358.0   18381787.0   \n",
       "\n",
       "                              genres    ...     num_user_for_reviews language  \\\n",
       "0              Drama|Fantasy|Romance    ...                    619.0  English   \n",
       "1   Action|Adventure|Sci-Fi|Thriller    ...                    294.0  English   \n",
       "2  Adventure|Animation|Comedy|Family    ...                    250.0  English   \n",
       "3                       Comedy|Drama    ...                     26.0   German   \n",
       "4                       Comedy|Drama    ...                    126.0  English   \n",
       "\n",
       "     country  content_rating      budget  title_year actor_2_facebook_likes  \\\n",
       "0        USA           PG-13  85000000.0      1998.0                  448.0   \n",
       "1  Australia               R   2000000.0      1981.0                  531.0   \n",
       "2        USA              PG  80000000.0      2006.0                 7000.0   \n",
       "3    Germany             NaN   4000000.0      2009.0                  486.0   \n",
       "4         UK           PG-13  11000000.0      2012.0                  156.0   \n",
       "\n",
       "  aspect_ratio  movie_facebook_likes imdb_score  \n",
       "0         2.35                 32000        7.0  \n",
       "1         2.35                     0        7.6  \n",
       "2         1.85                     0        6.8  \n",
       "3         1.85                     0        7.3  \n",
       "4         2.35                 13000        6.8  \n",
       "\n",
       "[5 rows x 28 columns]"
      ]
     },
     "execution_count": 9,
     "metadata": {},
     "output_type": "execute_result"
    }
   ],
   "source": [
    "import numpy as np\n",
    "import pandas as pd\n",
    "import matplotlib.pyplot as plt\n",
    "from sklearn import linear_model\n",
    "from sklearn.model_selection import train_test_split\n",
    "testMovies = pd.read_csv('testMovies.csv')\n",
    "trainMovies = pd.read_csv('trainMovies.csv')\n",
    "testMovies.head()"
   ]
  },
  {
   "cell_type": "markdown",
   "metadata": {},
   "source": [
    "## Check your datatypes! Simple Linear Regression (SLR) cannot process strings\n",
    "\n",
    "You must remove the columns that are not numeric. <b>Tip: </b> check <code>select_dtypes</code> function"
   ]
  },
  {
   "cell_type": "code",
   "execution_count": 12,
   "metadata": {},
   "outputs": [
    {
     "data": {
      "text/html": [
       "<div>\n",
       "<style scoped>\n",
       "    .dataframe tbody tr th:only-of-type {\n",
       "        vertical-align: middle;\n",
       "    }\n",
       "\n",
       "    .dataframe tbody tr th {\n",
       "        vertical-align: top;\n",
       "    }\n",
       "\n",
       "    .dataframe thead th {\n",
       "        text-align: right;\n",
       "    }\n",
       "</style>\n",
       "<table border=\"1\" class=\"dataframe\">\n",
       "  <thead>\n",
       "    <tr style=\"text-align: right;\">\n",
       "      <th></th>\n",
       "      <th>num_critic_for_reviews</th>\n",
       "      <th>duration</th>\n",
       "      <th>director_facebook_likes</th>\n",
       "      <th>actor_3_facebook_likes</th>\n",
       "      <th>actor_1_facebook_likes</th>\n",
       "      <th>gross</th>\n",
       "      <th>num_voted_users</th>\n",
       "      <th>cast_total_facebook_likes</th>\n",
       "      <th>facenumber_in_poster</th>\n",
       "      <th>num_user_for_reviews</th>\n",
       "      <th>budget</th>\n",
       "      <th>title_year</th>\n",
       "      <th>actor_2_facebook_likes</th>\n",
       "      <th>aspect_ratio</th>\n",
       "      <th>movie_facebook_likes</th>\n",
       "      <th>imdb_score</th>\n",
       "    </tr>\n",
       "  </thead>\n",
       "  <tbody>\n",
       "    <tr>\n",
       "      <th>0</th>\n",
       "      <td>15.0</td>\n",
       "      <td>102.0</td>\n",
       "      <td>11.0</td>\n",
       "      <td>575.0</td>\n",
       "      <td>651.0</td>\n",
       "      <td>2507106.0</td>\n",
       "      <td>2561</td>\n",
       "      <td>3894</td>\n",
       "      <td>0.0</td>\n",
       "      <td>21.0</td>\n",
       "      <td>NaN</td>\n",
       "      <td>2013.0</td>\n",
       "      <td>611.0</td>\n",
       "      <td>NaN</td>\n",
       "      <td>0</td>\n",
       "      <td>6.1</td>\n",
       "    </tr>\n",
       "    <tr>\n",
       "      <th>1</th>\n",
       "      <td>279.0</td>\n",
       "      <td>90.0</td>\n",
       "      <td>57.0</td>\n",
       "      <td>92.0</td>\n",
       "      <td>1000.0</td>\n",
       "      <td>258113.0</td>\n",
       "      <td>42678</td>\n",
       "      <td>1528</td>\n",
       "      <td>0.0</td>\n",
       "      <td>135.0</td>\n",
       "      <td>1066167.0</td>\n",
       "      <td>2013.0</td>\n",
       "      <td>235.0</td>\n",
       "      <td>2.35</td>\n",
       "      <td>0</td>\n",
       "      <td>7.1</td>\n",
       "    </tr>\n",
       "    <tr>\n",
       "      <th>2</th>\n",
       "      <td>181.0</td>\n",
       "      <td>81.0</td>\n",
       "      <td>670.0</td>\n",
       "      <td>34.0</td>\n",
       "      <td>486.0</td>\n",
       "      <td>7267324.0</td>\n",
       "      <td>161471</td>\n",
       "      <td>623</td>\n",
       "      <td>1.0</td>\n",
       "      <td>709.0</td>\n",
       "      <td>3500000.0</td>\n",
       "      <td>1998.0</td>\n",
       "      <td>37.0</td>\n",
       "      <td>1.85</td>\n",
       "      <td>0</td>\n",
       "      <td>7.8</td>\n",
       "    </tr>\n",
       "    <tr>\n",
       "      <th>3</th>\n",
       "      <td>48.0</td>\n",
       "      <td>96.0</td>\n",
       "      <td>3.0</td>\n",
       "      <td>38.0</td>\n",
       "      <td>472.0</td>\n",
       "      <td>27445.0</td>\n",
       "      <td>3788</td>\n",
       "      <td>561</td>\n",
       "      <td>5.0</td>\n",
       "      <td>31.0</td>\n",
       "      <td>9000000.0</td>\n",
       "      <td>2011.0</td>\n",
       "      <td>39.0</td>\n",
       "      <td>1.85</td>\n",
       "      <td>1000</td>\n",
       "      <td>5.3</td>\n",
       "    </tr>\n",
       "    <tr>\n",
       "      <th>4</th>\n",
       "      <td>107.0</td>\n",
       "      <td>88.0</td>\n",
       "      <td>6.0</td>\n",
       "      <td>161.0</td>\n",
       "      <td>513.0</td>\n",
       "      <td>NaN</td>\n",
       "      <td>17296</td>\n",
       "      <td>1593</td>\n",
       "      <td>3.0</td>\n",
       "      <td>91.0</td>\n",
       "      <td>NaN</td>\n",
       "      <td>2009.0</td>\n",
       "      <td>480.0</td>\n",
       "      <td>2.35</td>\n",
       "      <td>0</td>\n",
       "      <td>5.2</td>\n",
       "    </tr>\n",
       "  </tbody>\n",
       "</table>\n",
       "</div>"
      ],
      "text/plain": [
       "   num_critic_for_reviews  duration  director_facebook_likes  \\\n",
       "0                    15.0     102.0                     11.0   \n",
       "1                   279.0      90.0                     57.0   \n",
       "2                   181.0      81.0                    670.0   \n",
       "3                    48.0      96.0                      3.0   \n",
       "4                   107.0      88.0                      6.0   \n",
       "\n",
       "   actor_3_facebook_likes  actor_1_facebook_likes      gross  num_voted_users  \\\n",
       "0                   575.0                   651.0  2507106.0             2561   \n",
       "1                    92.0                  1000.0   258113.0            42678   \n",
       "2                    34.0                   486.0  7267324.0           161471   \n",
       "3                    38.0                   472.0    27445.0             3788   \n",
       "4                   161.0                   513.0        NaN            17296   \n",
       "\n",
       "   cast_total_facebook_likes  facenumber_in_poster  num_user_for_reviews  \\\n",
       "0                       3894                   0.0                  21.0   \n",
       "1                       1528                   0.0                 135.0   \n",
       "2                        623                   1.0                 709.0   \n",
       "3                        561                   5.0                  31.0   \n",
       "4                       1593                   3.0                  91.0   \n",
       "\n",
       "      budget  title_year  actor_2_facebook_likes  aspect_ratio  \\\n",
       "0        NaN      2013.0                   611.0           NaN   \n",
       "1  1066167.0      2013.0                   235.0          2.35   \n",
       "2  3500000.0      1998.0                    37.0          1.85   \n",
       "3  9000000.0      2011.0                    39.0          1.85   \n",
       "4        NaN      2009.0                   480.0          2.35   \n",
       "\n",
       "   movie_facebook_likes  imdb_score  \n",
       "0                     0         6.1  \n",
       "1                     0         7.1  \n",
       "2                     0         7.8  \n",
       "3                  1000         5.3  \n",
       "4                     0         5.2  "
      ]
     },
     "execution_count": 12,
     "metadata": {},
     "output_type": "execute_result"
    }
   ],
   "source": [
    "testMovies_nostr = testMovies.select_dtypes(exclude = 'object')\n",
    "trainMovies_nostr = trainMovies.select_dtypes(exclude = 'object')\n",
    "trainMovies_nostr.head()"
   ]
  },
  {
   "cell_type": "markdown",
   "metadata": {},
   "source": [
    "## Activity 2: Split features from target\n",
    "By the way... there are some NaN in the data; when doing SLR you cannot have NaN. Could you solve it?"
   ]
  },
  {
   "cell_type": "code",
   "execution_count": 15,
   "metadata": {},
   "outputs": [],
   "source": [
    "trainMovies_clean = trainMovies_nostr.dropna()\n",
    "testMovies_clean = testMovies_nostr.dropna()\n",
    "trainX = pd.DataFrame(trainMovies_clean, columns = trainMovies_clean.columns.drop(['imdb_score']))\n",
    "trainY = pd.DataFrame(trainMovies_clean, columns = ['imdb_score'])\n",
    "testX = pd.DataFrame(testMovies_clean, columns = testMovies_clean.columns.drop(['imdb_score']))\n",
    "testY = pd.DataFrame(testMovies_clean, columns = ['imdb_score'])"
   ]
  },
  {
   "cell_type": "markdown",
   "metadata": {},
   "source": [
    "## Question: Which is the feature that has the best score on linear model?\n",
    "To answer this question. Take in consideration the following tips:\n",
    "* You are allowed to use for loop\n",
    "* There is a function named \"score\" on the model, use it as the quality metric\n",
    "* Check each model coefficient and interception\n",
    "* Plot the best model and the worst model, according to their features\n",
    "* Does the best depends on the people?"
   ]
  },
  {
   "cell_type": "code",
   "execution_count": 25,
   "metadata": {},
   "outputs": [
    {
     "data": {
      "text/plain": [
       "15"
      ]
     },
     "execution_count": 25,
     "metadata": {},
     "output_type": "execute_result"
    }
   ],
   "source": [
    "scores = []\n",
    "features = trainX.columns"
   ]
  },
  {
   "cell_type": "code",
   "execution_count": 26,
   "metadata": {},
   "outputs": [
    {
     "name": "stdout",
     "output_type": "stream",
     "text": [
      "0 0.1136289692459248\n",
      "1 0.1685916544691045\n",
      "2 0.03170576881914411\n",
      "3 0.00327606742824349\n",
      "4 -0.0185083663980814\n",
      "5 0.04861684702076874\n",
      "6 0.23878505367076353\n",
      "7 -0.0008060288336591004\n",
      "8 0.0025227710888603427\n",
      "9 0.1294300570266772\n",
      "10 -0.01786404026704358\n",
      "11 0.02290196514198639\n",
      "12 0.013546764405935163\n",
      "13 0.0016228450120281401\n",
      "14 0.05939967585557726\n"
     ]
    }
   ],
   "source": [
    "for x in range(len(features)):\n",
    "    singleFeatureModel = linear_model.LinearRegression()\n",
    "    singleFeatureModel.fit(pd.DataFrame(trainX, columns = [features[x]]), trainY)\n",
    "    newscore = singleFeatureModel.score(pd.DataFrame(testX, columns = [features[x]]), testY)\n",
    "    print(x, newscore)\n",
    "    scores = scores + [newscore]"
   ]
  },
  {
   "cell_type": "code",
   "execution_count": 29,
   "metadata": {},
   "outputs": [
    {
     "name": "stdout",
     "output_type": "stream",
     "text": [
      "0.23878505367076353 -0.0185083663980814\n"
     ]
    }
   ],
   "source": [
    "print(max(scores), min(scores))\n",
    "# best one is the 6th one and the worst one is the 4th one\n",
    "bestFeature = features[5]\n",
    "worstFeature = features[3]\n",
    "# best model\n",
    "bestModel = linear_model.LinearRegression()\n",
    "bestModel.fit(pd.DataFrame(trainX, columns = [bestFeature]), trainY)\n",
    "best_pre = bestModel.predict (pd.DataFrame(testX, columns = [bestFeature]))\n",
    "# worst model\n",
    "worstModel = linear_model.LinearRegression()\n",
    "worstModel.fit(pd.DataFrame(trainX, columns = [worstFeature]), trainY)\n",
    "worst_pre = worstModel.predict (pd.DataFrame(testX, columns = [worstFeature]))"
   ]
  },
  {
   "cell_type": "code",
   "execution_count": 30,
   "metadata": {},
   "outputs": [
    {
     "data": {
      "text/plain": [
       "[<matplotlib.lines.Line2D at 0x20cec3fbc50>,\n",
       " <matplotlib.lines.Line2D at 0x20cec3fbfd0>]"
      ]
     },
     "execution_count": 30,
     "metadata": {},
     "output_type": "execute_result"
    },
    {
     "data": {
      "image/png": "[encoded data removed]",
      "text/plain": [
       "<Figure size 432x288 with 1 Axes>"
      ]
     },
     "metadata": {
      "needs_background": "light"
     },
     "output_type": "display_data"
    }
   ],
   "source": [
    "# plot\n",
    "plt.plot(testX[bestFeature], testY['imdb_score'], '.', testX[bestFeature], best_pre, '-')"
   ]
  },
  {
   "cell_type": "code",
   "execution_count": 31,
   "metadata": {},
   "outputs": [
    {
     "data": {
      "text/plain": [
       "[<matplotlib.lines.Line2D at 0x20ceaab8320>,\n",
       " <matplotlib.lines.Line2D at 0x20ceaab86a0>]"
      ]
     },
     "execution_count": 31,
     "metadata": {},
     "output_type": "execute_result"
    },
    {
     "data": {
      "image/png": "[encoded data removed]",
      "text/plain": [
       "<Figure size 432x288 with 1 Axes>"
      ]
     },
     "metadata": {
      "needs_background": "light"
     },
     "output_type": "display_data"
    }
   ],
   "source": [
    "plt.plot(testX[worstFeature], testY['imdb_score'], '.', testX[worstFeature], worst_pre, '-')"
   ]
  },
  {
   "cell_type": "markdown",
   "metadata": {},
   "source": [
    "### Did your best effort gave you 0.24? Could you try better?"
   ]
  },
  {
   "cell_type": "code",
   "execution_count": 37,
   "metadata": {},
   "outputs": [
    {
     "data": {
      "text/plain": [
       "0.3645461735640476"
      ]
     },
     "execution_count": 37,
     "metadata": {},
     "output_type": "execute_result"
    }
   ],
   "source": [
    "# multiple features model with lasso\n",
    "alpha = 1e-4\n",
    "lassoModel = linear_model.Lasso(alpha = alpha, normalize = True)\n",
    "lassoModel.fit(trainX, trainY)\n",
    "lassoModel.score(testX, testY)"
   ]
  },
  {
   "cell_type": "code",
   "execution_count": 44,
   "metadata": {},
   "outputs": [
    {
     "data": {
      "text/plain": [
       "0.36597491201439813"
      ]
     },
     "execution_count": 44,
     "metadata": {},
     "output_type": "execute_result"
    }
   ],
   "source": [
    "# multiple features model with ridge\n",
    "l2_small_penalty = 1e-5\n",
    "ridgeModel = linear_model.Ridge(alpha=l2_small_penalty, normalize = True)\n",
    "ridgeModel.fit(trainX, trainY)\n",
    "ridgeModel.score(testX, testY)"
   ]
  },
  {
   "cell_type": "code",
   "execution_count": null,
   "metadata": {},
   "outputs": [],
   "source": []
  }
 ],
 "metadata": {
  "kernelspec": {
   "display_name": "Python 3",
   "language": "python",
   "name": "python3"
  },
  "language_info": {
   "codemirror_mode": {
    "name": "ipython",
    "version": 3
   },
   "file_extension": ".py",
   "mimetype": "text/x-python",
   "name": "python",
   "nbconvert_exporter": "python",
   "pygments_lexer": "ipython3",
   "version": "3.6.7"
  }
 },
 "nbformat": 4,
 "nbformat_minor": 2
}
